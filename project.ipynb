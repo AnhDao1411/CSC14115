{
 "cells": [
  {
   "cell_type": "markdown",
   "id": "0af5eb79",
   "metadata": {
    "papermill": {
     "duration": 0.002281,
     "end_time": "2022-06-21T07:12:08.933283",
     "exception": false,
     "start_time": "2022-06-21T07:12:08.931002",
     "status": "completed"
    },
    "tags": []
   },
   "source": [
    "# New York City Taxi Trip Duration\n",
    "\n",
    "## Problem Statement\n",
    "\n",
    "### Overview\n",
    "This is a kaggle competition that challenges us to predict the taxi trip duration in New York city. Dataset is provided by the NYC taxi and Limousine commision for building a model.\n",
    "\n",
    "Money prize: 30,000$.\n",
    "\n",
    "Business motivation: providing good driving time estimation to\n",
    "- Detect bottlenecks that appear in the taxi traffic network.\n",
    "- Predict the taxi trip price. \n",
    "\n",
    "Input: a taxi trip with it's attributes. \\\n",
    "Output: trip duration in seconds. \n",
    " \n",
    "### Input and Output Data description\n",
    "\n",
    "There are three files:\n",
    "- train.csv: (1458644,11)\n",
    "- test.csv: (625134,9)\n",
    "- sample_submission.csv: (625134,2) \n",
    "\n",
    "| Column name | Description | \n",
    "| -------- | -------- | \n",
    "| id   | the id for each trip     |\n",
    "| vendor_id   | the id provided Associated with the trip record     |\n",
    "| pickup_datetime   | date and time when the meter was engaged     |\n",
    "| dropoff_datetime   | date and time when the meter was disengaged    |\n",
    "| passenger_count   | The number of passengers in the taxi    |\n",
    "| pickup_longitude   | the longitude when the meter was engaged     |\n",
    "| pickup_latitude   | the latitude when the meter was engaged   |\n",
    "| dropoff_longitude   | the longitude when the meter was disengaged     |\n",
    "| dropoff_latitude   | the latitude when the meter was disengaged     |\n",
    "| store_and_fwd_flag   | This flag indicates whether the trip record was held in vehicle memory before sending to the vendor because the vehicle did not have a connection to the server  |\n",
    "| trip_duration  | duration of the trip in seconds     |\n",
    "\n",
    "\n",
    "- A record in train.csv\n",
    "\n",
    "![](https://i.imgur.com/LtLFbTO.png)\n",
    "\n",
    "- A record in test.csv\n",
    "![](https://i.imgur.com/gEJR1jT.png)\n",
    "\n",
    "- A record in sample_submission.csv\n",
    "![](https://i.imgur.com/zwq0ezw.png)\n",
    "\n",
    "\n",
    "### Evaluation Metric\n",
    "- **Root Mean Squared Logarithmic Error** (RMSLE) is the metric was used to assess the result of this contest.\n",
    "\n",
    "$$\\epsilon = \\sqrt{\\frac{1}{n}\\sum^{n}_{i=1}(log(p_i + 1) -log(a_i + 1)) ^2}$$\n",
    "\n",
    "* With respect to:\n",
    "    * $\\epsilon$: RMSLE score\n",
    "    * n: the number of records (trip duration's observations) in the dataset\n",
    "    * $p_i$: the prediction of trip duration\n",
    "    * $a_i$: the actual value of trip duration\n",
    "    * log(x): natural logarithm (base is e)\n",
    "\n",
    "* **The smaller the RMSLE value is, the better the model**."
   ]
  },
  {
   "cell_type": "code",
   "execution_count": null,
   "id": "b6d6a39e",
   "metadata": {
    "papermill": {
     "duration": 0.001148,
     "end_time": "2022-06-21T07:12:08.936129",
     "exception": false,
     "start_time": "2022-06-21T07:12:08.934981",
     "status": "completed"
    },
    "tags": []
   },
   "outputs": [],
   "source": []
  }
 ],
 "metadata": {
  "kernelspec": {
   "display_name": "Python 3",
   "language": "python",
   "name": "python3"
  },
  "language_info": {
   "codemirror_mode": {
    "name": "ipython",
    "version": 3
   },
   "file_extension": ".py",
   "mimetype": "text/x-python",
   "name": "python",
   "nbconvert_exporter": "python",
   "pygments_lexer": "ipython3",
   "version": "3.7.12"
  },
  "papermill": {
   "default_parameters": {},
   "duration": 9.779704,
   "end_time": "2022-06-21T07:12:09.558249",
   "environment_variables": {},
   "exception": null,
   "input_path": "__notebook__.ipynb",
   "output_path": "__notebook__.ipynb",
   "parameters": {},
   "start_time": "2022-06-21T07:11:59.778545",
   "version": "2.3.4"
  }
 },
 "nbformat": 4,
 "nbformat_minor": 5
}
