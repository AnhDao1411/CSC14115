{
 "cells": [
  {
   "cell_type": "markdown",
   "id": "19b60e8b",
   "metadata": {
    "papermill": {
     "duration": 0.003734,
     "end_time": "2022-06-21T09:16:55.916890",
     "exception": false,
     "start_time": "2022-06-21T09:16:55.913156",
     "status": "completed"
    },
    "tags": []
   },
   "source": [
    "# New York City Taxi Trip Duration\n",
    "\n",
    "## Problem Statement\n",
    "\n",
    "### Overview\n",
    "This is a kaggle competition that challenges us to predict the taxi trip duration in New York city. Dataset is provided by the NYC taxi and Limousine commision for building a model.\n",
    "\n",
    "Money prize: 30,000$.\n",
    "\n",
    "Business motivation: providing good driving time estimation to\n",
    "- Detect bottlenecks that appear in the taxi traffic network.\n",
    "- Predict the taxi trip price. \n",
    "\n",
    "Input: a taxi trip with it's attributes. \\\n",
    "Output: trip duration in seconds. \n",
    " \n",
    "### Input and Output Data description\n",
    "\n",
    "There are three files:\n",
    "- train.csv: (1458644,11)\n",
    "- test.csv: (625134,9)\n",
    "- sample_submission.csv: (625134,2) \n",
    "\n",
    "| Column name | Description | \n",
    "| -------- | -------- | \n",
    "| id   | the id for each trip     |\n",
    "| vendor_id   | the id provided Associated with the trip record     |\n",
    "| pickup_datetime   | date and time when the meter was engaged     |\n",
    "| dropoff_datetime   | date and time when the meter was disengaged    |\n",
    "| passenger_count   | The number of passengers in the taxi    |\n",
    "| pickup_longitude   | the longitude when the meter was engaged     |\n",
    "| pickup_latitude   | the latitude when the meter was engaged   |\n",
    "| dropoff_longitude   | the longitude when the meter was disengaged     |\n",
    "| dropoff_latitude   | the latitude when the meter was disengaged     |\n",
    "| store_and_fwd_flag   | This flag indicates whether the trip record was held in vehicle memory before sending to the vendor because the vehicle did not have a connection to the server  |\n",
    "| trip_duration  | duration of the trip in seconds     |\n",
    "\n",
    "\n",
    "- A record in train.csv\n",
    "\n",
    "![](https://i.imgur.com/LtLFbTO.png)\n",
    "\n",
    "- A record in test.csv\n",
    "![](https://i.imgur.com/gEJR1jT.png)\n",
    "\n",
    "- A record in sample_submission.csv\n",
    "![](https://i.imgur.com/zwq0ezw.png)\n",
    "\n",
    "\n",
    "\n",
    "\n",
    "### Evaluation Metric\n",
    "- **Root Mean Squared Logarithmic Error** (RMSLE) is the metric was used to assess the result of this contest.\n",
    "\n",
    "$$\\epsilon = \\sqrt{\\frac{1}{n}\\sum^{n}_{i=1}(log(p_i + 1) -log(a_i + 1)) ^2}$$\n",
    "\n",
    "* With respect to:\n",
    "    * $\\epsilon$: RMSLE score\n",
    "    * n: the number of records (trip duration's observations) in the dataset\n",
    "    * $p_i$: the prediction of trip duration\n",
    "    * $a_i$: the actual value of trip duration\n",
    "    * log(x): natural logarithm (base is e)\n",
    "\n",
    "* **The smaller the RMSLE value is, the better the model**."
   ]
  },
  {
   "cell_type": "code",
   "execution_count": 1,
   "id": "8d8e5d98",
   "metadata": {
    "execution": {
     "iopub.execute_input": "2022-06-21T09:16:55.927134Z",
     "iopub.status.busy": "2022-06-21T09:16:55.926710Z",
     "iopub.status.idle": "2022-06-21T09:16:57.387291Z",
     "shell.execute_reply": "2022-06-21T09:16:57.386215Z"
    },
    "papermill": {
     "duration": 1.467039,
     "end_time": "2022-06-21T09:16:57.389577",
     "exception": false,
     "start_time": "2022-06-21T09:16:55.922538",
     "status": "completed"
    },
    "tags": []
   },
   "outputs": [],
   "source": [
    "# Crafting good features for XGBoost \n",
    "\n",
    "%matplotlib inline\n",
    "import numpy as np # linear algebra\n",
    "import pandas as pd # data processing, CSV file I/O (e.g. pd.read_csv)\n",
    "from datetime import timedelta\n",
    "import datetime as dt\n",
    "import matplotlib.pyplot as plt\n",
    "plt.rcParams['figure.figsize'] = [16, 10]\n",
    "import seaborn as sns\n",
    "import xgboost as xgb\n",
    "from sklearn.model_selection import train_test_split\n",
    "from sklearn.decomposition import PCA\n",
    "from sklearn.cluster import MiniBatchKMeans\n",
    "import warnings\n",
    "warnings.filterwarnings('ignore')"
   ]
  },
  {
   "cell_type": "code",
   "execution_count": 2,
   "id": "fbc6a56a",
   "metadata": {
    "execution": {
     "iopub.execute_input": "2022-06-21T09:16:57.397331Z",
     "iopub.status.busy": "2022-06-21T09:16:57.396950Z",
     "iopub.status.idle": "2022-06-21T09:17:02.578704Z",
     "shell.execute_reply": "2022-06-21T09:17:02.577794Z"
    },
    "papermill": {
     "duration": 5.188053,
     "end_time": "2022-06-21T09:17:02.580865",
     "exception": false,
     "start_time": "2022-06-21T09:16:57.392812",
     "status": "completed"
    },
    "tags": []
   },
   "outputs": [
    {
     "name": "stdout",
     "output_type": "stream",
     "text": [
      "Archive:  ../input/nyc-taxi-trip-duration/train.zip\r\n",
      "  inflating: nyc-taxi-trip-duration/train.csv  \r\n",
      "Archive:  ../input/nyc-taxi-trip-duration/test.zip\r\n",
      "  inflating: nyc-taxi-trip-duration/test.csv  \r\n",
      "Archive:  ../input/nyc-taxi-trip-duration/sample_submission.zip\r\n",
      "  inflating: nyc-taxi-trip-duration/sample_submission.csv  \r\n"
     ]
    }
   ],
   "source": [
    "!unzip ../input/nyc-taxi-trip-duration/train.zip -d nyc-taxi-trip-duration\n",
    "!unzip ../input/nyc-taxi-trip-duration/test.zip -d nyc-taxi-trip-duration\n",
    "!unzip ../input/nyc-taxi-trip-duration/sample_submission.zip -d nyc-taxi-trip-duration"
   ]
  },
  {
   "cell_type": "code",
   "execution_count": 3,
   "id": "365f2a14",
   "metadata": {
    "execution": {
     "iopub.execute_input": "2022-06-21T09:17:02.590069Z",
     "iopub.status.busy": "2022-06-21T09:17:02.589024Z",
     "iopub.status.idle": "2022-06-21T09:17:08.535103Z",
     "shell.execute_reply": "2022-06-21T09:17:08.534035Z"
    },
    "papermill": {
     "duration": 5.953443,
     "end_time": "2022-06-21T09:17:08.537727",
     "exception": false,
     "start_time": "2022-06-21T09:17:02.584284",
     "status": "completed"
    },
    "tags": []
   },
   "outputs": [],
   "source": [
    "np.random.seed(1987)\n",
    "N = 100000 # number of sample rows in plots\n",
    "t0 = dt.datetime.now()\n",
    "train = pd.read_csv('./nyc-taxi-trip-duration/train.csv')\n",
    "test = pd.read_csv('./nyc-taxi-trip-duration/test.csv')\n",
    "sample_submission = pd.read_csv('./nyc-taxi-trip-duration/sample_submission.csv')"
   ]
  },
  {
   "cell_type": "code",
   "execution_count": 4,
   "id": "1e22dec4",
   "metadata": {
    "execution": {
     "iopub.execute_input": "2022-06-21T09:17:08.546108Z",
     "iopub.status.busy": "2022-06-21T09:17:08.545454Z",
     "iopub.status.idle": "2022-06-21T09:17:08.551702Z",
     "shell.execute_reply": "2022-06-21T09:17:08.550785Z"
    },
    "papermill": {
     "duration": 0.012463,
     "end_time": "2022-06-21T09:17:08.553546",
     "exception": false,
     "start_time": "2022-06-21T09:17:08.541083",
     "status": "completed"
    },
    "tags": []
   },
   "outputs": [],
   "source": [
    "def check_basic(df, df_type=\"train\"):\n",
    "    print(\"{} DF has {} rows and {} columns\".format(df_type,df.shape[0], df.shape[1]))\n",
    "    if df.id.nunique() == df.shape[0]:\n",
    "        print(\"1. Id is unique\")\n",
    "    if not df.isnull().any().any(): \n",
    "        print(\"2. No missing value\")\n",
    "  \n",
    "def check_consistent():\n",
    "    pass"
   ]
  },
  {
   "cell_type": "code",
   "execution_count": 5,
   "id": "67a48d19",
   "metadata": {
    "execution": {
     "iopub.execute_input": "2022-06-21T09:17:08.562076Z",
     "iopub.status.busy": "2022-06-21T09:17:08.561295Z",
     "iopub.status.idle": "2022-06-21T09:17:08.583943Z",
     "shell.execute_reply": "2022-06-21T09:17:08.582919Z"
    },
    "papermill": {
     "duration": 0.029104,
     "end_time": "2022-06-21T09:17:08.586211",
     "exception": false,
     "start_time": "2022-06-21T09:17:08.557107",
     "status": "completed"
    },
    "tags": []
   },
   "outputs": [
    {
     "data": {
      "text/html": [
       "<div>\n",
       "<style scoped>\n",
       "    .dataframe tbody tr th:only-of-type {\n",
       "        vertical-align: middle;\n",
       "    }\n",
       "\n",
       "    .dataframe tbody tr th {\n",
       "        vertical-align: top;\n",
       "    }\n",
       "\n",
       "    .dataframe thead th {\n",
       "        text-align: right;\n",
       "    }\n",
       "</style>\n",
       "<table border=\"1\" class=\"dataframe\">\n",
       "  <thead>\n",
       "    <tr style=\"text-align: right;\">\n",
       "      <th></th>\n",
       "      <th>id</th>\n",
       "      <th>vendor_id</th>\n",
       "      <th>pickup_datetime</th>\n",
       "      <th>dropoff_datetime</th>\n",
       "      <th>passenger_count</th>\n",
       "      <th>pickup_longitude</th>\n",
       "      <th>pickup_latitude</th>\n",
       "      <th>dropoff_longitude</th>\n",
       "      <th>dropoff_latitude</th>\n",
       "      <th>store_and_fwd_flag</th>\n",
       "      <th>trip_duration</th>\n",
       "    </tr>\n",
       "  </thead>\n",
       "  <tbody>\n",
       "    <tr>\n",
       "      <th>0</th>\n",
       "      <td>id2875421</td>\n",
       "      <td>2</td>\n",
       "      <td>2016-03-14 17:24:55</td>\n",
       "      <td>2016-03-14 17:32:30</td>\n",
       "      <td>1</td>\n",
       "      <td>-73.982155</td>\n",
       "      <td>40.767937</td>\n",
       "      <td>-73.964630</td>\n",
       "      <td>40.765602</td>\n",
       "      <td>N</td>\n",
       "      <td>455</td>\n",
       "    </tr>\n",
       "    <tr>\n",
       "      <th>1</th>\n",
       "      <td>id2377394</td>\n",
       "      <td>1</td>\n",
       "      <td>2016-06-12 00:43:35</td>\n",
       "      <td>2016-06-12 00:54:38</td>\n",
       "      <td>1</td>\n",
       "      <td>-73.980415</td>\n",
       "      <td>40.738564</td>\n",
       "      <td>-73.999481</td>\n",
       "      <td>40.731152</td>\n",
       "      <td>N</td>\n",
       "      <td>663</td>\n",
       "    </tr>\n",
       "  </tbody>\n",
       "</table>\n",
       "</div>"
      ],
      "text/plain": [
       "          id  vendor_id      pickup_datetime     dropoff_datetime  \\\n",
       "0  id2875421          2  2016-03-14 17:24:55  2016-03-14 17:32:30   \n",
       "1  id2377394          1  2016-06-12 00:43:35  2016-06-12 00:54:38   \n",
       "\n",
       "   passenger_count  pickup_longitude  pickup_latitude  dropoff_longitude  \\\n",
       "0                1        -73.982155        40.767937         -73.964630   \n",
       "1                1        -73.980415        40.738564         -73.999481   \n",
       "\n",
       "   dropoff_latitude store_and_fwd_flag  trip_duration  \n",
       "0         40.765602                  N            455  \n",
       "1         40.731152                  N            663  "
      ]
     },
     "execution_count": 5,
     "metadata": {},
     "output_type": "execute_result"
    }
   ],
   "source": [
    "train.head(2)"
   ]
  },
  {
   "cell_type": "code",
   "execution_count": 6,
   "id": "db21b804",
   "metadata": {
    "execution": {
     "iopub.execute_input": "2022-06-21T09:17:08.594714Z",
     "iopub.status.busy": "2022-06-21T09:17:08.594311Z",
     "iopub.status.idle": "2022-06-21T09:17:09.301891Z",
     "shell.execute_reply": "2022-06-21T09:17:09.301130Z"
    },
    "papermill": {
     "duration": 0.714153,
     "end_time": "2022-06-21T09:17:09.303965",
     "exception": false,
     "start_time": "2022-06-21T09:17:08.589812",
     "status": "completed"
    },
    "tags": []
   },
   "outputs": [
    {
     "name": "stdout",
     "output_type": "stream",
     "text": [
      "train DF has 1458644 rows and 11 columns\n",
      "1. Id is unique\n",
      "2. No missing value\n"
     ]
    }
   ],
   "source": [
    "check_basic(train, df_type=\"train\")"
   ]
  },
  {
   "cell_type": "code",
   "execution_count": 7,
   "id": "5b30baa6",
   "metadata": {
    "execution": {
     "iopub.execute_input": "2022-06-21T09:17:09.312654Z",
     "iopub.status.busy": "2022-06-21T09:17:09.312297Z",
     "iopub.status.idle": "2022-06-21T09:17:09.324458Z",
     "shell.execute_reply": "2022-06-21T09:17:09.323573Z"
    },
    "papermill": {
     "duration": 0.018893,
     "end_time": "2022-06-21T09:17:09.326394",
     "exception": false,
     "start_time": "2022-06-21T09:17:09.307501",
     "status": "completed"
    },
    "tags": []
   },
   "outputs": [
    {
     "data": {
      "text/html": [
       "<div>\n",
       "<style scoped>\n",
       "    .dataframe tbody tr th:only-of-type {\n",
       "        vertical-align: middle;\n",
       "    }\n",
       "\n",
       "    .dataframe tbody tr th {\n",
       "        vertical-align: top;\n",
       "    }\n",
       "\n",
       "    .dataframe thead th {\n",
       "        text-align: right;\n",
       "    }\n",
       "</style>\n",
       "<table border=\"1\" class=\"dataframe\">\n",
       "  <thead>\n",
       "    <tr style=\"text-align: right;\">\n",
       "      <th></th>\n",
       "      <th>id</th>\n",
       "      <th>vendor_id</th>\n",
       "      <th>pickup_datetime</th>\n",
       "      <th>passenger_count</th>\n",
       "      <th>pickup_longitude</th>\n",
       "      <th>pickup_latitude</th>\n",
       "      <th>dropoff_longitude</th>\n",
       "      <th>dropoff_latitude</th>\n",
       "      <th>store_and_fwd_flag</th>\n",
       "    </tr>\n",
       "  </thead>\n",
       "  <tbody>\n",
       "    <tr>\n",
       "      <th>0</th>\n",
       "      <td>id3004672</td>\n",
       "      <td>1</td>\n",
       "      <td>2016-06-30 23:59:58</td>\n",
       "      <td>1</td>\n",
       "      <td>-73.988129</td>\n",
       "      <td>40.732029</td>\n",
       "      <td>-73.990173</td>\n",
       "      <td>40.756680</td>\n",
       "      <td>N</td>\n",
       "    </tr>\n",
       "    <tr>\n",
       "      <th>1</th>\n",
       "      <td>id3505355</td>\n",
       "      <td>1</td>\n",
       "      <td>2016-06-30 23:59:53</td>\n",
       "      <td>1</td>\n",
       "      <td>-73.964203</td>\n",
       "      <td>40.679993</td>\n",
       "      <td>-73.959808</td>\n",
       "      <td>40.655403</td>\n",
       "      <td>N</td>\n",
       "    </tr>\n",
       "  </tbody>\n",
       "</table>\n",
       "</div>"
      ],
      "text/plain": [
       "          id  vendor_id      pickup_datetime  passenger_count  \\\n",
       "0  id3004672          1  2016-06-30 23:59:58                1   \n",
       "1  id3505355          1  2016-06-30 23:59:53                1   \n",
       "\n",
       "   pickup_longitude  pickup_latitude  dropoff_longitude  dropoff_latitude  \\\n",
       "0        -73.988129        40.732029         -73.990173         40.756680   \n",
       "1        -73.964203        40.679993         -73.959808         40.655403   \n",
       "\n",
       "  store_and_fwd_flag  \n",
       "0                  N  \n",
       "1                  N  "
      ]
     },
     "execution_count": 7,
     "metadata": {},
     "output_type": "execute_result"
    }
   ],
   "source": [
    "test.head(2)"
   ]
  },
  {
   "cell_type": "code",
   "execution_count": 8,
   "id": "085d0f08",
   "metadata": {
    "execution": {
     "iopub.execute_input": "2022-06-21T09:17:09.335867Z",
     "iopub.status.busy": "2022-06-21T09:17:09.335343Z",
     "iopub.status.idle": "2022-06-21T09:17:09.583324Z",
     "shell.execute_reply": "2022-06-21T09:17:09.582663Z"
    },
    "papermill": {
     "duration": 0.254956,
     "end_time": "2022-06-21T09:17:09.585244",
     "exception": false,
     "start_time": "2022-06-21T09:17:09.330288",
     "status": "completed"
    },
    "tags": []
   },
   "outputs": [
    {
     "name": "stdout",
     "output_type": "stream",
     "text": [
      "test DF has 625134 rows and 9 columns\n",
      "1. Id is unique\n",
      "2. No missing value\n"
     ]
    }
   ],
   "source": [
    "check_basic(test, df_type=\"test\")"
   ]
  },
  {
   "cell_type": "code",
   "execution_count": 9,
   "id": "9d744909",
   "metadata": {
    "execution": {
     "iopub.execute_input": "2022-06-21T09:17:09.594538Z",
     "iopub.status.busy": "2022-06-21T09:17:09.594045Z",
     "iopub.status.idle": "2022-06-21T09:17:10.006961Z",
     "shell.execute_reply": "2022-06-21T09:17:10.006012Z"
    },
    "papermill": {
     "duration": 0.419974,
     "end_time": "2022-06-21T09:17:10.009090",
     "exception": false,
     "start_time": "2022-06-21T09:17:09.589116",
     "status": "completed"
    },
    "tags": []
   },
   "outputs": [
    {
     "data": {
      "image/png": "[encoded data removed]",
      "text/plain": [
       "<Figure size 1152x720 with 1 Axes>"
      ]
     },
     "metadata": {
      "needs_background": "light"
     },
     "output_type": "display_data"
    }
   ],
   "source": [
    "train['log_trip_duration'] = np.log(train['trip_duration'].values + 1)\n",
    "plt.hist(train['log_trip_duration'].values, bins=100)\n",
    "plt.xlabel('log(trip_duration)')\n",
    "plt.ylabel('number of train records')\n",
    "plt.show()"
   ]
  },
  {
   "cell_type": "code",
   "execution_count": 10,
   "id": "4c0c20ac",
   "metadata": {
    "execution": {
     "iopub.execute_input": "2022-06-21T09:17:10.019286Z",
     "iopub.status.busy": "2022-06-21T09:17:10.018746Z",
     "iopub.status.idle": "2022-06-21T09:17:10.022331Z",
     "shell.execute_reply": "2022-06-21T09:17:10.021420Z"
    },
    "papermill": {
     "duration": 0.010898,
     "end_time": "2022-06-21T09:17:10.024366",
     "exception": false,
     "start_time": "2022-06-21T09:17:10.013468",
     "status": "completed"
    },
    "tags": []
   },
   "outputs": [],
   "source": [
    "# Check time_duration = time_drop - time_pick"
   ]
  }
 ],
 "metadata": {
  "kernelspec": {
   "display_name": "Python 3",
   "language": "python",
   "name": "python3"
  },
  "language_info": {
   "codemirror_mode": {
    "name": "ipython",
    "version": 3
   },
   "file_extension": ".py",
   "mimetype": "text/x-python",
   "name": "python",
   "nbconvert_exporter": "python",
   "pygments_lexer": "ipython3",
   "version": "3.7.12"
  },
  "papermill": {
   "default_parameters": {},
   "duration": 23.401597,
   "end_time": "2022-06-21T09:17:10.952489",
   "environment_variables": {},
   "exception": null,
   "input_path": "__notebook__.ipynb",
   "output_path": "__notebook__.ipynb",
   "parameters": {},
   "start_time": "2022-06-21T09:16:47.550892",
   "version": "2.3.4"
  }
 },
 "nbformat": 4,
 "nbformat_minor": 5
}
