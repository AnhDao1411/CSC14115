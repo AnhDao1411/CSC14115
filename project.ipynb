{
 "cells": [
  {
   "cell_type": "markdown",
   "id": "0190a467",
   "metadata": {
    "papermill": {
     "duration": 0.012248,
     "end_time": "2022-06-26T23:23:12.043415",
     "exception": false,
     "start_time": "2022-06-26T23:23:12.031167",
     "status": "completed"
    },
    "tags": []
   },
   "source": [
    "# New York City Taxi Trip Duration\n",
    "\n",
    "## Problem Statement\n",
    "\n",
    "### Overview\n",
    "This is a kaggle competition that challenges us to predict the taxi trip duration in New York city. Dataset is provided by the NYC taxi and Limousine commision for building a model.\n",
    "\n",
    "Money prize: 30,000$.\n",
    "\n",
    "Business motivation: providing good driving time estimation to\n",
    "- Detect bottlenecks that appear in the taxi traffic network.\n",
    "- Predict the taxi trip price. \n",
    "\n",
    "Input: a taxi trip with it's attributes. \\\n",
    "Output: trip duration in seconds. \n",
    " \n",
    "### Input and Output Data description\n",
    "\n",
    "There are three files:\n",
    "- train.csv: (1458644,11)\n",
    "- test.csv: (625134,9)\n",
    "- sample_submission.csv: (625134,2) \n",
    "\n",
    "| Column name | Description | \n",
    "| -------- | -------- | \n",
    "| id   | the id for each trip     |\n",
    "| vendor_id   | the id provided Associated with the trip record     |\n",
    "| pickup_datetime   | date and time when the meter was engaged     |\n",
    "| dropoff_datetime   | date and time when the meter was disengaged    |\n",
    "| passenger_count   | The number of passengers in the taxi    |\n",
    "| pickup_longitude   | the longitude when the meter was engaged     |\n",
    "| pickup_latitude   | the latitude when the meter was engaged   |\n",
    "| dropoff_longitude   | the longitude when the meter was disengaged     |\n",
    "| dropoff_latitude   | the latitude when the meter was disengaged     |\n",
    "| store_and_fwd_flag   | This flag indicates whether the trip record was held in vehicle memory before sending to the vendor because the vehicle did not have a connection to the server  |\n",
    "| trip_duration  | duration of the trip in seconds     |\n",
    "\n",
    "\n",
    "- A record in train.csv\n",
    "\n",
    "![](https://i.imgur.com/LtLFbTO.png)\n",
    "\n",
    "- A record in test.csv\n",
    "![](https://i.imgur.com/gEJR1jT.png)\n",
    "\n",
    "- A record in sample_submission.csv\n",
    "![](https://i.imgur.com/zwq0ezw.png)\n",
    "\n",
    "\n",
    "\n",
    "\n",
    "### Evaluation Metric\n",
    "- **Root Mean Squared Logarithmic Error** (RMSLE) is the metric was used to assess the result of this contest.\n",
    "\n",
    "$$\\epsilon = \\sqrt{\\frac{1}{n}\\sum^{n}_{i=1}(log(p_i + 1) -log(a_i + 1)) ^2}$$\n",
    "\n",
    "* With respect to:\n",
    "    * $\\epsilon$: RMSLE score\n",
    "    * n: the number of records (trip duration's observations) in the dataset\n",
    "    * $p_i$: the prediction of trip duration\n",
    "    * $a_i$: the actual value of trip duration\n",
    "    * log(x): natural logarithm (base is e)\n",
    "\n",
    "* **The smaller the RMSLE value is, the better the model**."
   ]
  },
  {
   "cell_type": "code",
   "execution_count": 1,
   "id": "f7fb069c",
   "metadata": {
    "execution": {
     "iopub.execute_input": "2022-06-26T23:23:12.067426Z",
     "iopub.status.busy": "2022-06-26T23:23:12.066475Z",
     "iopub.status.idle": "2022-06-26T23:23:13.858248Z",
     "shell.execute_reply": "2022-06-26T23:23:13.857333Z"
    },
    "papermill": {
     "duration": 1.806753,
     "end_time": "2022-06-26T23:23:13.860952",
     "exception": false,
     "start_time": "2022-06-26T23:23:12.054199",
     "status": "completed"
    },
    "tags": []
   },
   "outputs": [],
   "source": [
    "# Crafting good features for XGBoost \n",
    "\n",
    "%matplotlib inline\n",
    "import numpy as np \n",
    "import pandas as pd\n",
    "from datetime import timedelta\n",
    "import datetime as dt\n",
    "import matplotlib.pyplot as plt\n",
    "import random\n",
    "\n",
    "plt.rcParams['figure.figsize'] = [20, 15]\n",
    "\n",
    "import seaborn as sns\n",
    "import xgboost as xgb\n",
    "from sklearn.model_selection import train_test_split\n",
    "from sklearn.decomposition import PCA\n",
    "from sklearn.cluster import MiniBatchKMeans\n",
    "import warnings\n",
    "warnings.filterwarnings('ignore')"
   ]
  },
  {
   "cell_type": "code",
   "execution_count": 2,
   "id": "99f9221b",
   "metadata": {
    "execution": {
     "iopub.execute_input": "2022-06-26T23:23:13.885872Z",
     "iopub.status.busy": "2022-06-26T23:23:13.885374Z",
     "iopub.status.idle": "2022-06-26T23:23:13.890567Z",
     "shell.execute_reply": "2022-06-26T23:23:13.889550Z"
    },
    "papermill": {
     "duration": 0.019542,
     "end_time": "2022-06-26T23:23:13.892842",
     "exception": false,
     "start_time": "2022-06-26T23:23:13.873300",
     "status": "completed"
    },
    "tags": []
   },
   "outputs": [],
   "source": [
    "pd.set_option('display.float_format', lambda x: '%.2f' % x)"
   ]
  },
  {
   "cell_type": "code",
   "execution_count": 3,
   "id": "becfaff6",
   "metadata": {
    "execution": {
     "iopub.execute_input": "2022-06-26T23:23:13.916991Z",
     "iopub.status.busy": "2022-06-26T23:23:13.916287Z",
     "iopub.status.idle": "2022-06-26T23:23:19.045532Z",
     "shell.execute_reply": "2022-06-26T23:23:19.044483Z"
    },
    "papermill": {
     "duration": 5.144178,
     "end_time": "2022-06-26T23:23:19.048193",
     "exception": false,
     "start_time": "2022-06-26T23:23:13.904015",
     "status": "completed"
    },
    "tags": []
   },
   "outputs": [
    {
     "name": "stdout",
     "output_type": "stream",
     "text": [
      "Archive:  ../input/nyc-taxi-trip-duration/train.zip\r\n",
      "  inflating: nyc-taxi-trip-duration/train.csv  \r\n",
      "Archive:  ../input/nyc-taxi-trip-duration/test.zip\r\n",
      "  inflating: nyc-taxi-trip-duration/test.csv  \r\n",
      "Archive:  ../input/nyc-taxi-trip-duration/sample_submission.zip\r\n",
      "  inflating: nyc-taxi-trip-duration/sample_submission.csv  \r\n"
     ]
    }
   ],
   "source": [
    "!unzip ../input/nyc-taxi-trip-duration/train.zip -d nyc-taxi-trip-duration\n",
    "!unzip ../input/nyc-taxi-trip-duration/test.zip -d nyc-taxi-trip-duration\n",
    "!unzip ../input/nyc-taxi-trip-duration/sample_submission.zip -d nyc-taxi-trip-duration"
   ]
  },
  {
   "cell_type": "code",
   "execution_count": 4,
   "id": "af2113c7",
   "metadata": {
    "execution": {
     "iopub.execute_input": "2022-06-26T23:23:19.072718Z",
     "iopub.status.busy": "2022-06-26T23:23:19.072340Z",
     "iopub.status.idle": "2022-06-26T23:23:25.703014Z",
     "shell.execute_reply": "2022-06-26T23:23:25.701860Z"
    },
    "papermill": {
     "duration": 6.645923,
     "end_time": "2022-06-26T23:23:25.705575",
     "exception": false,
     "start_time": "2022-06-26T23:23:19.059652",
     "status": "completed"
    },
    "tags": []
   },
   "outputs": [],
   "source": [
    "np.random.seed(1987)\n",
    "N = 100000 # number of sample rows in plots\n",
    "t0 = dt.datetime.now()\n",
    "train = pd.read_csv('./nyc-taxi-trip-duration/train.csv')\n",
    "test = pd.read_csv('./nyc-taxi-trip-duration/test.csv')\n",
    "sample_submission = pd.read_csv('./nyc-taxi-trip-duration/sample_submission.csv')"
   ]
  },
  {
   "cell_type": "code",
   "execution_count": 5,
   "id": "3048c1ba",
   "metadata": {
    "execution": {
     "iopub.execute_input": "2022-06-26T23:23:25.730994Z",
     "iopub.status.busy": "2022-06-26T23:23:25.730638Z",
     "iopub.status.idle": "2022-06-26T23:23:25.752929Z",
     "shell.execute_reply": "2022-06-26T23:23:25.751737Z"
    },
    "papermill": {
     "duration": 0.038057,
     "end_time": "2022-06-26T23:23:25.755371",
     "exception": false,
     "start_time": "2022-06-26T23:23:25.717314",
     "status": "completed"
    },
    "tags": []
   },
   "outputs": [
    {
     "data": {
      "text/html": [
       "<div>\n",
       "<style scoped>\n",
       "    .dataframe tbody tr th:only-of-type {\n",
       "        vertical-align: middle;\n",
       "    }\n",
       "\n",
       "    .dataframe tbody tr th {\n",
       "        vertical-align: top;\n",
       "    }\n",
       "\n",
       "    .dataframe thead th {\n",
       "        text-align: right;\n",
       "    }\n",
       "</style>\n",
       "<table border=\"1\" class=\"dataframe\">\n",
       "  <thead>\n",
       "    <tr style=\"text-align: right;\">\n",
       "      <th></th>\n",
       "      <th>id</th>\n",
       "      <th>vendor_id</th>\n",
       "      <th>pickup_datetime</th>\n",
       "      <th>dropoff_datetime</th>\n",
       "      <th>passenger_count</th>\n",
       "      <th>pickup_longitude</th>\n",
       "      <th>pickup_latitude</th>\n",
       "      <th>dropoff_longitude</th>\n",
       "      <th>dropoff_latitude</th>\n",
       "      <th>store_and_fwd_flag</th>\n",
       "      <th>trip_duration</th>\n",
       "    </tr>\n",
       "  </thead>\n",
       "  <tbody>\n",
       "    <tr>\n",
       "      <th>0</th>\n",
       "      <td>id2875421</td>\n",
       "      <td>2</td>\n",
       "      <td>2016-03-14 17:24:55</td>\n",
       "      <td>2016-03-14 17:32:30</td>\n",
       "      <td>1</td>\n",
       "      <td>-73.98</td>\n",
       "      <td>40.77</td>\n",
       "      <td>-73.96</td>\n",
       "      <td>40.77</td>\n",
       "      <td>N</td>\n",
       "      <td>455</td>\n",
       "    </tr>\n",
       "    <tr>\n",
       "      <th>1</th>\n",
       "      <td>id2377394</td>\n",
       "      <td>1</td>\n",
       "      <td>2016-06-12 00:43:35</td>\n",
       "      <td>2016-06-12 00:54:38</td>\n",
       "      <td>1</td>\n",
       "      <td>-73.98</td>\n",
       "      <td>40.74</td>\n",
       "      <td>-74.00</td>\n",
       "      <td>40.73</td>\n",
       "      <td>N</td>\n",
       "      <td>663</td>\n",
       "    </tr>\n",
       "  </tbody>\n",
       "</table>\n",
       "</div>"
      ],
      "text/plain": [
       "          id  vendor_id      pickup_datetime     dropoff_datetime  \\\n",
       "0  id2875421          2  2016-03-14 17:24:55  2016-03-14 17:32:30   \n",
       "1  id2377394          1  2016-06-12 00:43:35  2016-06-12 00:54:38   \n",
       "\n",
       "   passenger_count  pickup_longitude  pickup_latitude  dropoff_longitude  \\\n",
       "0                1            -73.98            40.77             -73.96   \n",
       "1                1            -73.98            40.74             -74.00   \n",
       "\n",
       "   dropoff_latitude store_and_fwd_flag  trip_duration  \n",
       "0             40.77                  N            455  \n",
       "1             40.73                  N            663  "
      ]
     },
     "execution_count": 5,
     "metadata": {},
     "output_type": "execute_result"
    }
   ],
   "source": [
    "train.head(2)"
   ]
  },
  {
   "cell_type": "code",
   "execution_count": 6,
   "id": "a41eaaf7",
   "metadata": {
    "execution": {
     "iopub.execute_input": "2022-06-26T23:23:25.780370Z",
     "iopub.status.busy": "2022-06-26T23:23:25.779927Z",
     "iopub.status.idle": "2022-06-26T23:23:25.793527Z",
     "shell.execute_reply": "2022-06-26T23:23:25.792364Z"
    },
    "papermill": {
     "duration": 0.029072,
     "end_time": "2022-06-26T23:23:25.795835",
     "exception": false,
     "start_time": "2022-06-26T23:23:25.766763",
     "status": "completed"
    },
    "tags": []
   },
   "outputs": [
    {
     "data": {
      "text/html": [
       "<div>\n",
       "<style scoped>\n",
       "    .dataframe tbody tr th:only-of-type {\n",
       "        vertical-align: middle;\n",
       "    }\n",
       "\n",
       "    .dataframe tbody tr th {\n",
       "        vertical-align: top;\n",
       "    }\n",
       "\n",
       "    .dataframe thead th {\n",
       "        text-align: right;\n",
       "    }\n",
       "</style>\n",
       "<table border=\"1\" class=\"dataframe\">\n",
       "  <thead>\n",
       "    <tr style=\"text-align: right;\">\n",
       "      <th></th>\n",
       "      <th>id</th>\n",
       "      <th>vendor_id</th>\n",
       "      <th>pickup_datetime</th>\n",
       "      <th>passenger_count</th>\n",
       "      <th>pickup_longitude</th>\n",
       "      <th>pickup_latitude</th>\n",
       "      <th>dropoff_longitude</th>\n",
       "      <th>dropoff_latitude</th>\n",
       "      <th>store_and_fwd_flag</th>\n",
       "    </tr>\n",
       "  </thead>\n",
       "  <tbody>\n",
       "    <tr>\n",
       "      <th>0</th>\n",
       "      <td>id3004672</td>\n",
       "      <td>1</td>\n",
       "      <td>2016-06-30 23:59:58</td>\n",
       "      <td>1</td>\n",
       "      <td>-73.99</td>\n",
       "      <td>40.73</td>\n",
       "      <td>-73.99</td>\n",
       "      <td>40.76</td>\n",
       "      <td>N</td>\n",
       "    </tr>\n",
       "    <tr>\n",
       "      <th>1</th>\n",
       "      <td>id3505355</td>\n",
       "      <td>1</td>\n",
       "      <td>2016-06-30 23:59:53</td>\n",
       "      <td>1</td>\n",
       "      <td>-73.96</td>\n",
       "      <td>40.68</td>\n",
       "      <td>-73.96</td>\n",
       "      <td>40.66</td>\n",
       "      <td>N</td>\n",
       "    </tr>\n",
       "  </tbody>\n",
       "</table>\n",
       "</div>"
      ],
      "text/plain": [
       "          id  vendor_id      pickup_datetime  passenger_count  \\\n",
       "0  id3004672          1  2016-06-30 23:59:58                1   \n",
       "1  id3505355          1  2016-06-30 23:59:53                1   \n",
       "\n",
       "   pickup_longitude  pickup_latitude  dropoff_longitude  dropoff_latitude  \\\n",
       "0            -73.99            40.73             -73.99             40.76   \n",
       "1            -73.96            40.68             -73.96             40.66   \n",
       "\n",
       "  store_and_fwd_flag  \n",
       "0                  N  \n",
       "1                  N  "
      ]
     },
     "execution_count": 6,
     "metadata": {},
     "output_type": "execute_result"
    }
   ],
   "source": [
    "test.head(2)"
   ]
  },
  {
   "cell_type": "code",
   "execution_count": 7,
   "id": "198ca5cf",
   "metadata": {
    "execution": {
     "iopub.execute_input": "2022-06-26T23:23:25.821061Z",
     "iopub.status.busy": "2022-06-26T23:23:25.820434Z",
     "iopub.status.idle": "2022-06-26T23:23:25.829436Z",
     "shell.execute_reply": "2022-06-26T23:23:25.828435Z"
    },
    "papermill": {
     "duration": 0.024596,
     "end_time": "2022-06-26T23:23:25.831958",
     "exception": false,
     "start_time": "2022-06-26T23:23:25.807362",
     "status": "completed"
    },
    "tags": []
   },
   "outputs": [],
   "source": [
    "def check_basic(df, df_type=\"train\"):\n",
    "    print(\"{} DF has {} rows and {} columns\".format(df_type,df.shape[0], df.shape[1]))\n",
    "    if df.id.nunique() == df.shape[0]:\n",
    "        print(\"1. Id is unique\")\n",
    "    if not df.isnull().any().any(): \n",
    "        print(\"2. No missing value\")\n",
    "    if train.duplicated(keep='first').sum() == 0:\n",
    "        print(\"3. No duplicate record\")\n",
    "    if df_type == 'train':\n",
    "        trip_duration_diff = (pd.to_datetime(train.dropoff_datetime) - pd.to_datetime(train.pickup_datetime)).map(lambda x :x.total_seconds())\n",
    "        if len(df[np.abs(trip_duration_diff.values - df['trip_duration'].values) > 1]) == 0:\n",
    "            print(\"4. Trip_duration is consistent with pickup and dropoff times.\")"
   ]
  },
  {
   "cell_type": "code",
   "execution_count": 8,
   "id": "4ae851ab",
   "metadata": {
    "execution": {
     "iopub.execute_input": "2022-06-26T23:23:25.857803Z",
     "iopub.status.busy": "2022-06-26T23:23:25.857059Z",
     "iopub.status.idle": "2022-06-26T23:23:47.289975Z",
     "shell.execute_reply": "2022-06-26T23:23:47.288671Z"
    },
    "papermill": {
     "duration": 21.449297,
     "end_time": "2022-06-26T23:23:47.293076",
     "exception": false,
     "start_time": "2022-06-26T23:23:25.843779",
     "status": "completed"
    },
    "tags": []
   },
   "outputs": [
    {
     "name": "stdout",
     "output_type": "stream",
     "text": [
      "train DF has 1458644 rows and 11 columns\n",
      "1. Id is unique\n",
      "2. No missing value\n",
      "3. No duplicate record\n",
      "4. Trip_duration is consistent with pickup and dropoff times.\n"
     ]
    }
   ],
   "source": [
    "check_basic(train, df_type=\"train\")"
   ]
  },
  {
   "cell_type": "code",
   "execution_count": 9,
   "id": "0ee70f0d",
   "metadata": {
    "execution": {
     "iopub.execute_input": "2022-06-26T23:23:47.319530Z",
     "iopub.status.busy": "2022-06-26T23:23:47.319168Z",
     "iopub.status.idle": "2022-06-26T23:23:49.938940Z",
     "shell.execute_reply": "2022-06-26T23:23:49.937682Z"
    },
    "papermill": {
     "duration": 2.636253,
     "end_time": "2022-06-26T23:23:49.942119",
     "exception": false,
     "start_time": "2022-06-26T23:23:47.305866",
     "status": "completed"
    },
    "tags": []
   },
   "outputs": [
    {
     "name": "stdout",
     "output_type": "stream",
     "text": [
      "test DF has 625134 rows and 9 columns\n",
      "1. Id is unique\n",
      "2. No missing value\n",
      "3. No duplicate record\n"
     ]
    }
   ],
   "source": [
    "check_basic(test, df_type=\"test\")"
   ]
  },
  {
   "cell_type": "code",
   "execution_count": 10,
   "id": "83a5ac5d",
   "metadata": {
    "execution": {
     "iopub.execute_input": "2022-06-26T23:23:49.969670Z",
     "iopub.status.busy": "2022-06-26T23:23:49.968923Z",
     "iopub.status.idle": "2022-06-26T23:23:49.976881Z",
     "shell.execute_reply": "2022-06-26T23:23:49.975695Z"
    },
    "papermill": {
     "duration": 0.024315,
     "end_time": "2022-06-26T23:23:49.979604",
     "exception": false,
     "start_time": "2022-06-26T23:23:49.955289",
     "status": "completed"
    },
    "tags": []
   },
   "outputs": [
    {
     "name": "stdout",
     "output_type": "stream",
     "text": [
      "Train:\n",
      " id                     object\n",
      "vendor_id               int64\n",
      "pickup_datetime        object\n",
      "dropoff_datetime       object\n",
      "passenger_count         int64\n",
      "pickup_longitude      float64\n",
      "pickup_latitude       float64\n",
      "dropoff_longitude     float64\n",
      "dropoff_latitude      float64\n",
      "store_and_fwd_flag     object\n",
      "trip_duration           int64\n",
      "dtype: object \n",
      "\n",
      "Test:\n",
      " id                     object\n",
      "vendor_id               int64\n",
      "pickup_datetime        object\n",
      "passenger_count         int64\n",
      "pickup_longitude      float64\n",
      "pickup_latitude       float64\n",
      "dropoff_longitude     float64\n",
      "dropoff_latitude      float64\n",
      "store_and_fwd_flag     object\n",
      "dtype: object\n"
     ]
    }
   ],
   "source": [
    "print(\"Train:\\n\", train.dtypes, \"\\n\")\n",
    "print(\"Test:\\n\", test.dtypes)"
   ]
  },
  {
   "cell_type": "markdown",
   "id": "2e49bc3d",
   "metadata": {
    "papermill": {
     "duration": 0.011936,
     "end_time": "2022-06-26T23:23:50.003912",
     "exception": false,
     "start_time": "2022-06-26T23:23:49.991976",
     "status": "completed"
    },
    "tags": []
   },
   "source": [
    "* Convert string type to datetime"
   ]
  },
  {
   "cell_type": "code",
   "execution_count": 11,
   "id": "f29e6987",
   "metadata": {
    "execution": {
     "iopub.execute_input": "2022-06-26T23:23:50.030927Z",
     "iopub.status.busy": "2022-06-26T23:23:50.030432Z",
     "iopub.status.idle": "2022-06-26T23:23:51.286640Z",
     "shell.execute_reply": "2022-06-26T23:23:51.285364Z"
    },
    "papermill": {
     "duration": 1.272791,
     "end_time": "2022-06-26T23:23:51.289301",
     "exception": false,
     "start_time": "2022-06-26T23:23:50.016510",
     "status": "completed"
    },
    "tags": []
   },
   "outputs": [],
   "source": [
    "train['pickup_datetime'] = pd.to_datetime(train['pickup_datetime'])\n",
    "test['pickup_datetime'] = pd.to_datetime(test['pickup_datetime'])\n",
    "\n",
    "train['dropoff_datetime'] = pd.to_datetime(train['dropoff_datetime'])"
   ]
  },
  {
   "cell_type": "code",
   "execution_count": 12,
   "id": "3a04802d",
   "metadata": {
    "execution": {
     "iopub.execute_input": "2022-06-26T23:23:51.316050Z",
     "iopub.status.busy": "2022-06-26T23:23:51.315665Z",
     "iopub.status.idle": "2022-06-26T23:23:51.323739Z",
     "shell.execute_reply": "2022-06-26T23:23:51.322562Z"
    },
    "papermill": {
     "duration": 0.02484,
     "end_time": "2022-06-26T23:23:51.326665",
     "exception": false,
     "start_time": "2022-06-26T23:23:51.301825",
     "status": "completed"
    },
    "tags": []
   },
   "outputs": [
    {
     "name": "stdout",
     "output_type": "stream",
     "text": [
      "Train:\n",
      " id                            object\n",
      "vendor_id                      int64\n",
      "pickup_datetime       datetime64[ns]\n",
      "dropoff_datetime      datetime64[ns]\n",
      "passenger_count                int64\n",
      "pickup_longitude             float64\n",
      "pickup_latitude              float64\n",
      "dropoff_longitude            float64\n",
      "dropoff_latitude             float64\n",
      "store_and_fwd_flag            object\n",
      "trip_duration                  int64\n",
      "dtype: object \n",
      "\n",
      "Test:\n",
      " id                            object\n",
      "vendor_id                      int64\n",
      "pickup_datetime       datetime64[ns]\n",
      "passenger_count                int64\n",
      "pickup_longitude             float64\n",
      "pickup_latitude              float64\n",
      "dropoff_longitude            float64\n",
      "dropoff_latitude             float64\n",
      "store_and_fwd_flag            object\n",
      "dtype: object\n"
     ]
    }
   ],
   "source": [
    "print(\"Train:\\n\", train.dtypes, \"\\n\")\n",
    "print(\"Test:\\n\", test.dtypes)"
   ]
  },
  {
   "cell_type": "code",
   "execution_count": 13,
   "id": "138931ce",
   "metadata": {
    "execution": {
     "iopub.execute_input": "2022-06-26T23:23:51.354485Z",
     "iopub.status.busy": "2022-06-26T23:23:51.354072Z",
     "iopub.status.idle": "2022-06-26T23:23:51.932182Z",
     "shell.execute_reply": "2022-06-26T23:23:51.931077Z"
    },
    "papermill": {
     "duration": 0.594101,
     "end_time": "2022-06-26T23:23:51.934464",
     "exception": false,
     "start_time": "2022-06-26T23:23:51.340363",
     "status": "completed"
    },
    "tags": []
   },
   "outputs": [
    {
     "data": {
      "text/html": [
       "<div>\n",
       "<style scoped>\n",
       "    .dataframe tbody tr th:only-of-type {\n",
       "        vertical-align: middle;\n",
       "    }\n",
       "\n",
       "    .dataframe tbody tr th {\n",
       "        vertical-align: top;\n",
       "    }\n",
       "\n",
       "    .dataframe thead th {\n",
       "        text-align: right;\n",
       "    }\n",
       "</style>\n",
       "<table border=\"1\" class=\"dataframe\">\n",
       "  <thead>\n",
       "    <tr style=\"text-align: right;\">\n",
       "      <th></th>\n",
       "      <th>vendor_id</th>\n",
       "      <th>pickup_datetime</th>\n",
       "      <th>dropoff_datetime</th>\n",
       "      <th>passenger_count</th>\n",
       "      <th>pickup_longitude</th>\n",
       "      <th>pickup_latitude</th>\n",
       "      <th>dropoff_longitude</th>\n",
       "      <th>dropoff_latitude</th>\n",
       "      <th>trip_duration</th>\n",
       "    </tr>\n",
       "  </thead>\n",
       "  <tbody>\n",
       "    <tr>\n",
       "      <th>count</th>\n",
       "      <td>1458644.00</td>\n",
       "      <td>1458644</td>\n",
       "      <td>1458644</td>\n",
       "      <td>1458644.00</td>\n",
       "      <td>1458644.00</td>\n",
       "      <td>1458644.00</td>\n",
       "      <td>1458644.00</td>\n",
       "      <td>1458644.00</td>\n",
       "      <td>1458644.00</td>\n",
       "    </tr>\n",
       "    <tr>\n",
       "      <th>mean</th>\n",
       "      <td>1.53</td>\n",
       "      <td>2016-04-01 10:10:24.940037120</td>\n",
       "      <td>2016-04-01 10:26:24.432310528</td>\n",
       "      <td>1.66</td>\n",
       "      <td>-73.97</td>\n",
       "      <td>40.75</td>\n",
       "      <td>-73.97</td>\n",
       "      <td>40.75</td>\n",
       "      <td>959.49</td>\n",
       "    </tr>\n",
       "    <tr>\n",
       "      <th>min</th>\n",
       "      <td>1.00</td>\n",
       "      <td>2016-01-01 00:00:17</td>\n",
       "      <td>2016-01-01 00:03:31</td>\n",
       "      <td>0.00</td>\n",
       "      <td>-121.93</td>\n",
       "      <td>34.36</td>\n",
       "      <td>-121.93</td>\n",
       "      <td>32.18</td>\n",
       "      <td>1.00</td>\n",
       "    </tr>\n",
       "    <tr>\n",
       "      <th>25%</th>\n",
       "      <td>1.00</td>\n",
       "      <td>2016-02-17 16:46:04.249999872</td>\n",
       "      <td>2016-02-17 17:05:32.500000</td>\n",
       "      <td>1.00</td>\n",
       "      <td>-73.99</td>\n",
       "      <td>40.74</td>\n",
       "      <td>-73.99</td>\n",
       "      <td>40.74</td>\n",
       "      <td>397.00</td>\n",
       "    </tr>\n",
       "    <tr>\n",
       "      <th>50%</th>\n",
       "      <td>2.00</td>\n",
       "      <td>2016-04-01 17:19:40</td>\n",
       "      <td>2016-04-01 17:35:12</td>\n",
       "      <td>1.00</td>\n",
       "      <td>-73.98</td>\n",
       "      <td>40.75</td>\n",
       "      <td>-73.98</td>\n",
       "      <td>40.75</td>\n",
       "      <td>662.00</td>\n",
       "    </tr>\n",
       "    <tr>\n",
       "      <th>75%</th>\n",
       "      <td>2.00</td>\n",
       "      <td>2016-05-15 03:56:08.750000128</td>\n",
       "      <td>2016-05-15 04:10:51.750000128</td>\n",
       "      <td>2.00</td>\n",
       "      <td>-73.97</td>\n",
       "      <td>40.77</td>\n",
       "      <td>-73.96</td>\n",
       "      <td>40.77</td>\n",
       "      <td>1075.00</td>\n",
       "    </tr>\n",
       "    <tr>\n",
       "      <th>max</th>\n",
       "      <td>2.00</td>\n",
       "      <td>2016-06-30 23:59:39</td>\n",
       "      <td>2016-07-01 23:02:03</td>\n",
       "      <td>9.00</td>\n",
       "      <td>-61.34</td>\n",
       "      <td>51.88</td>\n",
       "      <td>-61.34</td>\n",
       "      <td>43.92</td>\n",
       "      <td>3526282.00</td>\n",
       "    </tr>\n",
       "    <tr>\n",
       "      <th>std</th>\n",
       "      <td>0.50</td>\n",
       "      <td>NaN</td>\n",
       "      <td>NaN</td>\n",
       "      <td>1.31</td>\n",
       "      <td>0.07</td>\n",
       "      <td>0.03</td>\n",
       "      <td>0.07</td>\n",
       "      <td>0.04</td>\n",
       "      <td>5237.43</td>\n",
       "    </tr>\n",
       "  </tbody>\n",
       "</table>\n",
       "</div>"
      ],
      "text/plain": [
       "       vendor_id                pickup_datetime  \\\n",
       "count 1458644.00                        1458644   \n",
       "mean        1.53  2016-04-01 10:10:24.940037120   \n",
       "min         1.00            2016-01-01 00:00:17   \n",
       "25%         1.00  2016-02-17 16:46:04.249999872   \n",
       "50%         2.00            2016-04-01 17:19:40   \n",
       "75%         2.00  2016-05-15 03:56:08.750000128   \n",
       "max         2.00            2016-06-30 23:59:39   \n",
       "std         0.50                            NaN   \n",
       "\n",
       "                    dropoff_datetime  passenger_count  pickup_longitude  \\\n",
       "count                        1458644       1458644.00        1458644.00   \n",
       "mean   2016-04-01 10:26:24.432310528             1.66            -73.97   \n",
       "min              2016-01-01 00:03:31             0.00           -121.93   \n",
       "25%       2016-02-17 17:05:32.500000             1.00            -73.99   \n",
       "50%              2016-04-01 17:35:12             1.00            -73.98   \n",
       "75%    2016-05-15 04:10:51.750000128             2.00            -73.97   \n",
       "max              2016-07-01 23:02:03             9.00            -61.34   \n",
       "std                              NaN             1.31              0.07   \n",
       "\n",
       "       pickup_latitude  dropoff_longitude  dropoff_latitude  trip_duration  \n",
       "count       1458644.00         1458644.00        1458644.00     1458644.00  \n",
       "mean             40.75             -73.97             40.75         959.49  \n",
       "min              34.36            -121.93             32.18           1.00  \n",
       "25%              40.74             -73.99             40.74         397.00  \n",
       "50%              40.75             -73.98             40.75         662.00  \n",
       "75%              40.77             -73.96             40.77        1075.00  \n",
       "max              51.88             -61.34             43.92     3526282.00  \n",
       "std               0.03               0.07              0.04        5237.43  "
      ]
     },
     "execution_count": 13,
     "metadata": {},
     "output_type": "execute_result"
    }
   ],
   "source": [
    "train.describe(datetime_is_numeric = True)"
   ]
  },
  {
   "cell_type": "code",
   "execution_count": 14,
   "id": "746a67dd",
   "metadata": {
    "execution": {
     "iopub.execute_input": "2022-06-26T23:23:51.963076Z",
     "iopub.status.busy": "2022-06-26T23:23:51.961852Z",
     "iopub.status.idle": "2022-06-26T23:23:52.046800Z",
     "shell.execute_reply": "2022-06-26T23:23:52.045233Z"
    },
    "papermill": {
     "duration": 0.102401,
     "end_time": "2022-06-26T23:23:52.050085",
     "exception": false,
     "start_time": "2022-06-26T23:23:51.947684",
     "status": "completed"
    },
    "tags": []
   },
   "outputs": [
    {
     "name": "stdout",
     "output_type": "stream",
     "text": [
      "Num cols:  ['vendor_id', 'pickup_datetime', 'dropoff_datetime', 'passenger_count', 'pickup_longitude', 'pickup_latitude', 'dropoff_longitude', 'dropoff_latitude', 'trip_duration']\n",
      "Cate cols:  ['id', 'store_and_fwd_flag']\n"
     ]
    }
   ],
   "source": [
    "num_cols = list(train.select_dtypes(exclude='object').columns)\n",
    "cate_cols = list(train.select_dtypes(include='object').columns)\n",
    "print(\"Num cols: \",num_cols)\n",
    "print(\"Cate cols: \",cate_cols)"
   ]
  },
  {
   "cell_type": "markdown",
   "id": "009b695b",
   "metadata": {
    "papermill": {
     "duration": 0.012993,
     "end_time": "2022-06-26T23:23:52.076507",
     "exception": false,
     "start_time": "2022-06-26T23:23:52.063514",
     "status": "completed"
    },
    "tags": []
   },
   "source": [
    "### Numerical columns"
   ]
  },
  {
   "cell_type": "code",
   "execution_count": 15,
   "id": "a33c62b9",
   "metadata": {
    "execution": {
     "iopub.execute_input": "2022-06-26T23:23:52.104585Z",
     "iopub.status.busy": "2022-06-26T23:23:52.103619Z",
     "iopub.status.idle": "2022-06-26T23:23:52.111464Z",
     "shell.execute_reply": "2022-06-26T23:23:52.110196Z"
    },
    "papermill": {
     "duration": 0.024186,
     "end_time": "2022-06-26T23:23:52.113702",
     "exception": false,
     "start_time": "2022-06-26T23:23:52.089516",
     "status": "completed"
    },
    "tags": []
   },
   "outputs": [],
   "source": [
    "def missing_percentage(col):\n",
    "    per = col.isna().mean()*100\n",
    "    return per.round(1)\n",
    "\n",
    "def value_percentages(col):\n",
    "    val = col.groupby(by=col).count().sort_values(ascending=False)\n",
    "    total = val.sum()\n",
    "    return (((val / total)*100).round(1)).to_dict()\n",
    "\n",
    "def num_values(col):\n",
    "    return col.nunique()"
   ]
  },
  {
   "cell_type": "code",
   "execution_count": 16,
   "id": "a1d21b9e",
   "metadata": {
    "execution": {
     "iopub.execute_input": "2022-06-26T23:23:52.141349Z",
     "iopub.status.busy": "2022-06-26T23:23:52.140382Z",
     "iopub.status.idle": "2022-06-26T23:25:00.391194Z",
     "shell.execute_reply": "2022-06-26T23:25:00.389941Z"
    },
    "papermill": {
     "duration": 68.2846,
     "end_time": "2022-06-26T23:25:00.411060",
     "exception": false,
     "start_time": "2022-06-26T23:23:52.126460",
     "status": "completed"
    },
    "tags": []
   },
   "outputs": [
    {
     "data": {
      "text/html": [
       "<div>\n",
       "<style scoped>\n",
       "    .dataframe tbody tr th:only-of-type {\n",
       "        vertical-align: middle;\n",
       "    }\n",
       "\n",
       "    .dataframe tbody tr th {\n",
       "        vertical-align: top;\n",
       "    }\n",
       "\n",
       "    .dataframe thead th {\n",
       "        text-align: right;\n",
       "    }\n",
       "</style>\n",
       "<table border=\"1\" class=\"dataframe\">\n",
       "  <thead>\n",
       "    <tr style=\"text-align: right;\">\n",
       "      <th></th>\n",
       "      <th>vendor_id</th>\n",
       "      <th>pickup_datetime</th>\n",
       "      <th>dropoff_datetime</th>\n",
       "      <th>passenger_count</th>\n",
       "      <th>pickup_longitude</th>\n",
       "      <th>pickup_latitude</th>\n",
       "      <th>dropoff_longitude</th>\n",
       "      <th>dropoff_latitude</th>\n",
       "      <th>trip_duration</th>\n",
       "    </tr>\n",
       "  </thead>\n",
       "  <tbody>\n",
       "    <tr>\n",
       "      <th>missing_percentage</th>\n",
       "      <td>0.00</td>\n",
       "      <td>0.00</td>\n",
       "      <td>0.00</td>\n",
       "      <td>0.00</td>\n",
       "      <td>0.00</td>\n",
       "      <td>0.00</td>\n",
       "      <td>0.00</td>\n",
       "      <td>0.00</td>\n",
       "      <td>0.00</td>\n",
       "    </tr>\n",
       "    <tr>\n",
       "      <th>value_percentages</th>\n",
       "      <td>{2: 53.5, 1: 46.5}</td>\n",
       "      <td>{2016-03-04 08:07:34: 0.0, 2016-01-12 18:48:44...</td>\n",
       "      <td>{2016-02-19 19:25:04: 0.0, 2016-05-16 19:40:28...</td>\n",
       "      <td>{1: 70.9, 2: 14.4, 5: 5.4, 3: 4.1, 6: 3.3, 4: ...</td>\n",
       "      <td>{-73.9822006225586: 0.0, -73.98213958740233: 0...</td>\n",
       "      <td>{40.77410125732422: 0.0, 40.774089813232415: 0...</td>\n",
       "      <td>{-73.98233032226561: 0.0, -73.98209381103516: ...</td>\n",
       "      <td>{40.774311065673835: 0.0, 40.77433013916016: 0...</td>\n",
       "      <td>{368: 0.1, 408: 0.1, 348: 0.1, 367: 0.1, 358: ...</td>\n",
       "    </tr>\n",
       "    <tr>\n",
       "      <th>num_values</th>\n",
       "      <td>2</td>\n",
       "      <td>1380222</td>\n",
       "      <td>1380377</td>\n",
       "      <td>10</td>\n",
       "      <td>23047</td>\n",
       "      <td>45245</td>\n",
       "      <td>33821</td>\n",
       "      <td>62519</td>\n",
       "      <td>7417</td>\n",
       "    </tr>\n",
       "  </tbody>\n",
       "</table>\n",
       "</div>"
      ],
      "text/plain": [
       "                             vendor_id  \\\n",
       "missing_percentage                0.00   \n",
       "value_percentages   {2: 53.5, 1: 46.5}   \n",
       "num_values                           2   \n",
       "\n",
       "                                                      pickup_datetime  \\\n",
       "missing_percentage                                               0.00   \n",
       "value_percentages   {2016-03-04 08:07:34: 0.0, 2016-01-12 18:48:44...   \n",
       "num_values                                                    1380222   \n",
       "\n",
       "                                                     dropoff_datetime  \\\n",
       "missing_percentage                                               0.00   \n",
       "value_percentages   {2016-02-19 19:25:04: 0.0, 2016-05-16 19:40:28...   \n",
       "num_values                                                    1380377   \n",
       "\n",
       "                                                      passenger_count  \\\n",
       "missing_percentage                                               0.00   \n",
       "value_percentages   {1: 70.9, 2: 14.4, 5: 5.4, 3: 4.1, 6: 3.3, 4: ...   \n",
       "num_values                                                         10   \n",
       "\n",
       "                                                     pickup_longitude  \\\n",
       "missing_percentage                                               0.00   \n",
       "value_percentages   {-73.9822006225586: 0.0, -73.98213958740233: 0...   \n",
       "num_values                                                      23047   \n",
       "\n",
       "                                                      pickup_latitude  \\\n",
       "missing_percentage                                               0.00   \n",
       "value_percentages   {40.77410125732422: 0.0, 40.774089813232415: 0...   \n",
       "num_values                                                      45245   \n",
       "\n",
       "                                                    dropoff_longitude  \\\n",
       "missing_percentage                                               0.00   \n",
       "value_percentages   {-73.98233032226561: 0.0, -73.98209381103516: ...   \n",
       "num_values                                                      33821   \n",
       "\n",
       "                                                     dropoff_latitude  \\\n",
       "missing_percentage                                               0.00   \n",
       "value_percentages   {40.774311065673835: 0.0, 40.77433013916016: 0...   \n",
       "num_values                                                      62519   \n",
       "\n",
       "                                                        trip_duration  \n",
       "missing_percentage                                               0.00  \n",
       "value_percentages   {368: 0.1, 408: 0.1, 348: 0.1, 367: 0.1, 358: ...  \n",
       "num_values                                                       7417  "
      ]
     },
     "execution_count": 16,
     "metadata": {},
     "output_type": "execute_result"
    }
   ],
   "source": [
    "train[num_cols].agg([missing_percentage, value_percentages, num_values])"
   ]
  },
  {
   "cell_type": "code",
   "execution_count": 17,
   "id": "5f2ea658",
   "metadata": {
    "execution": {
     "iopub.execute_input": "2022-06-26T23:25:00.444547Z",
     "iopub.status.busy": "2022-06-26T23:25:00.444093Z",
     "iopub.status.idle": "2022-06-26T23:25:03.845045Z",
     "shell.execute_reply": "2022-06-26T23:25:03.843923Z"
    },
    "papermill": {
     "duration": 3.418036,
     "end_time": "2022-06-26T23:25:03.847367",
     "exception": false,
     "start_time": "2022-06-26T23:25:00.429331",
     "status": "completed"
    },
    "tags": []
   },
   "outputs": [
    {
     "data": {
      "image/png": "[encoded data removed]",
      "text/plain": [
       "<Figure size 1440x1080 with 9 Axes>"
      ]
     },
     "metadata": {
      "needs_background": "light"
     },
     "output_type": "display_data"
    }
   ],
   "source": [
    "train[num_cols].hist(figsize=(20, 15), bins = 100)\n",
    "plt.show()"
   ]
  },
  {
   "cell_type": "code",
   "execution_count": 18,
   "id": "ab14ec58",
   "metadata": {
    "execution": {
     "iopub.execute_input": "2022-06-26T23:25:03.877677Z",
     "iopub.status.busy": "2022-06-26T23:25:03.877275Z",
     "iopub.status.idle": "2022-06-26T23:25:04.310234Z",
     "shell.execute_reply": "2022-06-26T23:25:04.309059Z"
    },
    "papermill": {
     "duration": 0.451246,
     "end_time": "2022-06-26T23:25:04.312759",
     "exception": false,
     "start_time": "2022-06-26T23:25:03.861513",
     "status": "completed"
    },
    "tags": []
   },
   "outputs": [
    {
     "data": {
      "image/png": "[encoded data removed]",
      "text/plain": [
       "<Figure size 1440x1080 with 1 Axes>"
      ]
     },
     "metadata": {
      "needs_background": "light"
     },
     "output_type": "display_data"
    }
   ],
   "source": [
    "train_log_trip_duration = np.log(train['trip_duration'].values + 1)\n",
    "plt.hist(train_log_trip_duration, bins=100)\n",
    "plt.xlabel('log(trip_duration)')\n",
    "plt.ylabel('number of train records')\n",
    "plt.show()"
   ]
  },
  {
   "cell_type": "code",
   "execution_count": 19,
   "id": "0d73104c",
   "metadata": {
    "execution": {
     "iopub.execute_input": "2022-06-26T23:25:04.343929Z",
     "iopub.status.busy": "2022-06-26T23:25:04.343476Z",
     "iopub.status.idle": "2022-06-26T23:25:04.350851Z",
     "shell.execute_reply": "2022-06-26T23:25:04.349616Z"
    },
    "papermill": {
     "duration": 0.025573,
     "end_time": "2022-06-26T23:25:04.353172",
     "exception": false,
     "start_time": "2022-06-26T23:25:04.327599",
     "status": "completed"
    },
    "tags": []
   },
   "outputs": [],
   "source": [
    "def getColor(len_com):\n",
    "    lstColor = []\n",
    "    for i in range(len_com):\n",
    "        color = '#'+''.join([random.choice('ABCDEF0123456789') for j in range(6)])\n",
    "        while color in lstColor:\n",
    "            color = '#'+''.join([random.choice('ABCDEF0123456789') for j in range(6)])\n",
    "            lstColor.append(color)\n",
    "    return lstColor"
   ]
  },
  {
   "cell_type": "code",
   "execution_count": 20,
   "id": "03b09ed4",
   "metadata": {
    "execution": {
     "iopub.execute_input": "2022-06-26T23:25:04.384267Z",
     "iopub.status.busy": "2022-06-26T23:25:04.383854Z",
     "iopub.status.idle": "2022-06-26T23:25:04.394075Z",
     "shell.execute_reply": "2022-06-26T23:25:04.392811Z"
    },
    "papermill": {
     "duration": 0.028762,
     "end_time": "2022-06-26T23:25:04.396540",
     "exception": false,
     "start_time": "2022-06-26T23:25:04.367778",
     "status": "completed"
    },
    "tags": []
   },
   "outputs": [],
   "source": [
    "def draw_chart(df, fig_size = (20,15)):\n",
    "    temp = list(df.columns)\n",
    "    figure, axis = plt.subplots(len(temp)//2 if len(temp) % 2 == 0 else len(temp)//2 + 1, 2, figsize = fig_size)\n",
    "    color = ['#582f0e','#936639','#f3722c','#c2c5aa','#414833','#457b9d','#ffb703','#e63946', '#c77dff','#55a630','#f72585','#ffa69e','#4d908e','#7f5539','#b5e48c','#b6ad90','#38b000']\n",
    "    for i, col in enumerate(temp):\n",
    "        t = df[col].value_counts()\n",
    "        axis[i//2, i%2].scatter(list(t.index), t.values, color = color[i])\n",
    "        axis[i//2, i%2].set_title(col)\n",
    "    if len(temp) %2 !=0:\n",
    "        figure.delaxes(axis[len(temp)//2,1])\n",
    "    plt.show()"
   ]
  },
  {
   "cell_type": "code",
   "execution_count": 21,
   "id": "2e98fc8d",
   "metadata": {
    "execution": {
     "iopub.execute_input": "2022-06-26T23:25:04.428023Z",
     "iopub.status.busy": "2022-06-26T23:25:04.426922Z",
     "iopub.status.idle": "2022-06-26T23:25:36.113673Z",
     "shell.execute_reply": "2022-06-26T23:25:36.112666Z"
    },
    "papermill": {
     "duration": 31.720949,
     "end_time": "2022-06-26T23:25:36.131991",
     "exception": false,
     "start_time": "2022-06-26T23:25:04.411042",
     "status": "completed"
    },
    "tags": []
   },
   "outputs": [
    {
     "data": {
      "image/png": "[encoded data removed]",
      "text/plain": [
       "<Figure size 1440x2160 with 9 Axes>"
      ]
     },
     "metadata": {
      "needs_background": "light"
     },
     "output_type": "display_data"
    }
   ],
   "source": [
    "draw_chart(train[num_cols], (20,30));"
   ]
  },
  {
   "cell_type": "markdown",
   "id": "ec398189",
   "metadata": {
    "papermill": {
     "duration": 0.0154,
     "end_time": "2022-06-26T23:25:36.164082",
     "exception": false,
     "start_time": "2022-06-26T23:25:36.148682",
     "status": "completed"
    },
    "tags": []
   },
   "source": [
    "### Categorical columns"
   ]
  },
  {
   "cell_type": "code",
   "execution_count": 22,
   "id": "efcbae12",
   "metadata": {
    "execution": {
     "iopub.execute_input": "2022-06-26T23:25:36.197573Z",
     "iopub.status.busy": "2022-06-26T23:25:36.196732Z",
     "iopub.status.idle": "2022-06-26T23:25:45.527312Z",
     "shell.execute_reply": "2022-06-26T23:25:45.526163Z"
    },
    "papermill": {
     "duration": 9.350071,
     "end_time": "2022-06-26T23:25:45.529851",
     "exception": false,
     "start_time": "2022-06-26T23:25:36.179780",
     "status": "completed"
    },
    "tags": []
   },
   "outputs": [
    {
     "data": {
      "text/html": [
       "<div>\n",
       "<style scoped>\n",
       "    .dataframe tbody tr th:only-of-type {\n",
       "        vertical-align: middle;\n",
       "    }\n",
       "\n",
       "    .dataframe tbody tr th {\n",
       "        vertical-align: top;\n",
       "    }\n",
       "\n",
       "    .dataframe thead th {\n",
       "        text-align: right;\n",
       "    }\n",
       "</style>\n",
       "<table border=\"1\" class=\"dataframe\">\n",
       "  <thead>\n",
       "    <tr style=\"text-align: right;\">\n",
       "      <th></th>\n",
       "      <th>id</th>\n",
       "      <th>store_and_fwd_flag</th>\n",
       "    </tr>\n",
       "  </thead>\n",
       "  <tbody>\n",
       "    <tr>\n",
       "      <th>missing_percentage</th>\n",
       "      <td>0.00</td>\n",
       "      <td>0.00</td>\n",
       "    </tr>\n",
       "    <tr>\n",
       "      <th>value_percentages</th>\n",
       "      <td>{'id0000001': 0.0, 'id2665099': 0.0, 'id266515...</td>\n",
       "      <td>{'N': 99.4, 'Y': 0.6}</td>\n",
       "    </tr>\n",
       "    <tr>\n",
       "      <th>num_values</th>\n",
       "      <td>1458644</td>\n",
       "      <td>2</td>\n",
       "    </tr>\n",
       "  </tbody>\n",
       "</table>\n",
       "</div>"
      ],
      "text/plain": [
       "                                                                   id  \\\n",
       "missing_percentage                                               0.00   \n",
       "value_percentages   {'id0000001': 0.0, 'id2665099': 0.0, 'id266515...   \n",
       "num_values                                                    1458644   \n",
       "\n",
       "                       store_and_fwd_flag  \n",
       "missing_percentage                   0.00  \n",
       "value_percentages   {'N': 99.4, 'Y': 0.6}  \n",
       "num_values                              2  "
      ]
     },
     "execution_count": 22,
     "metadata": {},
     "output_type": "execute_result"
    }
   ],
   "source": [
    "train[cate_cols].agg([missing_percentage, value_percentages, num_values])"
   ]
  },
  {
   "cell_type": "markdown",
   "id": "90df81c9",
   "metadata": {
    "papermill": {
     "duration": 0.015336,
     "end_time": "2022-06-26T23:25:45.561023",
     "exception": false,
     "start_time": "2022-06-26T23:25:45.545687",
     "status": "completed"
    },
    "tags": []
   },
   "source": [
    "* Because the **store_and_fwd_flag** column only contains two unique values, **\"Y\"** and **\"N\"**, we will convert it to **1** and **0**, respectively. (In train and test set)"
   ]
  },
  {
   "cell_type": "code",
   "execution_count": 23,
   "id": "6f8e66f6",
   "metadata": {
    "execution": {
     "iopub.execute_input": "2022-06-26T23:25:45.594228Z",
     "iopub.status.busy": "2022-06-26T23:25:45.593836Z",
     "iopub.status.idle": "2022-06-26T23:25:45.748389Z",
     "shell.execute_reply": "2022-06-26T23:25:45.747335Z"
    },
    "papermill": {
     "duration": 0.174378,
     "end_time": "2022-06-26T23:25:45.751022",
     "exception": false,
     "start_time": "2022-06-26T23:25:45.576644",
     "status": "completed"
    },
    "tags": []
   },
   "outputs": [],
   "source": [
    "train['store_and_fwd_flag'] = 1 * (train.store_and_fwd_flag.values == 'Y')\n",
    "test['store_and_fwd_flag'] = 1 * (test.store_and_fwd_flag.values == 'Y')"
   ]
  },
  {
   "cell_type": "code",
   "execution_count": 24,
   "id": "5296e7d2",
   "metadata": {
    "execution": {
     "iopub.execute_input": "2022-06-26T23:25:45.784453Z",
     "iopub.status.busy": "2022-06-26T23:25:45.784059Z",
     "iopub.status.idle": "2022-06-26T23:25:45.791309Z",
     "shell.execute_reply": "2022-06-26T23:25:45.790455Z"
    },
    "papermill": {
     "duration": 0.027348,
     "end_time": "2022-06-26T23:25:45.794192",
     "exception": false,
     "start_time": "2022-06-26T23:25:45.766844",
     "status": "completed"
    },
    "tags": []
   },
   "outputs": [
    {
     "name": "stdout",
     "output_type": "stream",
     "text": [
      "Train:\n",
      " id                            object\n",
      "vendor_id                      int64\n",
      "pickup_datetime       datetime64[ns]\n",
      "dropoff_datetime      datetime64[ns]\n",
      "passenger_count                int64\n",
      "pickup_longitude             float64\n",
      "pickup_latitude              float64\n",
      "dropoff_longitude            float64\n",
      "dropoff_latitude             float64\n",
      "store_and_fwd_flag             int64\n",
      "trip_duration                  int64\n",
      "dtype: object \n",
      "\n",
      "Test:\n",
      " id                            object\n",
      "vendor_id                      int64\n",
      "pickup_datetime       datetime64[ns]\n",
      "passenger_count                int64\n",
      "pickup_longitude             float64\n",
      "pickup_latitude              float64\n",
      "dropoff_longitude            float64\n",
      "dropoff_latitude             float64\n",
      "store_and_fwd_flag             int64\n",
      "dtype: object\n"
     ]
    }
   ],
   "source": [
    "print(\"Train:\\n\", train.dtypes, \"\\n\")\n",
    "print(\"Test:\\n\", test.dtypes)"
   ]
  },
  {
   "cell_type": "markdown",
   "id": "bda800cd",
   "metadata": {
    "papermill": {
     "duration": 0.015365,
     "end_time": "2022-06-26T23:25:45.825317",
     "exception": false,
     "start_time": "2022-06-26T23:25:45.809952",
     "status": "completed"
    },
    "tags": []
   },
   "source": [
    "# OSRM features"
   ]
  },
  {
   "cell_type": "code",
   "execution_count": 25,
   "id": "6a752c90",
   "metadata": {
    "execution": {
     "iopub.execute_input": "2022-06-26T23:25:45.858833Z",
     "iopub.status.busy": "2022-06-26T23:25:45.858152Z",
     "iopub.status.idle": "2022-06-26T23:25:50.703801Z",
     "shell.execute_reply": "2022-06-26T23:25:50.701991Z"
    },
    "papermill": {
     "duration": 4.865745,
     "end_time": "2022-06-26T23:25:50.706733",
     "exception": false,
     "start_time": "2022-06-26T23:25:45.840988",
     "status": "completed"
    },
    "tags": []
   },
   "outputs": [
    {
     "name": "stdout",
     "output_type": "stream",
     "text": [
      "OSRM Train shape:  (1458643, 16)\n",
      "OSRM Test shape:  (625134, 16)\n"
     ]
    }
   ],
   "source": [
    "osrm_train = pd.read_csv('../input/nyc-taxi-trip-noisy/train_augmented.csv')\n",
    "osrm_test = pd.read_csv('../input/nyc-taxi-trip-noisy/test_augmented.csv')\n",
    "print(\"OSRM Train shape: \", osrm_train.shape)\n",
    "print(\"OSRM Test shape: \", osrm_test.shape)"
   ]
  },
  {
   "cell_type": "markdown",
   "id": "972cc536",
   "metadata": {
    "papermill": {
     "duration": 0.018566,
     "end_time": "2022-06-26T23:25:50.742196",
     "exception": false,
     "start_time": "2022-06-26T23:25:50.723630",
     "status": "completed"
    },
    "tags": []
   },
   "source": [
    "* Definition of each column\n",
    "\n",
    "| Column name | Description | \n",
    "| -------- | -------- | \n",
    "| id   | Record id     |\n",
    "| distance | Route distance (m) |\n",
    "| duration | OSRM trip duration (s) |\n",
    "| motorway | The proportion spent on different kind of roads (% of total distance) |\n",
    "| trunk |  The proportion spent on different kind of roads (% of total distance) |\n",
    "| primary | The proportion spent on different kind of roads (% of total distance) |\n",
    "| secondary | The proportion spent on different kind of roads (% of total distance) |\n",
    "| tertiary | The proportion spent on different kind of roads (% of total distance) |\n",
    "| unclassified | The proportion spent on different kind of roads (% of total distance) |\n",
    "| residential | The proportion spent on different kind of roads (% of total distance) |\n",
    "| nTrafficSignals | The number of traffic signals |\n",
    "| nCrossing | The number of pedestrian crossing |\n",
    "| nStop | The number of stop signs |\n",
    "| nIntersection | The number of intersections, if you are OSRM user, intersection have different meaning than the one used in OSRM |\n",
    "| srcCounty | Pickup county |\n",
    "| dstCounty | Dropoff county |\n",
    "\n",
    "* **srcCounty** and **dstCounty** values: There are 6 different values\n",
    "    * NA: Not in NYC\n",
    "    1. Brooklyn\n",
    "    2. Queens\n",
    "    3. Staten Island\n",
    "    4. Manhattan\n",
    "    5. Bronx\n",
    "\n",
    "$\\Rightarrow$ We will fill in NA values with the number 6."
   ]
  },
  {
   "cell_type": "code",
   "execution_count": 26,
   "id": "d072e488",
   "metadata": {
    "execution": {
     "iopub.execute_input": "2022-06-26T23:25:50.775877Z",
     "iopub.status.busy": "2022-06-26T23:25:50.775484Z",
     "iopub.status.idle": "2022-06-26T23:25:50.789772Z",
     "shell.execute_reply": "2022-06-26T23:25:50.788548Z"
    },
    "papermill": {
     "duration": 0.034519,
     "end_time": "2022-06-26T23:25:50.792525",
     "exception": false,
     "start_time": "2022-06-26T23:25:50.758006",
     "status": "completed"
    },
    "tags": []
   },
   "outputs": [],
   "source": [
    "osrm_train.srcCounty.fillna(6, inplace = True)\n",
    "osrm_train.dstCounty.fillna(6, inplace = True)\n",
    "osrm_test.srcCounty.fillna(6, inplace = True)\n",
    "osrm_test.dstCounty.fillna(6, inplace = True)"
   ]
  },
  {
   "cell_type": "code",
   "execution_count": 27,
   "id": "7d12372c",
   "metadata": {
    "execution": {
     "iopub.execute_input": "2022-06-26T23:25:50.826520Z",
     "iopub.status.busy": "2022-06-26T23:25:50.826144Z",
     "iopub.status.idle": "2022-06-26T23:25:50.834959Z",
     "shell.execute_reply": "2022-06-26T23:25:50.833794Z"
    },
    "papermill": {
     "duration": 0.028852,
     "end_time": "2022-06-26T23:25:50.837330",
     "exception": false,
     "start_time": "2022-06-26T23:25:50.808478",
     "status": "completed"
    },
    "tags": []
   },
   "outputs": [
    {
     "data": {
      "text/plain": [
       "id                  object\n",
       "distance           float64\n",
       "duration           float64\n",
       "motorway           float64\n",
       "trunk              float64\n",
       "primary            float64\n",
       "secondary          float64\n",
       "tertiary           float64\n",
       "unclassified       float64\n",
       "residential        float64\n",
       "nTrafficSignals      int64\n",
       "nCrossing            int64\n",
       "nStop                int64\n",
       "nIntersection        int64\n",
       "srcCounty          float64\n",
       "dstCounty          float64\n",
       "dtype: object"
      ]
     },
     "execution_count": 27,
     "metadata": {},
     "output_type": "execute_result"
    }
   ],
   "source": [
    "osrm_train.dtypes"
   ]
  },
  {
   "cell_type": "code",
   "execution_count": 28,
   "id": "96902c02",
   "metadata": {
    "execution": {
     "iopub.execute_input": "2022-06-26T23:25:50.871526Z",
     "iopub.status.busy": "2022-06-26T23:25:50.871090Z",
     "iopub.status.idle": "2022-06-26T23:25:50.879962Z",
     "shell.execute_reply": "2022-06-26T23:25:50.878784Z"
    },
    "papermill": {
     "duration": 0.028363,
     "end_time": "2022-06-26T23:25:50.882404",
     "exception": false,
     "start_time": "2022-06-26T23:25:50.854041",
     "status": "completed"
    },
    "tags": []
   },
   "outputs": [
    {
     "data": {
      "text/plain": [
       "id                  object\n",
       "distance           float64\n",
       "duration           float64\n",
       "motorway           float64\n",
       "trunk              float64\n",
       "primary            float64\n",
       "secondary          float64\n",
       "tertiary           float64\n",
       "unclassified       float64\n",
       "residential        float64\n",
       "nTrafficSignals      int64\n",
       "nCrossing            int64\n",
       "nStop                int64\n",
       "nIntersection        int64\n",
       "srcCounty          float64\n",
       "dstCounty          float64\n",
       "dtype: object"
      ]
     },
     "execution_count": 28,
     "metadata": {},
     "output_type": "execute_result"
    }
   ],
   "source": [
    "osrm_test.dtypes"
   ]
  },
  {
   "cell_type": "code",
   "execution_count": 29,
   "id": "a5a73728",
   "metadata": {
    "execution": {
     "iopub.execute_input": "2022-06-26T23:25:50.917226Z",
     "iopub.status.busy": "2022-06-26T23:25:50.916804Z",
     "iopub.status.idle": "2022-06-26T23:25:50.932453Z",
     "shell.execute_reply": "2022-06-26T23:25:50.931322Z"
    },
    "papermill": {
     "duration": 0.036132,
     "end_time": "2022-06-26T23:25:50.934823",
     "exception": false,
     "start_time": "2022-06-26T23:25:50.898691",
     "status": "completed"
    },
    "tags": []
   },
   "outputs": [
    {
     "data": {
      "text/html": [
       "<div>\n",
       "<style scoped>\n",
       "    .dataframe tbody tr th:only-of-type {\n",
       "        vertical-align: middle;\n",
       "    }\n",
       "\n",
       "    .dataframe tbody tr th {\n",
       "        vertical-align: top;\n",
       "    }\n",
       "\n",
       "    .dataframe thead th {\n",
       "        text-align: right;\n",
       "    }\n",
       "</style>\n",
       "<table border=\"1\" class=\"dataframe\">\n",
       "  <thead>\n",
       "    <tr style=\"text-align: right;\">\n",
       "      <th></th>\n",
       "      <th>id</th>\n",
       "      <th>distance</th>\n",
       "      <th>duration</th>\n",
       "      <th>motorway</th>\n",
       "      <th>trunk</th>\n",
       "      <th>primary</th>\n",
       "      <th>secondary</th>\n",
       "      <th>tertiary</th>\n",
       "      <th>unclassified</th>\n",
       "      <th>residential</th>\n",
       "      <th>nTrafficSignals</th>\n",
       "      <th>nCrossing</th>\n",
       "      <th>nStop</th>\n",
       "      <th>nIntersection</th>\n",
       "      <th>srcCounty</th>\n",
       "      <th>dstCounty</th>\n",
       "    </tr>\n",
       "  </thead>\n",
       "  <tbody>\n",
       "    <tr>\n",
       "      <th>0</th>\n",
       "      <td>id2875421</td>\n",
       "      <td>2009.10</td>\n",
       "      <td>160.90</td>\n",
       "      <td>0.00</td>\n",
       "      <td>0.00</td>\n",
       "      <td>0.00</td>\n",
       "      <td>0.00</td>\n",
       "      <td>1.00</td>\n",
       "      <td>0.00</td>\n",
       "      <td>0.00</td>\n",
       "      <td>14</td>\n",
       "      <td>5</td>\n",
       "      <td>0</td>\n",
       "      <td>4</td>\n",
       "      <td>1.00</td>\n",
       "      <td>1.00</td>\n",
       "    </tr>\n",
       "    <tr>\n",
       "      <th>1</th>\n",
       "      <td>id2377394</td>\n",
       "      <td>2513.40</td>\n",
       "      <td>256.50</td>\n",
       "      <td>0.00</td>\n",
       "      <td>0.00</td>\n",
       "      <td>0.00</td>\n",
       "      <td>0.35</td>\n",
       "      <td>0.17</td>\n",
       "      <td>0.00</td>\n",
       "      <td>0.14</td>\n",
       "      <td>25</td>\n",
       "      <td>13</td>\n",
       "      <td>0</td>\n",
       "      <td>0</td>\n",
       "      <td>1.00</td>\n",
       "      <td>1.00</td>\n",
       "    </tr>\n",
       "  </tbody>\n",
       "</table>\n",
       "</div>"
      ],
      "text/plain": [
       "          id  distance  duration  motorway  trunk  primary  secondary  \\\n",
       "0  id2875421   2009.10    160.90      0.00   0.00     0.00       0.00   \n",
       "1  id2377394   2513.40    256.50      0.00   0.00     0.00       0.35   \n",
       "\n",
       "   tertiary  unclassified  residential  nTrafficSignals  nCrossing  nStop  \\\n",
       "0      1.00          0.00         0.00               14          5      0   \n",
       "1      0.17          0.00         0.14               25         13      0   \n",
       "\n",
       "   nIntersection  srcCounty  dstCounty  \n",
       "0              4       1.00       1.00  \n",
       "1              0       1.00       1.00  "
      ]
     },
     "execution_count": 29,
     "metadata": {},
     "output_type": "execute_result"
    }
   ],
   "source": [
    "osrm_train.head(2)"
   ]
  },
  {
   "cell_type": "code",
   "execution_count": 30,
   "id": "af442e17",
   "metadata": {
    "execution": {
     "iopub.execute_input": "2022-06-26T23:25:50.969732Z",
     "iopub.status.busy": "2022-06-26T23:25:50.968834Z",
     "iopub.status.idle": "2022-06-26T23:26:20.933833Z",
     "shell.execute_reply": "2022-06-26T23:26:20.932446Z"
    },
    "papermill": {
     "duration": 29.9855,
     "end_time": "2022-06-26T23:26:20.936738",
     "exception": false,
     "start_time": "2022-06-26T23:25:50.951238",
     "status": "completed"
    },
    "tags": []
   },
   "outputs": [
    {
     "name": "stdout",
     "output_type": "stream",
     "text": [
      "1458643\n",
      "1458644\n"
     ]
    }
   ],
   "source": [
    "print(len(np.intersect1d(osrm_train['id'], train['id'])))\n",
    "print(train.shape[0])"
   ]
  },
  {
   "cell_type": "markdown",
   "id": "4c9688d6",
   "metadata": {
    "papermill": {
     "duration": 0.016295,
     "end_time": "2022-06-26T23:26:20.970621",
     "exception": false,
     "start_time": "2022-06-26T23:26:20.954326",
     "status": "completed"
    },
    "tags": []
   },
   "source": [
    "* The number of ids in osrm_train is less than the origin train set 1 id, every id in osrm_train are in train set."
   ]
  },
  {
   "cell_type": "code",
   "execution_count": 31,
   "id": "cb0085d8",
   "metadata": {
    "execution": {
     "iopub.execute_input": "2022-06-26T23:26:21.005618Z",
     "iopub.status.busy": "2022-06-26T23:26:21.004880Z",
     "iopub.status.idle": "2022-06-26T23:26:21.878742Z",
     "shell.execute_reply": "2022-06-26T23:26:21.877323Z"
    },
    "papermill": {
     "duration": 0.894371,
     "end_time": "2022-06-26T23:26:21.881280",
     "exception": false,
     "start_time": "2022-06-26T23:26:20.986909",
     "status": "completed"
    },
    "tags": []
   },
   "outputs": [
    {
     "data": {
      "text/html": [
       "<div>\n",
       "<style scoped>\n",
       "    .dataframe tbody tr th:only-of-type {\n",
       "        vertical-align: middle;\n",
       "    }\n",
       "\n",
       "    .dataframe tbody tr th {\n",
       "        vertical-align: top;\n",
       "    }\n",
       "\n",
       "    .dataframe thead th {\n",
       "        text-align: right;\n",
       "    }\n",
       "</style>\n",
       "<table border=\"1\" class=\"dataframe\">\n",
       "  <thead>\n",
       "    <tr style=\"text-align: right;\">\n",
       "      <th></th>\n",
       "      <th>distance</th>\n",
       "      <th>duration</th>\n",
       "      <th>motorway</th>\n",
       "      <th>trunk</th>\n",
       "      <th>primary</th>\n",
       "      <th>secondary</th>\n",
       "      <th>tertiary</th>\n",
       "      <th>unclassified</th>\n",
       "      <th>residential</th>\n",
       "      <th>nTrafficSignals</th>\n",
       "      <th>nCrossing</th>\n",
       "      <th>nStop</th>\n",
       "      <th>nIntersection</th>\n",
       "      <th>srcCounty</th>\n",
       "      <th>dstCounty</th>\n",
       "    </tr>\n",
       "  </thead>\n",
       "  <tbody>\n",
       "    <tr>\n",
       "      <th>count</th>\n",
       "      <td>1458643.00</td>\n",
       "      <td>1458643.00</td>\n",
       "      <td>1458643.00</td>\n",
       "      <td>1458643.00</td>\n",
       "      <td>1458643.00</td>\n",
       "      <td>1458643.00</td>\n",
       "      <td>1458643.00</td>\n",
       "      <td>1458643.00</td>\n",
       "      <td>1458643.00</td>\n",
       "      <td>1458643.00</td>\n",
       "      <td>1458643.00</td>\n",
       "      <td>1458643.00</td>\n",
       "      <td>1458643.00</td>\n",
       "      <td>1458643.00</td>\n",
       "      <td>1458643.00</td>\n",
       "    </tr>\n",
       "    <tr>\n",
       "      <th>mean</th>\n",
       "      <td>4569.43</td>\n",
       "      <td>343.50</td>\n",
       "      <td>0.00</td>\n",
       "      <td>0.13</td>\n",
       "      <td>0.03</td>\n",
       "      <td>0.27</td>\n",
       "      <td>0.42</td>\n",
       "      <td>0.01</td>\n",
       "      <td>0.04</td>\n",
       "      <td>24.50</td>\n",
       "      <td>8.81</td>\n",
       "      <td>0.12</td>\n",
       "      <td>2.52</td>\n",
       "      <td>1.22</td>\n",
       "      <td>1.29</td>\n",
       "    </tr>\n",
       "    <tr>\n",
       "      <th>std</th>\n",
       "      <td>5482.10</td>\n",
       "      <td>301.02</td>\n",
       "      <td>0.01</td>\n",
       "      <td>0.26</td>\n",
       "      <td>0.12</td>\n",
       "      <td>0.31</td>\n",
       "      <td>0.35</td>\n",
       "      <td>0.06</td>\n",
       "      <td>0.12</td>\n",
       "      <td>14.67</td>\n",
       "      <td>9.26</td>\n",
       "      <td>0.46</td>\n",
       "      <td>5.23</td>\n",
       "      <td>0.76</td>\n",
       "      <td>0.85</td>\n",
       "    </tr>\n",
       "    <tr>\n",
       "      <th>min</th>\n",
       "      <td>0.00</td>\n",
       "      <td>0.00</td>\n",
       "      <td>0.00</td>\n",
       "      <td>0.00</td>\n",
       "      <td>0.00</td>\n",
       "      <td>0.00</td>\n",
       "      <td>0.00</td>\n",
       "      <td>0.00</td>\n",
       "      <td>0.00</td>\n",
       "      <td>0.00</td>\n",
       "      <td>0.00</td>\n",
       "      <td>0.00</td>\n",
       "      <td>0.00</td>\n",
       "      <td>1.00</td>\n",
       "      <td>1.00</td>\n",
       "    </tr>\n",
       "    <tr>\n",
       "      <th>25%</th>\n",
       "      <td>1653.90</td>\n",
       "      <td>155.40</td>\n",
       "      <td>0.00</td>\n",
       "      <td>0.00</td>\n",
       "      <td>0.00</td>\n",
       "      <td>0.00</td>\n",
       "      <td>0.08</td>\n",
       "      <td>0.00</td>\n",
       "      <td>0.00</td>\n",
       "      <td>14.00</td>\n",
       "      <td>2.00</td>\n",
       "      <td>0.00</td>\n",
       "      <td>0.00</td>\n",
       "      <td>1.00</td>\n",
       "      <td>1.00</td>\n",
       "    </tr>\n",
       "    <tr>\n",
       "      <th>50%</th>\n",
       "      <td>2729.70</td>\n",
       "      <td>249.20</td>\n",
       "      <td>0.00</td>\n",
       "      <td>0.00</td>\n",
       "      <td>0.00</td>\n",
       "      <td>0.13</td>\n",
       "      <td>0.35</td>\n",
       "      <td>0.00</td>\n",
       "      <td>0.00</td>\n",
       "      <td>21.00</td>\n",
       "      <td>6.00</td>\n",
       "      <td>0.00</td>\n",
       "      <td>1.00</td>\n",
       "      <td>1.00</td>\n",
       "      <td>1.00</td>\n",
       "    </tr>\n",
       "    <tr>\n",
       "      <th>75%</th>\n",
       "      <td>5048.85</td>\n",
       "      <td>424.00</td>\n",
       "      <td>0.00</td>\n",
       "      <td>0.00</td>\n",
       "      <td>0.00</td>\n",
       "      <td>0.46</td>\n",
       "      <td>0.76</td>\n",
       "      <td>0.00</td>\n",
       "      <td>0.02</td>\n",
       "      <td>32.00</td>\n",
       "      <td>13.00</td>\n",
       "      <td>0.00</td>\n",
       "      <td>3.00</td>\n",
       "      <td>1.00</td>\n",
       "      <td>1.00</td>\n",
       "    </tr>\n",
       "    <tr>\n",
       "      <th>max</th>\n",
       "      <td>1038310.00</td>\n",
       "      <td>46645.30</td>\n",
       "      <td>1.00</td>\n",
       "      <td>1.00</td>\n",
       "      <td>1.00</td>\n",
       "      <td>1.00</td>\n",
       "      <td>1.00</td>\n",
       "      <td>1.00</td>\n",
       "      <td>1.00</td>\n",
       "      <td>112.00</td>\n",
       "      <td>91.00</td>\n",
       "      <td>10.00</td>\n",
       "      <td>132.00</td>\n",
       "      <td>6.00</td>\n",
       "      <td>6.00</td>\n",
       "    </tr>\n",
       "  </tbody>\n",
       "</table>\n",
       "</div>"
      ],
      "text/plain": [
       "        distance   duration   motorway      trunk    primary  secondary  \\\n",
       "count 1458643.00 1458643.00 1458643.00 1458643.00 1458643.00 1458643.00   \n",
       "mean     4569.43     343.50       0.00       0.13       0.03       0.27   \n",
       "std      5482.10     301.02       0.01       0.26       0.12       0.31   \n",
       "min         0.00       0.00       0.00       0.00       0.00       0.00   \n",
       "25%      1653.90     155.40       0.00       0.00       0.00       0.00   \n",
       "50%      2729.70     249.20       0.00       0.00       0.00       0.13   \n",
       "75%      5048.85     424.00       0.00       0.00       0.00       0.46   \n",
       "max   1038310.00   46645.30       1.00       1.00       1.00       1.00   \n",
       "\n",
       "        tertiary  unclassified  residential  nTrafficSignals  nCrossing  \\\n",
       "count 1458643.00    1458643.00   1458643.00       1458643.00 1458643.00   \n",
       "mean        0.42          0.01         0.04            24.50       8.81   \n",
       "std         0.35          0.06         0.12            14.67       9.26   \n",
       "min         0.00          0.00         0.00             0.00       0.00   \n",
       "25%         0.08          0.00         0.00            14.00       2.00   \n",
       "50%         0.35          0.00         0.00            21.00       6.00   \n",
       "75%         0.76          0.00         0.02            32.00      13.00   \n",
       "max         1.00          1.00         1.00           112.00      91.00   \n",
       "\n",
       "           nStop  nIntersection  srcCounty  dstCounty  \n",
       "count 1458643.00     1458643.00 1458643.00 1458643.00  \n",
       "mean        0.12           2.52       1.22       1.29  \n",
       "std         0.46           5.23       0.76       0.85  \n",
       "min         0.00           0.00       1.00       1.00  \n",
       "25%         0.00           0.00       1.00       1.00  \n",
       "50%         0.00           1.00       1.00       1.00  \n",
       "75%         0.00           3.00       1.00       1.00  \n",
       "max        10.00         132.00       6.00       6.00  "
      ]
     },
     "execution_count": 31,
     "metadata": {},
     "output_type": "execute_result"
    }
   ],
   "source": [
    "osrm_train.describe()"
   ]
  },
  {
   "cell_type": "code",
   "execution_count": 32,
   "id": "66b38821",
   "metadata": {
    "execution": {
     "iopub.execute_input": "2022-06-26T23:26:21.917084Z",
     "iopub.status.busy": "2022-06-26T23:26:21.916228Z",
     "iopub.status.idle": "2022-06-26T23:26:22.011878Z",
     "shell.execute_reply": "2022-06-26T23:26:22.011032Z"
    },
    "papermill": {
     "duration": 0.116179,
     "end_time": "2022-06-26T23:26:22.014463",
     "exception": false,
     "start_time": "2022-06-26T23:26:21.898284",
     "status": "completed"
    },
    "tags": []
   },
   "outputs": [],
   "source": [
    "osrm_num_cols = list(osrm_train.select_dtypes(exclude = 'object').columns)\n",
    "osrm_cate_cols = list(osrm_train.select_dtypes(include = 'object').columns)"
   ]
  },
  {
   "cell_type": "code",
   "execution_count": 33,
   "id": "3171087a",
   "metadata": {
    "execution": {
     "iopub.execute_input": "2022-06-26T23:26:22.049687Z",
     "iopub.status.busy": "2022-06-26T23:26:22.049292Z",
     "iopub.status.idle": "2022-06-26T23:26:31.948372Z",
     "shell.execute_reply": "2022-06-26T23:26:31.946996Z"
    },
    "papermill": {
     "duration": 9.919987,
     "end_time": "2022-06-26T23:26:31.951202",
     "exception": false,
     "start_time": "2022-06-26T23:26:22.031215",
     "status": "completed"
    },
    "tags": []
   },
   "outputs": [
    {
     "data": {
      "text/html": [
       "<div>\n",
       "<style scoped>\n",
       "    .dataframe tbody tr th:only-of-type {\n",
       "        vertical-align: middle;\n",
       "    }\n",
       "\n",
       "    .dataframe tbody tr th {\n",
       "        vertical-align: top;\n",
       "    }\n",
       "\n",
       "    .dataframe thead th {\n",
       "        text-align: right;\n",
       "    }\n",
       "</style>\n",
       "<table border=\"1\" class=\"dataframe\">\n",
       "  <thead>\n",
       "    <tr style=\"text-align: right;\">\n",
       "      <th></th>\n",
       "      <th>distance</th>\n",
       "      <th>duration</th>\n",
       "      <th>motorway</th>\n",
       "      <th>trunk</th>\n",
       "      <th>primary</th>\n",
       "      <th>secondary</th>\n",
       "      <th>tertiary</th>\n",
       "      <th>unclassified</th>\n",
       "      <th>residential</th>\n",
       "      <th>nTrafficSignals</th>\n",
       "      <th>nCrossing</th>\n",
       "      <th>nStop</th>\n",
       "      <th>nIntersection</th>\n",
       "      <th>srcCounty</th>\n",
       "      <th>dstCounty</th>\n",
       "    </tr>\n",
       "  </thead>\n",
       "  <tbody>\n",
       "    <tr>\n",
       "      <th>missing_percentage</th>\n",
       "      <td>0.00</td>\n",
       "      <td>0.00</td>\n",
       "      <td>0.00</td>\n",
       "      <td>0.00</td>\n",
       "      <td>0.00</td>\n",
       "      <td>0.00</td>\n",
       "      <td>0.00</td>\n",
       "      <td>0.00</td>\n",
       "      <td>0.00</td>\n",
       "      <td>0.00</td>\n",
       "      <td>0.00</td>\n",
       "      <td>0.00</td>\n",
       "      <td>0.00</td>\n",
       "      <td>0.00</td>\n",
       "      <td>0.00</td>\n",
       "    </tr>\n",
       "    <tr>\n",
       "      <th>value_percentages</th>\n",
       "      <td>{0.0: 0.4, 0.4: 0.0, 0.2: 0.0, 0.3: 0.0, 0.7: ...</td>\n",
       "      <td>{0.0: 0.5, 0.1: 0.0, 153.7: 0.0, 152.9: 0.0, 1...</td>\n",
       "      <td>{0.0: 98.8, 1.0: 0.0, 0.0895147: 0.0, 0.410127...</td>\n",
       "      <td>{0.0: 77.4, 1.0: 0.0, 0.843357: 0.0, 0.868216:...</td>\n",
       "      <td>{0.0: 90.3, 1.0: 0.0, 0.318393: 0.0, 0.0372789...</td>\n",
       "      <td>{0.0: 28.5, 1.0: 2.7, 0.132881: 0.0, 0.2: 0.0,...</td>\n",
       "      <td>{0.0: 12.8, 1.0: 6.0, 0.00344565: 0.0, 0.33333...</td>\n",
       "      <td>{0.0: 89.0, 1.0: 0.0, 0.0203159: 0.0, 0.659213...</td>\n",
       "      <td>{0.0: 67.1, 1.0: 0.2, 0.137491: 0.0, 0.0909091...</td>\n",
       "      <td>{16: 3.5, 15: 3.5, 14: 3.4, 17: 3.4, 13: 3.4, ...</td>\n",
       "      <td>{0: 16.2, 2: 9.2, 4: 6.8, 3: 5.7, 5: 5.4, 6: 4...</td>\n",
       "      <td>{0: 91.6, 1: 6.4, 2: 1.4, 3: 0.4, 7: 0.1, 4: 0...</td>\n",
       "      <td>{0: 45.3, 1: 18.4, 2: 10.3, 3: 5.4, 4: 4.7, 5:...</td>\n",
       "      <td>{1.0: 92.1, 4.0: 5.9, 3.0: 1.8, 2.0: 0.1, 6.0:...</td>\n",
       "      <td>{1.0: 88.4, 3.0: 5.3, 4.0: 5.2, 2.0: 0.6, 6.0:...</td>\n",
       "    </tr>\n",
       "    <tr>\n",
       "      <th>num_values</th>\n",
       "      <td>195168</td>\n",
       "      <td>18645</td>\n",
       "      <td>17242</td>\n",
       "      <td>266611</td>\n",
       "      <td>132468</td>\n",
       "      <td>705224</td>\n",
       "      <td>776903</td>\n",
       "      <td>146442</td>\n",
       "      <td>397757</td>\n",
       "      <td>113</td>\n",
       "      <td>85</td>\n",
       "      <td>11</td>\n",
       "      <td>113</td>\n",
       "      <td>6</td>\n",
       "      <td>6</td>\n",
       "    </tr>\n",
       "  </tbody>\n",
       "</table>\n",
       "</div>"
      ],
      "text/plain": [
       "                                                             distance  \\\n",
       "missing_percentage                                               0.00   \n",
       "value_percentages   {0.0: 0.4, 0.4: 0.0, 0.2: 0.0, 0.3: 0.0, 0.7: ...   \n",
       "num_values                                                     195168   \n",
       "\n",
       "                                                             duration  \\\n",
       "missing_percentage                                               0.00   \n",
       "value_percentages   {0.0: 0.5, 0.1: 0.0, 153.7: 0.0, 152.9: 0.0, 1...   \n",
       "num_values                                                      18645   \n",
       "\n",
       "                                                             motorway  \\\n",
       "missing_percentage                                               0.00   \n",
       "value_percentages   {0.0: 98.8, 1.0: 0.0, 0.0895147: 0.0, 0.410127...   \n",
       "num_values                                                      17242   \n",
       "\n",
       "                                                                trunk  \\\n",
       "missing_percentage                                               0.00   \n",
       "value_percentages   {0.0: 77.4, 1.0: 0.0, 0.843357: 0.0, 0.868216:...   \n",
       "num_values                                                     266611   \n",
       "\n",
       "                                                              primary  \\\n",
       "missing_percentage                                               0.00   \n",
       "value_percentages   {0.0: 90.3, 1.0: 0.0, 0.318393: 0.0, 0.0372789...   \n",
       "num_values                                                     132468   \n",
       "\n",
       "                                                            secondary  \\\n",
       "missing_percentage                                               0.00   \n",
       "value_percentages   {0.0: 28.5, 1.0: 2.7, 0.132881: 0.0, 0.2: 0.0,...   \n",
       "num_values                                                     705224   \n",
       "\n",
       "                                                             tertiary  \\\n",
       "missing_percentage                                               0.00   \n",
       "value_percentages   {0.0: 12.8, 1.0: 6.0, 0.00344565: 0.0, 0.33333...   \n",
       "num_values                                                     776903   \n",
       "\n",
       "                                                         unclassified  \\\n",
       "missing_percentage                                               0.00   \n",
       "value_percentages   {0.0: 89.0, 1.0: 0.0, 0.0203159: 0.0, 0.659213...   \n",
       "num_values                                                     146442   \n",
       "\n",
       "                                                          residential  \\\n",
       "missing_percentage                                               0.00   \n",
       "value_percentages   {0.0: 67.1, 1.0: 0.2, 0.137491: 0.0, 0.0909091...   \n",
       "num_values                                                     397757   \n",
       "\n",
       "                                                      nTrafficSignals  \\\n",
       "missing_percentage                                               0.00   \n",
       "value_percentages   {16: 3.5, 15: 3.5, 14: 3.4, 17: 3.4, 13: 3.4, ...   \n",
       "num_values                                                        113   \n",
       "\n",
       "                                                            nCrossing  \\\n",
       "missing_percentage                                               0.00   \n",
       "value_percentages   {0: 16.2, 2: 9.2, 4: 6.8, 3: 5.7, 5: 5.4, 6: 4...   \n",
       "num_values                                                         85   \n",
       "\n",
       "                                                                nStop  \\\n",
       "missing_percentage                                               0.00   \n",
       "value_percentages   {0: 91.6, 1: 6.4, 2: 1.4, 3: 0.4, 7: 0.1, 4: 0...   \n",
       "num_values                                                         11   \n",
       "\n",
       "                                                        nIntersection  \\\n",
       "missing_percentage                                               0.00   \n",
       "value_percentages   {0: 45.3, 1: 18.4, 2: 10.3, 3: 5.4, 4: 4.7, 5:...   \n",
       "num_values                                                        113   \n",
       "\n",
       "                                                            srcCounty  \\\n",
       "missing_percentage                                               0.00   \n",
       "value_percentages   {1.0: 92.1, 4.0: 5.9, 3.0: 1.8, 2.0: 0.1, 6.0:...   \n",
       "num_values                                                          6   \n",
       "\n",
       "                                                            dstCounty  \n",
       "missing_percentage                                               0.00  \n",
       "value_percentages   {1.0: 88.4, 3.0: 5.3, 4.0: 5.2, 2.0: 0.6, 6.0:...  \n",
       "num_values                                                          6  "
      ]
     },
     "execution_count": 33,
     "metadata": {},
     "output_type": "execute_result"
    }
   ],
   "source": [
    "osrm_train[osrm_num_cols].agg([missing_percentage, value_percentages, num_values])"
   ]
  },
  {
   "cell_type": "code",
   "execution_count": 34,
   "id": "abea56d7",
   "metadata": {
    "execution": {
     "iopub.execute_input": "2022-06-26T23:26:31.989318Z",
     "iopub.status.busy": "2022-06-26T23:26:31.988456Z",
     "iopub.status.idle": "2022-06-26T23:26:54.113574Z",
     "shell.execute_reply": "2022-06-26T23:26:54.112340Z"
    },
    "papermill": {
     "duration": 22.148013,
     "end_time": "2022-06-26T23:26:54.116414",
     "exception": false,
     "start_time": "2022-06-26T23:26:31.968401",
     "status": "completed"
    },
    "tags": []
   },
   "outputs": [
    {
     "data": {
      "image/png": "[encoded data removed]",
      "text/plain": [
       "<Figure size 1440x2160 with 15 Axes>"
      ]
     },
     "metadata": {
      "needs_background": "light"
     },
     "output_type": "display_data"
    }
   ],
   "source": [
    "draw_chart(osrm_train.select_dtypes(exclude='object'),(20,30))"
   ]
  }
 ],
 "metadata": {
  "kernelspec": {
   "display_name": "Python 3",
   "language": "python",
   "name": "python3"
  },
  "language_info": {
   "codemirror_mode": {
    "name": "ipython",
    "version": 3
   },
   "file_extension": ".py",
   "mimetype": "text/x-python",
   "name": "python",
   "nbconvert_exporter": "python",
   "pygments_lexer": "ipython3",
   "version": "3.7.12"
  },
  "papermill": {
   "default_parameters": {},
   "duration": 234.269531,
   "end_time": "2022-06-26T23:26:56.164893",
   "environment_variables": {},
   "exception": null,
   "input_path": "__notebook__.ipynb",
   "output_path": "__notebook__.ipynb",
   "parameters": {},
   "start_time": "2022-06-26T23:23:01.895362",
   "version": "2.3.4"
  }
 },
 "nbformat": 4,
 "nbformat_minor": 5
}
