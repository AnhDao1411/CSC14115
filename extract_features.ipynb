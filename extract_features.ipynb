{
  "nbformat": 4,
  "nbformat_minor": 0,
  "metadata": {
    "colab": {
      "name": "extract_features.ipynb",
      "provenance": [],
      "collapsed_sections": [],
      "toc_visible": true,
      "include_colab_link": true
    },
    "kernelspec": {
      "name": "python3",
      "display_name": "Python 3"
    },
    "language_info": {
      "name": "python"
    }
  },
  "cells": [
    {
      "cell_type": "markdown",
      "metadata": {
        "id": "view-in-github",
        "colab_type": "text"
      },
      "source": [
        "<a href=\"https://colab.research.google.com/github/AnhDao1411/CSC14115/blob/main/extract_features.ipynb\" target=\"_parent\"><img src=\"https://colab.research.google.com/assets/colab-badge.svg\" alt=\"Open In Colab\"/></a>"
      ]
    },
    {
      "cell_type": "markdown",
      "source": [
        "# New York City Taxi Trip Duration"
      ],
      "metadata": {
        "id": "yaZ0XXI4ssX6"
      }
    },
    {
      "cell_type": "markdown",
      "source": [
        "## Problem Statement\n",
        "\n",
        "### Overview\n",
        "This is a kaggle competition that challenges us to predict the taxi trip duration in New York city. Dataset is provided by the NYC taxi and Limousine commision for building a model.\n",
        "\n",
        "Money prize: 30,000$.\n",
        "\n",
        "Business motivation: providing good driving time estimation to\n",
        "- Detect bottlenecks that appear in the taxi traffic network.\n",
        "- Predict the taxi trip price. \n",
        "\n",
        "Input: a taxi trip with it's attributes. \\\n",
        "Output: trip duration in seconds. \n",
        " \n",
        "### Input and Output Data description\n",
        "\n",
        "There are three files:\n",
        "- train.csv: (1458644,11)\n",
        "- test.csv: (625134,9)\n",
        "- sample_submission.csv: (625134,2) \n",
        "\n",
        "| Column name | Description | \n",
        "| -------- | -------- | \n",
        "| id   | the id for each trip     |\n",
        "| vendor_id   | the id provided Associated with the trip record     |\n",
        "| pickup_datetime   | date and time when the meter was engaged     |\n",
        "| dropoff_datetime   | date and time when the meter was disengaged    |\n",
        "| passenger_count   | The number of passengers in the taxi    |\n",
        "| pickup_longitude   | the longitude when the meter was engaged     |\n",
        "| pickup_latitude   | the latitude when the meter was engaged   |\n",
        "| dropoff_longitude   | the longitude when the meter was disengaged     |\n",
        "| dropoff_latitude   | the latitude when the meter was disengaged     |\n",
        "| store_and_fwd_flag   | This flag indicates whether the trip record was held in vehicle memory before sending to the vendor because the vehicle did not have a connection to the server  |\n",
        "| trip_duration  | duration of the trip in seconds     |\n",
        "\n",
        "\n",
        "- A record in train.csv\n",
        "\n",
        "![](https://i.imgur.com/LtLFbTO.png)\n",
        "\n",
        "- A record in test.csv\n",
        "![](https://i.imgur.com/gEJR1jT.png)\n",
        "\n",
        "- A record in sample_submission.csv\n",
        "![](https://i.imgur.com/zwq0ezw.png)\n",
        "\n",
        "\n",
        "\n",
        "\n",
        "### Evaluation Metric\n",
        "- **Root Mean Squared Logarithmic Error** (RMSLE) is the metric was used to assess the result of this contest.\n",
        "\n",
        "$$\\epsilon = \\sqrt{\\frac{1}{n}\\sum^{n}_{i=1}(log(p_i + 1) -log(a_i + 1)) ^2}$$\n",
        "\n",
        "* With respect to:\n",
        "    * $\\epsilon$: RMSLE score\n",
        "    * n: the number of records (trip duration's observations) in the dataset\n",
        "    * $p_i$: the prediction of trip duration\n",
        "    * $a_i$: the actual value of trip duration\n",
        "    * log(x): natural logarithm (base is e)\n",
        "\n",
        "* **The smaller the RMSLE value is, the better the model**."
      ],
      "metadata": {
        "papermill": {
          "duration": 0.012248,
          "end_time": "2022-06-26T23:23:12.043415",
          "exception": false,
          "start_time": "2022-06-26T23:23:12.031167",
          "status": "completed"
        },
        "tags": [],
        "id": "0190a467"
      }
    },
    {
      "cell_type": "code",
      "source": [
        "from google.colab import drive\n",
        "drive.mount('/content/drive')"
      ],
      "metadata": {
        "id": "tkt0MnEFugbn",
        "outputId": "e414dfeb-1049-42b0-edce-7fa20a9abb60",
        "colab": {
          "base_uri": "https://localhost:8080/"
        }
      },
      "execution_count": null,
      "outputs": [
        {
          "output_type": "stream",
          "name": "stdout",
          "text": [
            "Drive already mounted at /content/drive; to attempt to forcibly remount, call drive.mount(\"/content/drive\", force_remount=True).\n"
          ]
        }
      ]
    },
    {
      "cell_type": "code",
      "source": [
        "%matplotlib inline\n",
        "from tqdm import tqdm\n",
        "import numpy as np \n",
        "import pandas as pd\n",
        "from datetime import timedelta\n",
        "import datetime as dt\n",
        "import matplotlib.pyplot as plt\n",
        "import random\n",
        "\n",
        "plt.rcParams['figure.figsize'] = [20, 15]\n",
        "\n",
        "import seaborn as sns\n",
        "import xgboost as xgb\n",
        "from sklearn.model_selection import train_test_split\n",
        "from sklearn.decomposition import PCA\n",
        "from sklearn.cluster import MiniBatchKMeans\n",
        "import warnings\n",
        "from math import radians, cos, sin, asin, sqrt\n",
        "warnings.filterwarnings('ignore')\n",
        "\n",
        "from sklearn.pipeline import Pipeline,make_pipeline\n",
        "from sklearn.preprocessing import StandardScaler, OneHotEncoder\n",
        "from sklearn.impute import SimpleImputer\n",
        "from sklearn.compose import ColumnTransformer\n",
        "from sklearn.linear_model import LinearRegression\n",
        "\n",
        "from sklearn.metrics import mean_squared_error\n",
        "\n",
        "from sklearn.model_selection import RandomizedSearchCV, GridSearchCV\n",
        "from sklearn.model_selection import StratifiedKFold\n",
        "import xgboost as xgb\n",
        "from sklearn.metrics import accuracy_score\n",
        "\n",
        "import json"
      ],
      "metadata": {
        "execution": {
          "iopub.execute_input": "2022-06-26T23:23:12.067426Z",
          "iopub.status.busy": "2022-06-26T23:23:12.066475Z",
          "iopub.status.idle": "2022-06-26T23:23:13.858248Z",
          "shell.execute_reply": "2022-06-26T23:23:13.857333Z"
        },
        "papermill": {
          "duration": 1.806753,
          "end_time": "2022-06-26T23:23:13.860952",
          "exception": false,
          "start_time": "2022-06-26T23:23:12.054199",
          "status": "completed"
        },
        "tags": [],
        "id": "f7fb069c"
      },
      "execution_count": null,
      "outputs": []
    },
    {
      "cell_type": "code",
      "source": [
        "# !unzip ../input/nyc-taxi-trip-duration/train.zip -d nyc-taxi-trip-duration\n",
        "# !unzip ../input/nyc-taxi-trip-duration/test.zip -d nyc-taxi-trip-duration\n",
        "# !unzip ../input/nyc-taxi-trip-duration/sample_submission.zip -d nyc-taxi-trip-duration\n",
        "%cd /content/drive/MyDrive/CSC14115 - KHDLUD"
      ],
      "metadata": {
        "execution": {
          "iopub.execute_input": "2022-06-26T23:23:13.916991Z",
          "iopub.status.busy": "2022-06-26T23:23:13.916287Z",
          "iopub.status.idle": "2022-06-26T23:23:19.045532Z",
          "shell.execute_reply": "2022-06-26T23:23:19.044483Z"
        },
        "papermill": {
          "duration": 5.144178,
          "end_time": "2022-06-26T23:23:19.048193",
          "exception": false,
          "start_time": "2022-06-26T23:23:13.904015",
          "status": "completed"
        },
        "tags": [],
        "id": "becfaff6",
        "outputId": "7c0f1451-a40d-4f67-f435-2bc823895142",
        "colab": {
          "base_uri": "https://localhost:8080/"
        }
      },
      "execution_count": null,
      "outputs": [
        {
          "output_type": "stream",
          "name": "stdout",
          "text": [
            "/content/drive/.shortcut-targets-by-id/1X9WZOvukNSK-VHf1Vue6YDbHXMF8g2rc/CSC14115 - KHDLUD\n"
          ]
        }
      ]
    },
    {
      "cell_type": "code",
      "source": [
        "pd.set_option('display.float_format', lambda x: '%.2f' % x)"
      ],
      "metadata": {
        "execution": {
          "iopub.execute_input": "2022-06-26T23:23:13.885872Z",
          "iopub.status.busy": "2022-06-26T23:23:13.885374Z",
          "iopub.status.idle": "2022-06-26T23:23:13.890567Z",
          "shell.execute_reply": "2022-06-26T23:23:13.88955Z"
        },
        "papermill": {
          "duration": 0.019542,
          "end_time": "2022-06-26T23:23:13.892842",
          "exception": false,
          "start_time": "2022-06-26T23:23:13.8733",
          "status": "completed"
        },
        "tags": [],
        "id": "99f9221b"
      },
      "execution_count": null,
      "outputs": []
    },
    {
      "cell_type": "markdown",
      "source": [
        "## Explore data and Extract features"
      ],
      "metadata": {
        "id": "yTo2JuOIs3Fe"
      }
    },
    {
      "cell_type": "code",
      "source": [
        "np.random.seed(1987)\n",
        "N = 100000 # number of sample rows in plots\n",
        "t0 = dt.datetime.now()\n",
        "train = pd.read_csv('./nyc-taxi-trip-duration/train.csv')\n",
        "test = pd.read_csv('./nyc-taxi-trip-duration/test.csv')\n",
        "sample_submission = pd.read_csv('./nyc-taxi-trip-duration/sample_submission.csv')"
      ],
      "metadata": {
        "execution": {
          "iopub.execute_input": "2022-06-26T23:23:19.072718Z",
          "iopub.status.busy": "2022-06-26T23:23:19.07234Z",
          "iopub.status.idle": "2022-06-26T23:23:25.703014Z",
          "shell.execute_reply": "2022-06-26T23:23:25.70186Z"
        },
        "papermill": {
          "duration": 6.645923,
          "end_time": "2022-06-26T23:23:25.705575",
          "exception": false,
          "start_time": "2022-06-26T23:23:19.059652",
          "status": "completed"
        },
        "tags": [],
        "id": "af2113c7"
      },
      "execution_count": null,
      "outputs": []
    },
    {
      "cell_type": "code",
      "source": [
        "train.head(2)"
      ],
      "metadata": {
        "execution": {
          "iopub.execute_input": "2022-06-26T23:23:25.730994Z",
          "iopub.status.busy": "2022-06-26T23:23:25.730638Z",
          "iopub.status.idle": "2022-06-26T23:23:25.752929Z",
          "shell.execute_reply": "2022-06-26T23:23:25.751737Z"
        },
        "papermill": {
          "duration": 0.038057,
          "end_time": "2022-06-26T23:23:25.755371",
          "exception": false,
          "start_time": "2022-06-26T23:23:25.717314",
          "status": "completed"
        },
        "tags": [],
        "id": "3048c1ba",
        "outputId": "e664990a-d05c-4a0d-b93b-dd47af5dd6af",
        "colab": {
          "base_uri": "https://localhost:8080/",
          "height": 211
        }
      },
      "execution_count": null,
      "outputs": [
        {
          "output_type": "execute_result",
          "data": {
            "text/plain": [
              "          id  vendor_id      pickup_datetime     dropoff_datetime  \\\n",
              "0  id2875421          2  2016-03-14 17:24:55  2016-03-14 17:32:30   \n",
              "1  id2377394          1  2016-06-12 00:43:35  2016-06-12 00:54:38   \n",
              "\n",
              "   passenger_count  pickup_longitude  pickup_latitude  dropoff_longitude  \\\n",
              "0                1            -73.98            40.77             -73.96   \n",
              "1                1            -73.98            40.74             -74.00   \n",
              "\n",
              "   dropoff_latitude store_and_fwd_flag  trip_duration  \n",
              "0             40.77                  N            455  \n",
              "1             40.73                  N            663  "
            ],
            "text/html": [
              "\n",
              "  <div id=\"df-48068138-58e8-46b3-9aaf-6b4a4bf29b23\">\n",
              "    <div class=\"colab-df-container\">\n",
              "      <div>\n",
              "<style scoped>\n",
              "    .dataframe tbody tr th:only-of-type {\n",
              "        vertical-align: middle;\n",
              "    }\n",
              "\n",
              "    .dataframe tbody tr th {\n",
              "        vertical-align: top;\n",
              "    }\n",
              "\n",
              "    .dataframe thead th {\n",
              "        text-align: right;\n",
              "    }\n",
              "</style>\n",
              "<table border=\"1\" class=\"dataframe\">\n",
              "  <thead>\n",
              "    <tr style=\"text-align: right;\">\n",
              "      <th></th>\n",
              "      <th>id</th>\n",
              "      <th>vendor_id</th>\n",
              "      <th>pickup_datetime</th>\n",
              "      <th>dropoff_datetime</th>\n",
              "      <th>passenger_count</th>\n",
              "      <th>pickup_longitude</th>\n",
              "      <th>pickup_latitude</th>\n",
              "      <th>dropoff_longitude</th>\n",
              "      <th>dropoff_latitude</th>\n",
              "      <th>store_and_fwd_flag</th>\n",
              "      <th>trip_duration</th>\n",
              "    </tr>\n",
              "  </thead>\n",
              "  <tbody>\n",
              "    <tr>\n",
              "      <th>0</th>\n",
              "      <td>id2875421</td>\n",
              "      <td>2</td>\n",
              "      <td>2016-03-14 17:24:55</td>\n",
              "      <td>2016-03-14 17:32:30</td>\n",
              "      <td>1</td>\n",
              "      <td>-73.98</td>\n",
              "      <td>40.77</td>\n",
              "      <td>-73.96</td>\n",
              "      <td>40.77</td>\n",
              "      <td>N</td>\n",
              "      <td>455</td>\n",
              "    </tr>\n",
              "    <tr>\n",
              "      <th>1</th>\n",
              "      <td>id2377394</td>\n",
              "      <td>1</td>\n",
              "      <td>2016-06-12 00:43:35</td>\n",
              "      <td>2016-06-12 00:54:38</td>\n",
              "      <td>1</td>\n",
              "      <td>-73.98</td>\n",
              "      <td>40.74</td>\n",
              "      <td>-74.00</td>\n",
              "      <td>40.73</td>\n",
              "      <td>N</td>\n",
              "      <td>663</td>\n",
              "    </tr>\n",
              "  </tbody>\n",
              "</table>\n",
              "</div>\n",
              "      <button class=\"colab-df-convert\" onclick=\"convertToInteractive('df-48068138-58e8-46b3-9aaf-6b4a4bf29b23')\"\n",
              "              title=\"Convert this dataframe to an interactive table.\"\n",
              "              style=\"display:none;\">\n",
              "        \n",
              "  <svg xmlns=\"http://www.w3.org/2000/svg\" height=\"24px\"viewBox=\"0 0 24 24\"\n",
              "       width=\"24px\">\n",
              "    <path d=\"M0 0h24v24H0V0z\" fill=\"none\"/>\n",
              "    <path d=\"M18.56 5.44l.94 2.06.94-2.06 2.06-.94-2.06-.94-.94-2.06-.94 2.06-2.06.94zm-11 1L8.5 8.5l.94-2.06 2.06-.94-2.06-.94L8.5 2.5l-.94 2.06-2.06.94zm10 10l.94 2.06.94-2.06 2.06-.94-2.06-.94-.94-2.06-.94 2.06-2.06.94z\"/><path d=\"M17.41 7.96l-1.37-1.37c-.4-.4-.92-.59-1.43-.59-.52 0-1.04.2-1.43.59L10.3 9.45l-7.72 7.72c-.78.78-.78 2.05 0 2.83L4 21.41c.39.39.9.59 1.41.59.51 0 1.02-.2 1.41-.59l7.78-7.78 2.81-2.81c.8-.78.8-2.07 0-2.86zM5.41 20L4 18.59l7.72-7.72 1.47 1.35L5.41 20z\"/>\n",
              "  </svg>\n",
              "      </button>\n",
              "      \n",
              "  <style>\n",
              "    .colab-df-container {\n",
              "      display:flex;\n",
              "      flex-wrap:wrap;\n",
              "      gap: 12px;\n",
              "    }\n",
              "\n",
              "    .colab-df-convert {\n",
              "      background-color: #E8F0FE;\n",
              "      border: none;\n",
              "      border-radius: 50%;\n",
              "      cursor: pointer;\n",
              "      display: none;\n",
              "      fill: #1967D2;\n",
              "      height: 32px;\n",
              "      padding: 0 0 0 0;\n",
              "      width: 32px;\n",
              "    }\n",
              "\n",
              "    .colab-df-convert:hover {\n",
              "      background-color: #E2EBFA;\n",
              "      box-shadow: 0px 1px 2px rgba(60, 64, 67, 0.3), 0px 1px 3px 1px rgba(60, 64, 67, 0.15);\n",
              "      fill: #174EA6;\n",
              "    }\n",
              "\n",
              "    [theme=dark] .colab-df-convert {\n",
              "      background-color: #3B4455;\n",
              "      fill: #D2E3FC;\n",
              "    }\n",
              "\n",
              "    [theme=dark] .colab-df-convert:hover {\n",
              "      background-color: #434B5C;\n",
              "      box-shadow: 0px 1px 3px 1px rgba(0, 0, 0, 0.15);\n",
              "      filter: drop-shadow(0px 1px 2px rgba(0, 0, 0, 0.3));\n",
              "      fill: #FFFFFF;\n",
              "    }\n",
              "  </style>\n",
              "\n",
              "      <script>\n",
              "        const buttonEl =\n",
              "          document.querySelector('#df-48068138-58e8-46b3-9aaf-6b4a4bf29b23 button.colab-df-convert');\n",
              "        buttonEl.style.display =\n",
              "          google.colab.kernel.accessAllowed ? 'block' : 'none';\n",
              "\n",
              "        async function convertToInteractive(key) {\n",
              "          const element = document.querySelector('#df-48068138-58e8-46b3-9aaf-6b4a4bf29b23');\n",
              "          const dataTable =\n",
              "            await google.colab.kernel.invokeFunction('convertToInteractive',\n",
              "                                                     [key], {});\n",
              "          if (!dataTable) return;\n",
              "\n",
              "          const docLinkHtml = 'Like what you see? Visit the ' +\n",
              "            '<a target=\"_blank\" href=https://colab.research.google.com/notebooks/data_table.ipynb>data table notebook</a>'\n",
              "            + ' to learn more about interactive tables.';\n",
              "          element.innerHTML = '';\n",
              "          dataTable['output_type'] = 'display_data';\n",
              "          await google.colab.output.renderOutput(dataTable, element);\n",
              "          const docLink = document.createElement('div');\n",
              "          docLink.innerHTML = docLinkHtml;\n",
              "          element.appendChild(docLink);\n",
              "        }\n",
              "      </script>\n",
              "    </div>\n",
              "  </div>\n",
              "  "
            ]
          },
          "metadata": {},
          "execution_count": 6
        }
      ]
    },
    {
      "cell_type": "code",
      "source": [
        "test.head(2)"
      ],
      "metadata": {
        "id": "cbt7dmbLWzGN",
        "outputId": "ebc1bce2-0b54-4294-eb41-10406de19c5e",
        "colab": {
          "base_uri": "https://localhost:8080/",
          "height": 112
        }
      },
      "execution_count": null,
      "outputs": [
        {
          "output_type": "execute_result",
          "data": {
            "text/plain": [
              "          id  vendor_id      pickup_datetime  passenger_count  \\\n",
              "0  id3004672          1  2016-06-30 23:59:58                1   \n",
              "1  id3505355          1  2016-06-30 23:59:53                1   \n",
              "\n",
              "   pickup_longitude  pickup_latitude  dropoff_longitude  dropoff_latitude  \\\n",
              "0            -73.99            40.73             -73.99             40.76   \n",
              "1            -73.96            40.68             -73.96             40.66   \n",
              "\n",
              "  store_and_fwd_flag  \n",
              "0                  N  \n",
              "1                  N  "
            ],
            "text/html": [
              "\n",
              "  <div id=\"df-54ecce6a-3cee-4766-8712-9297942ccf83\">\n",
              "    <div class=\"colab-df-container\">\n",
              "      <div>\n",
              "<style scoped>\n",
              "    .dataframe tbody tr th:only-of-type {\n",
              "        vertical-align: middle;\n",
              "    }\n",
              "\n",
              "    .dataframe tbody tr th {\n",
              "        vertical-align: top;\n",
              "    }\n",
              "\n",
              "    .dataframe thead th {\n",
              "        text-align: right;\n",
              "    }\n",
              "</style>\n",
              "<table border=\"1\" class=\"dataframe\">\n",
              "  <thead>\n",
              "    <tr style=\"text-align: right;\">\n",
              "      <th></th>\n",
              "      <th>id</th>\n",
              "      <th>vendor_id</th>\n",
              "      <th>pickup_datetime</th>\n",
              "      <th>passenger_count</th>\n",
              "      <th>pickup_longitude</th>\n",
              "      <th>pickup_latitude</th>\n",
              "      <th>dropoff_longitude</th>\n",
              "      <th>dropoff_latitude</th>\n",
              "      <th>store_and_fwd_flag</th>\n",
              "    </tr>\n",
              "  </thead>\n",
              "  <tbody>\n",
              "    <tr>\n",
              "      <th>0</th>\n",
              "      <td>id3004672</td>\n",
              "      <td>1</td>\n",
              "      <td>2016-06-30 23:59:58</td>\n",
              "      <td>1</td>\n",
              "      <td>-73.99</td>\n",
              "      <td>40.73</td>\n",
              "      <td>-73.99</td>\n",
              "      <td>40.76</td>\n",
              "      <td>N</td>\n",
              "    </tr>\n",
              "    <tr>\n",
              "      <th>1</th>\n",
              "      <td>id3505355</td>\n",
              "      <td>1</td>\n",
              "      <td>2016-06-30 23:59:53</td>\n",
              "      <td>1</td>\n",
              "      <td>-73.96</td>\n",
              "      <td>40.68</td>\n",
              "      <td>-73.96</td>\n",
              "      <td>40.66</td>\n",
              "      <td>N</td>\n",
              "    </tr>\n",
              "  </tbody>\n",
              "</table>\n",
              "</div>\n",
              "      <button class=\"colab-df-convert\" onclick=\"convertToInteractive('df-54ecce6a-3cee-4766-8712-9297942ccf83')\"\n",
              "              title=\"Convert this dataframe to an interactive table.\"\n",
              "              style=\"display:none;\">\n",
              "        \n",
              "  <svg xmlns=\"http://www.w3.org/2000/svg\" height=\"24px\"viewBox=\"0 0 24 24\"\n",
              "       width=\"24px\">\n",
              "    <path d=\"M0 0h24v24H0V0z\" fill=\"none\"/>\n",
              "    <path d=\"M18.56 5.44l.94 2.06.94-2.06 2.06-.94-2.06-.94-.94-2.06-.94 2.06-2.06.94zm-11 1L8.5 8.5l.94-2.06 2.06-.94-2.06-.94L8.5 2.5l-.94 2.06-2.06.94zm10 10l.94 2.06.94-2.06 2.06-.94-2.06-.94-.94-2.06-.94 2.06-2.06.94z\"/><path d=\"M17.41 7.96l-1.37-1.37c-.4-.4-.92-.59-1.43-.59-.52 0-1.04.2-1.43.59L10.3 9.45l-7.72 7.72c-.78.78-.78 2.05 0 2.83L4 21.41c.39.39.9.59 1.41.59.51 0 1.02-.2 1.41-.59l7.78-7.78 2.81-2.81c.8-.78.8-2.07 0-2.86zM5.41 20L4 18.59l7.72-7.72 1.47 1.35L5.41 20z\"/>\n",
              "  </svg>\n",
              "      </button>\n",
              "      \n",
              "  <style>\n",
              "    .colab-df-container {\n",
              "      display:flex;\n",
              "      flex-wrap:wrap;\n",
              "      gap: 12px;\n",
              "    }\n",
              "\n",
              "    .colab-df-convert {\n",
              "      background-color: #E8F0FE;\n",
              "      border: none;\n",
              "      border-radius: 50%;\n",
              "      cursor: pointer;\n",
              "      display: none;\n",
              "      fill: #1967D2;\n",
              "      height: 32px;\n",
              "      padding: 0 0 0 0;\n",
              "      width: 32px;\n",
              "    }\n",
              "\n",
              "    .colab-df-convert:hover {\n",
              "      background-color: #E2EBFA;\n",
              "      box-shadow: 0px 1px 2px rgba(60, 64, 67, 0.3), 0px 1px 3px 1px rgba(60, 64, 67, 0.15);\n",
              "      fill: #174EA6;\n",
              "    }\n",
              "\n",
              "    [theme=dark] .colab-df-convert {\n",
              "      background-color: #3B4455;\n",
              "      fill: #D2E3FC;\n",
              "    }\n",
              "\n",
              "    [theme=dark] .colab-df-convert:hover {\n",
              "      background-color: #434B5C;\n",
              "      box-shadow: 0px 1px 3px 1px rgba(0, 0, 0, 0.15);\n",
              "      filter: drop-shadow(0px 1px 2px rgba(0, 0, 0, 0.3));\n",
              "      fill: #FFFFFF;\n",
              "    }\n",
              "  </style>\n",
              "\n",
              "      <script>\n",
              "        const buttonEl =\n",
              "          document.querySelector('#df-54ecce6a-3cee-4766-8712-9297942ccf83 button.colab-df-convert');\n",
              "        buttonEl.style.display =\n",
              "          google.colab.kernel.accessAllowed ? 'block' : 'none';\n",
              "\n",
              "        async function convertToInteractive(key) {\n",
              "          const element = document.querySelector('#df-54ecce6a-3cee-4766-8712-9297942ccf83');\n",
              "          const dataTable =\n",
              "            await google.colab.kernel.invokeFunction('convertToInteractive',\n",
              "                                                     [key], {});\n",
              "          if (!dataTable) return;\n",
              "\n",
              "          const docLinkHtml = 'Like what you see? Visit the ' +\n",
              "            '<a target=\"_blank\" href=https://colab.research.google.com/notebooks/data_table.ipynb>data table notebook</a>'\n",
              "            + ' to learn more about interactive tables.';\n",
              "          element.innerHTML = '';\n",
              "          dataTable['output_type'] = 'display_data';\n",
              "          await google.colab.output.renderOutput(dataTable, element);\n",
              "          const docLink = document.createElement('div');\n",
              "          docLink.innerHTML = docLinkHtml;\n",
              "          element.appendChild(docLink);\n",
              "        }\n",
              "      </script>\n",
              "    </div>\n",
              "  </div>\n",
              "  "
            ]
          },
          "metadata": {},
          "execution_count": 7
        }
      ]
    },
    {
      "cell_type": "markdown",
      "source": [
        "### Basic information of datasets (train and test)"
      ],
      "metadata": {
        "id": "YR6PgksyV3LQ"
      }
    },
    {
      "cell_type": "markdown",
      "source": [
        "* Check whether the dataset has :\n",
        "    * unique values for the id column.\n",
        "    * missing values.\n",
        "    * duplicate record.\n",
        "    * the trip_duration values are consistent with pickup and dropoff datetime (only for the training dataset)."
      ],
      "metadata": {
        "id": "yIARIYACpUFg"
      }
    },
    {
      "cell_type": "code",
      "source": [
        "def check_basic(df, df_type=\"train\"):\n",
        "    print(\"{} DF has {} rows and {} columns\".format(df_type,df.shape[0], df.shape[1]))\n",
        "    if df.id.nunique() == df.shape[0]:\n",
        "        print(\"1. Id is unique\")\n",
        "    if not df.isnull().any().any(): \n",
        "        print(\"2. No missing value\")\n",
        "    if train.duplicated(keep='first').sum() == 0:\n",
        "        print(\"3. No duplicate record\")\n",
        "    if df_type == 'train':\n",
        "        trip_duration_diff = (pd.to_datetime(train.dropoff_datetime) - pd.to_datetime(train.pickup_datetime)).map(lambda x :x.total_seconds())\n",
        "        if len(df[np.abs(trip_duration_diff.values - df['trip_duration'].values) > 1]) == 0:\n",
        "            print(\"4. Trip_duration is consistent with pickup and dropoff times.\")"
      ],
      "metadata": {
        "execution": {
          "iopub.execute_input": "2022-06-26T23:23:25.821061Z",
          "iopub.status.busy": "2022-06-26T23:23:25.820434Z",
          "iopub.status.idle": "2022-06-26T23:23:25.829436Z",
          "shell.execute_reply": "2022-06-26T23:23:25.828435Z"
        },
        "papermill": {
          "duration": 0.024596,
          "end_time": "2022-06-26T23:23:25.831958",
          "exception": false,
          "start_time": "2022-06-26T23:23:25.807362",
          "status": "completed"
        },
        "tags": [],
        "id": "198ca5cf"
      },
      "execution_count": null,
      "outputs": []
    },
    {
      "cell_type": "code",
      "source": [
        "check_basic(train, df_type=\"train\")"
      ],
      "metadata": {
        "execution": {
          "iopub.execute_input": "2022-06-26T23:23:25.857803Z",
          "iopub.status.busy": "2022-06-26T23:23:25.857059Z",
          "iopub.status.idle": "2022-06-26T23:23:47.289975Z",
          "shell.execute_reply": "2022-06-26T23:23:47.288671Z"
        },
        "papermill": {
          "duration": 21.449297,
          "end_time": "2022-06-26T23:23:47.293076",
          "exception": false,
          "start_time": "2022-06-26T23:23:25.843779",
          "status": "completed"
        },
        "tags": [],
        "id": "4ae851ab",
        "outputId": "8abc0a3b-6067-4745-aeb6-445142e63dfa",
        "colab": {
          "base_uri": "https://localhost:8080/"
        }
      },
      "execution_count": null,
      "outputs": [
        {
          "output_type": "stream",
          "name": "stdout",
          "text": [
            "train DF has 1458644 rows and 11 columns\n",
            "1. Id is unique\n",
            "2. No missing value\n",
            "3. No duplicate record\n",
            "4. Trip_duration is consistent with pickup and dropoff times.\n"
          ]
        }
      ]
    },
    {
      "cell_type": "code",
      "source": [
        "check_basic(test, df_type=\"test\")"
      ],
      "metadata": {
        "id": "uZ_AE56fW2gP",
        "outputId": "da2f96e5-8031-40e7-dfc5-40a68ea83e2b",
        "colab": {
          "base_uri": "https://localhost:8080/"
        }
      },
      "execution_count": null,
      "outputs": [
        {
          "output_type": "stream",
          "name": "stdout",
          "text": [
            "test DF has 625134 rows and 9 columns\n",
            "1. Id is unique\n",
            "2. No missing value\n",
            "3. No duplicate record\n"
          ]
        }
      ]
    },
    {
      "cell_type": "markdown",
      "source": [
        "* Show the datatype of each column in dataset."
      ],
      "metadata": {
        "id": "RQUs2JyhwPZa"
      }
    },
    {
      "cell_type": "code",
      "source": [
        "print(\"Train:\\n\", train.dtypes, \"\\n\")\n",
        "print(\"Test:\\n\", test.dtypes)"
      ],
      "metadata": {
        "id": "jYh1Y2bBXFd-",
        "outputId": "94a3a065-fe09-4e06-b4cd-f4409de21aaf",
        "colab": {
          "base_uri": "https://localhost:8080/"
        }
      },
      "execution_count": null,
      "outputs": [
        {
          "output_type": "stream",
          "name": "stdout",
          "text": [
            "Train:\n",
            " id                     object\n",
            "vendor_id               int64\n",
            "pickup_datetime        object\n",
            "dropoff_datetime       object\n",
            "passenger_count         int64\n",
            "pickup_longitude      float64\n",
            "pickup_latitude       float64\n",
            "dropoff_longitude     float64\n",
            "dropoff_latitude      float64\n",
            "store_and_fwd_flag     object\n",
            "trip_duration           int64\n",
            "dtype: object \n",
            "\n",
            "Test:\n",
            " id                     object\n",
            "vendor_id               int64\n",
            "pickup_datetime        object\n",
            "passenger_count         int64\n",
            "pickup_longitude      float64\n",
            "pickup_latitude       float64\n",
            "dropoff_longitude     float64\n",
            "dropoff_latitude      float64\n",
            "store_and_fwd_flag     object\n",
            "dtype: object\n"
          ]
        }
      ]
    },
    {
      "cell_type": "markdown",
      "source": [
        "* Show the number of unique values in each column."
      ],
      "metadata": {
        "id": "rNGXWA2swRbW"
      }
    },
    {
      "cell_type": "code",
      "source": [
        "train.nunique()"
      ],
      "metadata": {
        "id": "LSjMSDIDwSqZ",
        "outputId": "6205f2b0-07d0-4145-961c-cb6f784ccae5",
        "colab": {
          "base_uri": "https://localhost:8080/"
        }
      },
      "execution_count": null,
      "outputs": [
        {
          "output_type": "execute_result",
          "data": {
            "text/plain": [
              "id                    1458644\n",
              "vendor_id                   2\n",
              "pickup_datetime       1380222\n",
              "dropoff_datetime      1380377\n",
              "passenger_count            10\n",
              "pickup_longitude        23047\n",
              "pickup_latitude         45245\n",
              "dropoff_longitude       33821\n",
              "dropoff_latitude        62519\n",
              "store_and_fwd_flag          2\n",
              "trip_duration            7417\n",
              "dtype: int64"
            ]
          },
          "metadata": {},
          "execution_count": 12
        }
      ]
    },
    {
      "cell_type": "markdown",
      "source": [
        "#### Convert datatypes"
      ],
      "metadata": {
        "id": "3XMDsERDV3IS"
      }
    },
    {
      "cell_type": "markdown",
      "source": [
        "* Because datatypes of `pickup_datetime` and `dropoff_datetime` are \"**object**\" which is difficult when we handle it with built-in functions of pandas $\\rightarrow$ we convert it into \"**datetime**\" datatype to be easy to extract data from these columns."
      ],
      "metadata": {
        "id": "r7fGSZ3uta-w"
      }
    },
    {
      "cell_type": "code",
      "source": [
        "train['pickup_datetime'] = pd.to_datetime(train['pickup_datetime'])\n",
        "test['pickup_datetime'] = pd.to_datetime(test['pickup_datetime'])\n",
        "\n",
        "train['dropoff_datetime'] = pd.to_datetime(train['dropoff_datetime'])"
      ],
      "metadata": {
        "id": "f5hrZ7CbXmn3"
      },
      "execution_count": null,
      "outputs": []
    },
    {
      "cell_type": "markdown",
      "source": [
        "* We convert the datatype of the vendor_id column from **int64** to **object** (str) because:\n",
        "    * vendor_id is the id provided Associated with the trip record.\n",
        "    * this column only has 2 unique values, 1 and 2, but it does not mean 2 is bigger than 1."
      ],
      "metadata": {
        "id": "99Zo52Gka2Nn"
      }
    },
    {
      "cell_type": "code",
      "source": [
        "train['vendor_id'] = train['vendor_id'].astype(str)\n",
        "test['vendor_id'] = test['vendor_id'].astype(str)"
      ],
      "metadata": {
        "id": "f4w2bDBsa2No"
      },
      "execution_count": null,
      "outputs": []
    },
    {
      "cell_type": "markdown",
      "source": [
        "#### Statistics information of the train set"
      ],
      "metadata": {
        "id": "zuQ5Naus063M"
      }
    },
    {
      "cell_type": "code",
      "source": [
        "train.describe(datetime_is_numeric = True)"
      ],
      "metadata": {
        "id": "ttfZnli5f98R",
        "outputId": "112cbdcc-8b22-460f-a649-db3601d19a44",
        "colab": {
          "base_uri": "https://localhost:8080/",
          "height": 300
        }
      },
      "execution_count": null,
      "outputs": [
        {
          "output_type": "execute_result",
          "data": {
            "text/plain": [
              "                     pickup_datetime               dropoff_datetime  \\\n",
              "count                        1458644                        1458644   \n",
              "mean   2016-04-01 10:10:24.940037120  2016-04-01 10:26:24.432310528   \n",
              "min              2016-01-01 00:00:17            2016-01-01 00:03:31   \n",
              "25%    2016-02-17 16:46:04.249999872     2016-02-17 17:05:32.500000   \n",
              "50%              2016-04-01 17:19:40            2016-04-01 17:35:12   \n",
              "75%    2016-05-15 03:56:08.750000128  2016-05-15 04:10:51.750000128   \n",
              "max              2016-06-30 23:59:39            2016-07-01 23:02:03   \n",
              "std                              NaN                            NaN   \n",
              "\n",
              "       passenger_count  pickup_longitude  pickup_latitude  dropoff_longitude  \\\n",
              "count       1458644.00        1458644.00       1458644.00         1458644.00   \n",
              "mean              1.66            -73.97            40.75             -73.97   \n",
              "min               0.00           -121.93            34.36            -121.93   \n",
              "25%               1.00            -73.99            40.74             -73.99   \n",
              "50%               1.00            -73.98            40.75             -73.98   \n",
              "75%               2.00            -73.97            40.77             -73.96   \n",
              "max               9.00            -61.34            51.88             -61.34   \n",
              "std               1.31              0.07             0.03               0.07   \n",
              "\n",
              "       dropoff_latitude  trip_duration  \n",
              "count        1458644.00     1458644.00  \n",
              "mean              40.75         959.49  \n",
              "min               32.18           1.00  \n",
              "25%               40.74         397.00  \n",
              "50%               40.75         662.00  \n",
              "75%               40.77        1075.00  \n",
              "max               43.92     3526282.00  \n",
              "std                0.04        5237.43  "
            ],
            "text/html": [
              "\n",
              "  <div id=\"df-67e828aa-2df0-4af9-9afd-f1643d807128\">\n",
              "    <div class=\"colab-df-container\">\n",
              "      <div>\n",
              "<style scoped>\n",
              "    .dataframe tbody tr th:only-of-type {\n",
              "        vertical-align: middle;\n",
              "    }\n",
              "\n",
              "    .dataframe tbody tr th {\n",
              "        vertical-align: top;\n",
              "    }\n",
              "\n",
              "    .dataframe thead th {\n",
              "        text-align: right;\n",
              "    }\n",
              "</style>\n",
              "<table border=\"1\" class=\"dataframe\">\n",
              "  <thead>\n",
              "    <tr style=\"text-align: right;\">\n",
              "      <th></th>\n",
              "      <th>pickup_datetime</th>\n",
              "      <th>dropoff_datetime</th>\n",
              "      <th>passenger_count</th>\n",
              "      <th>pickup_longitude</th>\n",
              "      <th>pickup_latitude</th>\n",
              "      <th>dropoff_longitude</th>\n",
              "      <th>dropoff_latitude</th>\n",
              "      <th>trip_duration</th>\n",
              "    </tr>\n",
              "  </thead>\n",
              "  <tbody>\n",
              "    <tr>\n",
              "      <th>count</th>\n",
              "      <td>1458644</td>\n",
              "      <td>1458644</td>\n",
              "      <td>1458644.00</td>\n",
              "      <td>1458644.00</td>\n",
              "      <td>1458644.00</td>\n",
              "      <td>1458644.00</td>\n",
              "      <td>1458644.00</td>\n",
              "      <td>1458644.00</td>\n",
              "    </tr>\n",
              "    <tr>\n",
              "      <th>mean</th>\n",
              "      <td>2016-04-01 10:10:24.940037120</td>\n",
              "      <td>2016-04-01 10:26:24.432310528</td>\n",
              "      <td>1.66</td>\n",
              "      <td>-73.97</td>\n",
              "      <td>40.75</td>\n",
              "      <td>-73.97</td>\n",
              "      <td>40.75</td>\n",
              "      <td>959.49</td>\n",
              "    </tr>\n",
              "    <tr>\n",
              "      <th>min</th>\n",
              "      <td>2016-01-01 00:00:17</td>\n",
              "      <td>2016-01-01 00:03:31</td>\n",
              "      <td>0.00</td>\n",
              "      <td>-121.93</td>\n",
              "      <td>34.36</td>\n",
              "      <td>-121.93</td>\n",
              "      <td>32.18</td>\n",
              "      <td>1.00</td>\n",
              "    </tr>\n",
              "    <tr>\n",
              "      <th>25%</th>\n",
              "      <td>2016-02-17 16:46:04.249999872</td>\n",
              "      <td>2016-02-17 17:05:32.500000</td>\n",
              "      <td>1.00</td>\n",
              "      <td>-73.99</td>\n",
              "      <td>40.74</td>\n",
              "      <td>-73.99</td>\n",
              "      <td>40.74</td>\n",
              "      <td>397.00</td>\n",
              "    </tr>\n",
              "    <tr>\n",
              "      <th>50%</th>\n",
              "      <td>2016-04-01 17:19:40</td>\n",
              "      <td>2016-04-01 17:35:12</td>\n",
              "      <td>1.00</td>\n",
              "      <td>-73.98</td>\n",
              "      <td>40.75</td>\n",
              "      <td>-73.98</td>\n",
              "      <td>40.75</td>\n",
              "      <td>662.00</td>\n",
              "    </tr>\n",
              "    <tr>\n",
              "      <th>75%</th>\n",
              "      <td>2016-05-15 03:56:08.750000128</td>\n",
              "      <td>2016-05-15 04:10:51.750000128</td>\n",
              "      <td>2.00</td>\n",
              "      <td>-73.97</td>\n",
              "      <td>40.77</td>\n",
              "      <td>-73.96</td>\n",
              "      <td>40.77</td>\n",
              "      <td>1075.00</td>\n",
              "    </tr>\n",
              "    <tr>\n",
              "      <th>max</th>\n",
              "      <td>2016-06-30 23:59:39</td>\n",
              "      <td>2016-07-01 23:02:03</td>\n",
              "      <td>9.00</td>\n",
              "      <td>-61.34</td>\n",
              "      <td>51.88</td>\n",
              "      <td>-61.34</td>\n",
              "      <td>43.92</td>\n",
              "      <td>3526282.00</td>\n",
              "    </tr>\n",
              "    <tr>\n",
              "      <th>std</th>\n",
              "      <td>NaN</td>\n",
              "      <td>NaN</td>\n",
              "      <td>1.31</td>\n",
              "      <td>0.07</td>\n",
              "      <td>0.03</td>\n",
              "      <td>0.07</td>\n",
              "      <td>0.04</td>\n",
              "      <td>5237.43</td>\n",
              "    </tr>\n",
              "  </tbody>\n",
              "</table>\n",
              "</div>\n",
              "      <button class=\"colab-df-convert\" onclick=\"convertToInteractive('df-67e828aa-2df0-4af9-9afd-f1643d807128')\"\n",
              "              title=\"Convert this dataframe to an interactive table.\"\n",
              "              style=\"display:none;\">\n",
              "        \n",
              "  <svg xmlns=\"http://www.w3.org/2000/svg\" height=\"24px\"viewBox=\"0 0 24 24\"\n",
              "       width=\"24px\">\n",
              "    <path d=\"M0 0h24v24H0V0z\" fill=\"none\"/>\n",
              "    <path d=\"M18.56 5.44l.94 2.06.94-2.06 2.06-.94-2.06-.94-.94-2.06-.94 2.06-2.06.94zm-11 1L8.5 8.5l.94-2.06 2.06-.94-2.06-.94L8.5 2.5l-.94 2.06-2.06.94zm10 10l.94 2.06.94-2.06 2.06-.94-2.06-.94-.94-2.06-.94 2.06-2.06.94z\"/><path d=\"M17.41 7.96l-1.37-1.37c-.4-.4-.92-.59-1.43-.59-.52 0-1.04.2-1.43.59L10.3 9.45l-7.72 7.72c-.78.78-.78 2.05 0 2.83L4 21.41c.39.39.9.59 1.41.59.51 0 1.02-.2 1.41-.59l7.78-7.78 2.81-2.81c.8-.78.8-2.07 0-2.86zM5.41 20L4 18.59l7.72-7.72 1.47 1.35L5.41 20z\"/>\n",
              "  </svg>\n",
              "      </button>\n",
              "      \n",
              "  <style>\n",
              "    .colab-df-container {\n",
              "      display:flex;\n",
              "      flex-wrap:wrap;\n",
              "      gap: 12px;\n",
              "    }\n",
              "\n",
              "    .colab-df-convert {\n",
              "      background-color: #E8F0FE;\n",
              "      border: none;\n",
              "      border-radius: 50%;\n",
              "      cursor: pointer;\n",
              "      display: none;\n",
              "      fill: #1967D2;\n",
              "      height: 32px;\n",
              "      padding: 0 0 0 0;\n",
              "      width: 32px;\n",
              "    }\n",
              "\n",
              "    .colab-df-convert:hover {\n",
              "      background-color: #E2EBFA;\n",
              "      box-shadow: 0px 1px 2px rgba(60, 64, 67, 0.3), 0px 1px 3px 1px rgba(60, 64, 67, 0.15);\n",
              "      fill: #174EA6;\n",
              "    }\n",
              "\n",
              "    [theme=dark] .colab-df-convert {\n",
              "      background-color: #3B4455;\n",
              "      fill: #D2E3FC;\n",
              "    }\n",
              "\n",
              "    [theme=dark] .colab-df-convert:hover {\n",
              "      background-color: #434B5C;\n",
              "      box-shadow: 0px 1px 3px 1px rgba(0, 0, 0, 0.15);\n",
              "      filter: drop-shadow(0px 1px 2px rgba(0, 0, 0, 0.3));\n",
              "      fill: #FFFFFF;\n",
              "    }\n",
              "  </style>\n",
              "\n",
              "      <script>\n",
              "        const buttonEl =\n",
              "          document.querySelector('#df-67e828aa-2df0-4af9-9afd-f1643d807128 button.colab-df-convert');\n",
              "        buttonEl.style.display =\n",
              "          google.colab.kernel.accessAllowed ? 'block' : 'none';\n",
              "\n",
              "        async function convertToInteractive(key) {\n",
              "          const element = document.querySelector('#df-67e828aa-2df0-4af9-9afd-f1643d807128');\n",
              "          const dataTable =\n",
              "            await google.colab.kernel.invokeFunction('convertToInteractive',\n",
              "                                                     [key], {});\n",
              "          if (!dataTable) return;\n",
              "\n",
              "          const docLinkHtml = 'Like what you see? Visit the ' +\n",
              "            '<a target=\"_blank\" href=https://colab.research.google.com/notebooks/data_table.ipynb>data table notebook</a>'\n",
              "            + ' to learn more about interactive tables.';\n",
              "          element.innerHTML = '';\n",
              "          dataTable['output_type'] = 'display_data';\n",
              "          await google.colab.output.renderOutput(dataTable, element);\n",
              "          const docLink = document.createElement('div');\n",
              "          docLink.innerHTML = docLinkHtml;\n",
              "          element.appendChild(docLink);\n",
              "        }\n",
              "      </script>\n",
              "    </div>\n",
              "  </div>\n",
              "  "
            ]
          },
          "metadata": {},
          "execution_count": 15
        }
      ]
    },
    {
      "cell_type": "markdown",
      "source": [
        "* Get numeric, categorical column names"
      ],
      "metadata": {
        "id": "sB3p7fUc2Dhq"
      }
    },
    {
      "cell_type": "code",
      "source": [
        "num_cols = list(train.select_dtypes(exclude='object').columns)\n",
        "cate_cols = list(train.select_dtypes(include='object').columns)\n",
        "print(\"Num cols: \",num_cols)\n",
        "print(\"Cate cols: \",cate_cols)"
      ],
      "metadata": {
        "id": "b9OTSxjIYDGR",
        "outputId": "6a16709c-eab9-4632-a551-9f8831e76b27",
        "colab": {
          "base_uri": "https://localhost:8080/"
        }
      },
      "execution_count": null,
      "outputs": [
        {
          "output_type": "stream",
          "name": "stdout",
          "text": [
            "Num cols:  ['pickup_datetime', 'dropoff_datetime', 'passenger_count', 'pickup_longitude', 'pickup_latitude', 'dropoff_longitude', 'dropoff_latitude', 'trip_duration']\n",
            "Cate cols:  ['id', 'vendor_id', 'store_and_fwd_flag']\n"
          ]
        }
      ]
    },
    {
      "cell_type": "markdown",
      "source": [
        "##### Numeric columns"
      ],
      "metadata": {
        "id": "naBeJokD88gq"
      }
    },
    {
      "cell_type": "code",
      "source": [
        "def value_percentages(col):\n",
        "    val = col.groupby(by=col).count().sort_values(ascending=False)\n",
        "    total = val.sum()\n",
        "    return (((val / total)*100).round(1)).to_dict()\n",
        "\n",
        "def num_values(col):\n",
        "    return col.nunique()\n",
        "\n",
        "def missing_percentage(col):\n",
        "    per = col.isna().mean()*100\n",
        "    return per.round(1)"
      ],
      "metadata": {
        "id": "XgdEuJDJX7Ye"
      },
      "execution_count": null,
      "outputs": []
    },
    {
      "cell_type": "code",
      "source": [
        "train[num_cols].agg([value_percentages, num_values])"
      ],
      "metadata": {
        "id": "MY0KWNwKYALg",
        "outputId": "93d9c6a8-a158-4918-bd01-716fdda666c5",
        "colab": {
          "base_uri": "https://localhost:8080/",
          "height": 208
        }
      },
      "execution_count": null,
      "outputs": [
        {
          "output_type": "execute_result",
          "data": {
            "text/plain": [
              "                                                     pickup_datetime  \\\n",
              "value_percentages  {2016-03-04 08:07:34: 0.0, 2016-01-12 18:48:44...   \n",
              "num_values                                                   1380222   \n",
              "\n",
              "                                                    dropoff_datetime  \\\n",
              "value_percentages  {2016-02-19 19:25:04: 0.0, 2016-05-16 19:40:28...   \n",
              "num_values                                                   1380377   \n",
              "\n",
              "                                                     passenger_count  \\\n",
              "value_percentages  {1: 70.9, 2: 14.4, 5: 5.4, 3: 4.1, 6: 3.3, 4: ...   \n",
              "num_values                                                        10   \n",
              "\n",
              "                                                    pickup_longitude  \\\n",
              "value_percentages  {-73.9822006225586: 0.0, -73.98213958740233: 0...   \n",
              "num_values                                                     23047   \n",
              "\n",
              "                                                     pickup_latitude  \\\n",
              "value_percentages  {40.77410125732422: 0.0, 40.774089813232415: 0...   \n",
              "num_values                                                     45245   \n",
              "\n",
              "                                                   dropoff_longitude  \\\n",
              "value_percentages  {-73.98233032226561: 0.0, -73.98209381103516: ...   \n",
              "num_values                                                     33821   \n",
              "\n",
              "                                                    dropoff_latitude  \\\n",
              "value_percentages  {40.774311065673835: 0.0, 40.77433013916016: 0...   \n",
              "num_values                                                     62519   \n",
              "\n",
              "                                                       trip_duration  \n",
              "value_percentages  {368: 0.1, 408: 0.1, 348: 0.1, 367: 0.1, 358: ...  \n",
              "num_values                                                      7417  "
            ],
            "text/html": [
              "\n",
              "  <div id=\"df-42ef9648-b78b-4378-9cb5-da2ce3fecccd\">\n",
              "    <div class=\"colab-df-container\">\n",
              "      <div>\n",
              "<style scoped>\n",
              "    .dataframe tbody tr th:only-of-type {\n",
              "        vertical-align: middle;\n",
              "    }\n",
              "\n",
              "    .dataframe tbody tr th {\n",
              "        vertical-align: top;\n",
              "    }\n",
              "\n",
              "    .dataframe thead th {\n",
              "        text-align: right;\n",
              "    }\n",
              "</style>\n",
              "<table border=\"1\" class=\"dataframe\">\n",
              "  <thead>\n",
              "    <tr style=\"text-align: right;\">\n",
              "      <th></th>\n",
              "      <th>pickup_datetime</th>\n",
              "      <th>dropoff_datetime</th>\n",
              "      <th>passenger_count</th>\n",
              "      <th>pickup_longitude</th>\n",
              "      <th>pickup_latitude</th>\n",
              "      <th>dropoff_longitude</th>\n",
              "      <th>dropoff_latitude</th>\n",
              "      <th>trip_duration</th>\n",
              "    </tr>\n",
              "  </thead>\n",
              "  <tbody>\n",
              "    <tr>\n",
              "      <th>value_percentages</th>\n",
              "      <td>{2016-03-04 08:07:34: 0.0, 2016-01-12 18:48:44...</td>\n",
              "      <td>{2016-02-19 19:25:04: 0.0, 2016-05-16 19:40:28...</td>\n",
              "      <td>{1: 70.9, 2: 14.4, 5: 5.4, 3: 4.1, 6: 3.3, 4: ...</td>\n",
              "      <td>{-73.9822006225586: 0.0, -73.98213958740233: 0...</td>\n",
              "      <td>{40.77410125732422: 0.0, 40.774089813232415: 0...</td>\n",
              "      <td>{-73.98233032226561: 0.0, -73.98209381103516: ...</td>\n",
              "      <td>{40.774311065673835: 0.0, 40.77433013916016: 0...</td>\n",
              "      <td>{368: 0.1, 408: 0.1, 348: 0.1, 367: 0.1, 358: ...</td>\n",
              "    </tr>\n",
              "    <tr>\n",
              "      <th>num_values</th>\n",
              "      <td>1380222</td>\n",
              "      <td>1380377</td>\n",
              "      <td>10</td>\n",
              "      <td>23047</td>\n",
              "      <td>45245</td>\n",
              "      <td>33821</td>\n",
              "      <td>62519</td>\n",
              "      <td>7417</td>\n",
              "    </tr>\n",
              "  </tbody>\n",
              "</table>\n",
              "</div>\n",
              "      <button class=\"colab-df-convert\" onclick=\"convertToInteractive('df-42ef9648-b78b-4378-9cb5-da2ce3fecccd')\"\n",
              "              title=\"Convert this dataframe to an interactive table.\"\n",
              "              style=\"display:none;\">\n",
              "        \n",
              "  <svg xmlns=\"http://www.w3.org/2000/svg\" height=\"24px\"viewBox=\"0 0 24 24\"\n",
              "       width=\"24px\">\n",
              "    <path d=\"M0 0h24v24H0V0z\" fill=\"none\"/>\n",
              "    <path d=\"M18.56 5.44l.94 2.06.94-2.06 2.06-.94-2.06-.94-.94-2.06-.94 2.06-2.06.94zm-11 1L8.5 8.5l.94-2.06 2.06-.94-2.06-.94L8.5 2.5l-.94 2.06-2.06.94zm10 10l.94 2.06.94-2.06 2.06-.94-2.06-.94-.94-2.06-.94 2.06-2.06.94z\"/><path d=\"M17.41 7.96l-1.37-1.37c-.4-.4-.92-.59-1.43-.59-.52 0-1.04.2-1.43.59L10.3 9.45l-7.72 7.72c-.78.78-.78 2.05 0 2.83L4 21.41c.39.39.9.59 1.41.59.51 0 1.02-.2 1.41-.59l7.78-7.78 2.81-2.81c.8-.78.8-2.07 0-2.86zM5.41 20L4 18.59l7.72-7.72 1.47 1.35L5.41 20z\"/>\n",
              "  </svg>\n",
              "      </button>\n",
              "      \n",
              "  <style>\n",
              "    .colab-df-container {\n",
              "      display:flex;\n",
              "      flex-wrap:wrap;\n",
              "      gap: 12px;\n",
              "    }\n",
              "\n",
              "    .colab-df-convert {\n",
              "      background-color: #E8F0FE;\n",
              "      border: none;\n",
              "      border-radius: 50%;\n",
              "      cursor: pointer;\n",
              "      display: none;\n",
              "      fill: #1967D2;\n",
              "      height: 32px;\n",
              "      padding: 0 0 0 0;\n",
              "      width: 32px;\n",
              "    }\n",
              "\n",
              "    .colab-df-convert:hover {\n",
              "      background-color: #E2EBFA;\n",
              "      box-shadow: 0px 1px 2px rgba(60, 64, 67, 0.3), 0px 1px 3px 1px rgba(60, 64, 67, 0.15);\n",
              "      fill: #174EA6;\n",
              "    }\n",
              "\n",
              "    [theme=dark] .colab-df-convert {\n",
              "      background-color: #3B4455;\n",
              "      fill: #D2E3FC;\n",
              "    }\n",
              "\n",
              "    [theme=dark] .colab-df-convert:hover {\n",
              "      background-color: #434B5C;\n",
              "      box-shadow: 0px 1px 3px 1px rgba(0, 0, 0, 0.15);\n",
              "      filter: drop-shadow(0px 1px 2px rgba(0, 0, 0, 0.3));\n",
              "      fill: #FFFFFF;\n",
              "    }\n",
              "  </style>\n",
              "\n",
              "      <script>\n",
              "        const buttonEl =\n",
              "          document.querySelector('#df-42ef9648-b78b-4378-9cb5-da2ce3fecccd button.colab-df-convert');\n",
              "        buttonEl.style.display =\n",
              "          google.colab.kernel.accessAllowed ? 'block' : 'none';\n",
              "\n",
              "        async function convertToInteractive(key) {\n",
              "          const element = document.querySelector('#df-42ef9648-b78b-4378-9cb5-da2ce3fecccd');\n",
              "          const dataTable =\n",
              "            await google.colab.kernel.invokeFunction('convertToInteractive',\n",
              "                                                     [key], {});\n",
              "          if (!dataTable) return;\n",
              "\n",
              "          const docLinkHtml = 'Like what you see? Visit the ' +\n",
              "            '<a target=\"_blank\" href=https://colab.research.google.com/notebooks/data_table.ipynb>data table notebook</a>'\n",
              "            + ' to learn more about interactive tables.';\n",
              "          element.innerHTML = '';\n",
              "          dataTable['output_type'] = 'display_data';\n",
              "          await google.colab.output.renderOutput(dataTable, element);\n",
              "          const docLink = document.createElement('div');\n",
              "          docLink.innerHTML = docLinkHtml;\n",
              "          element.appendChild(docLink);\n",
              "        }\n",
              "      </script>\n",
              "    </div>\n",
              "  </div>\n",
              "  "
            ]
          },
          "metadata": {},
          "execution_count": 18
        }
      ]
    },
    {
      "cell_type": "markdown",
      "source": [
        "* **Observation**:\n",
        "\n",
        "$→$ The number of distinct values of `pickup_datetime` and `dropoff_datetime` takes up more than **90%** of the dataset $→$ extract the data of these columns to new columns (month, hour, day,...) to reduce the unique.\n",
        "\n",
        "$→$ The value of longitude and latitude have **float64** datatypes $→$ it is difficult to compare."
      ],
      "metadata": {
        "id": "n9LIQBlYXu8z"
      }
    },
    {
      "cell_type": "markdown",
      "source": [
        "##### Categorical columns"
      ],
      "metadata": {
        "id": "GUY7qI4O9TTK"
      }
    },
    {
      "cell_type": "code",
      "source": [
        "train[cate_cols].agg([value_percentages, num_values])"
      ],
      "metadata": {
        "id": "bgCkaCGMeLx9",
        "outputId": "5a5f3eae-78be-4712-f353-7607893ddd2c",
        "colab": {
          "base_uri": "https://localhost:8080/",
          "height": 112
        }
      },
      "execution_count": null,
      "outputs": [
        {
          "output_type": "execute_result",
          "data": {
            "text/plain": [
              "                                                                  id  \\\n",
              "value_percentages  {'id0000001': 0.0, 'id2665099': 0.0, 'id266515...   \n",
              "num_values                                                   1458644   \n",
              "\n",
              "                                vendor_id     store_and_fwd_flag  \n",
              "value_percentages  {'2': 53.5, '1': 46.5}  {'N': 99.4, 'Y': 0.6}  \n",
              "num_values                              2                      2  "
            ],
            "text/html": [
              "\n",
              "  <div id=\"df-c4f992b1-799c-41db-a71b-2f3efb1e24bd\">\n",
              "    <div class=\"colab-df-container\">\n",
              "      <div>\n",
              "<style scoped>\n",
              "    .dataframe tbody tr th:only-of-type {\n",
              "        vertical-align: middle;\n",
              "    }\n",
              "\n",
              "    .dataframe tbody tr th {\n",
              "        vertical-align: top;\n",
              "    }\n",
              "\n",
              "    .dataframe thead th {\n",
              "        text-align: right;\n",
              "    }\n",
              "</style>\n",
              "<table border=\"1\" class=\"dataframe\">\n",
              "  <thead>\n",
              "    <tr style=\"text-align: right;\">\n",
              "      <th></th>\n",
              "      <th>id</th>\n",
              "      <th>vendor_id</th>\n",
              "      <th>store_and_fwd_flag</th>\n",
              "    </tr>\n",
              "  </thead>\n",
              "  <tbody>\n",
              "    <tr>\n",
              "      <th>value_percentages</th>\n",
              "      <td>{'id0000001': 0.0, 'id2665099': 0.0, 'id266515...</td>\n",
              "      <td>{'2': 53.5, '1': 46.5}</td>\n",
              "      <td>{'N': 99.4, 'Y': 0.6}</td>\n",
              "    </tr>\n",
              "    <tr>\n",
              "      <th>num_values</th>\n",
              "      <td>1458644</td>\n",
              "      <td>2</td>\n",
              "      <td>2</td>\n",
              "    </tr>\n",
              "  </tbody>\n",
              "</table>\n",
              "</div>\n",
              "      <button class=\"colab-df-convert\" onclick=\"convertToInteractive('df-c4f992b1-799c-41db-a71b-2f3efb1e24bd')\"\n",
              "              title=\"Convert this dataframe to an interactive table.\"\n",
              "              style=\"display:none;\">\n",
              "        \n",
              "  <svg xmlns=\"http://www.w3.org/2000/svg\" height=\"24px\"viewBox=\"0 0 24 24\"\n",
              "       width=\"24px\">\n",
              "    <path d=\"M0 0h24v24H0V0z\" fill=\"none\"/>\n",
              "    <path d=\"M18.56 5.44l.94 2.06.94-2.06 2.06-.94-2.06-.94-.94-2.06-.94 2.06-2.06.94zm-11 1L8.5 8.5l.94-2.06 2.06-.94-2.06-.94L8.5 2.5l-.94 2.06-2.06.94zm10 10l.94 2.06.94-2.06 2.06-.94-2.06-.94-.94-2.06-.94 2.06-2.06.94z\"/><path d=\"M17.41 7.96l-1.37-1.37c-.4-.4-.92-.59-1.43-.59-.52 0-1.04.2-1.43.59L10.3 9.45l-7.72 7.72c-.78.78-.78 2.05 0 2.83L4 21.41c.39.39.9.59 1.41.59.51 0 1.02-.2 1.41-.59l7.78-7.78 2.81-2.81c.8-.78.8-2.07 0-2.86zM5.41 20L4 18.59l7.72-7.72 1.47 1.35L5.41 20z\"/>\n",
              "  </svg>\n",
              "      </button>\n",
              "      \n",
              "  <style>\n",
              "    .colab-df-container {\n",
              "      display:flex;\n",
              "      flex-wrap:wrap;\n",
              "      gap: 12px;\n",
              "    }\n",
              "\n",
              "    .colab-df-convert {\n",
              "      background-color: #E8F0FE;\n",
              "      border: none;\n",
              "      border-radius: 50%;\n",
              "      cursor: pointer;\n",
              "      display: none;\n",
              "      fill: #1967D2;\n",
              "      height: 32px;\n",
              "      padding: 0 0 0 0;\n",
              "      width: 32px;\n",
              "    }\n",
              "\n",
              "    .colab-df-convert:hover {\n",
              "      background-color: #E2EBFA;\n",
              "      box-shadow: 0px 1px 2px rgba(60, 64, 67, 0.3), 0px 1px 3px 1px rgba(60, 64, 67, 0.15);\n",
              "      fill: #174EA6;\n",
              "    }\n",
              "\n",
              "    [theme=dark] .colab-df-convert {\n",
              "      background-color: #3B4455;\n",
              "      fill: #D2E3FC;\n",
              "    }\n",
              "\n",
              "    [theme=dark] .colab-df-convert:hover {\n",
              "      background-color: #434B5C;\n",
              "      box-shadow: 0px 1px 3px 1px rgba(0, 0, 0, 0.15);\n",
              "      filter: drop-shadow(0px 1px 2px rgba(0, 0, 0, 0.3));\n",
              "      fill: #FFFFFF;\n",
              "    }\n",
              "  </style>\n",
              "\n",
              "      <script>\n",
              "        const buttonEl =\n",
              "          document.querySelector('#df-c4f992b1-799c-41db-a71b-2f3efb1e24bd button.colab-df-convert');\n",
              "        buttonEl.style.display =\n",
              "          google.colab.kernel.accessAllowed ? 'block' : 'none';\n",
              "\n",
              "        async function convertToInteractive(key) {\n",
              "          const element = document.querySelector('#df-c4f992b1-799c-41db-a71b-2f3efb1e24bd');\n",
              "          const dataTable =\n",
              "            await google.colab.kernel.invokeFunction('convertToInteractive',\n",
              "                                                     [key], {});\n",
              "          if (!dataTable) return;\n",
              "\n",
              "          const docLinkHtml = 'Like what you see? Visit the ' +\n",
              "            '<a target=\"_blank\" href=https://colab.research.google.com/notebooks/data_table.ipynb>data table notebook</a>'\n",
              "            + ' to learn more about interactive tables.';\n",
              "          element.innerHTML = '';\n",
              "          dataTable['output_type'] = 'display_data';\n",
              "          await google.colab.output.renderOutput(dataTable, element);\n",
              "          const docLink = document.createElement('div');\n",
              "          docLink.innerHTML = docLinkHtml;\n",
              "          element.appendChild(docLink);\n",
              "        }\n",
              "      </script>\n",
              "    </div>\n",
              "  </div>\n",
              "  "
            ]
          },
          "metadata": {},
          "execution_count": 19
        }
      ]
    },
    {
      "cell_type": "code",
      "source": [
        "train.groupby('store_and_fwd_flag')['trip_duration'].agg(['mean', 'min', 'max'])"
      ],
      "metadata": {
        "id": "FErL2aPFfAtn",
        "outputId": "02d80654-8348-48d0-d7ff-4367ca852303",
        "colab": {
          "base_uri": "https://localhost:8080/",
          "height": 143
        }
      },
      "execution_count": null,
      "outputs": [
        {
          "output_type": "execute_result",
          "data": {
            "text/plain": [
              "                      mean  min      max\n",
              "store_and_fwd_flag                      \n",
              "N                   958.82    1  3526282\n",
              "Y                  1080.76    2     9984"
            ],
            "text/html": [
              "\n",
              "  <div id=\"df-7a42689a-15ec-4475-844a-4e00cd4032fb\">\n",
              "    <div class=\"colab-df-container\">\n",
              "      <div>\n",
              "<style scoped>\n",
              "    .dataframe tbody tr th:only-of-type {\n",
              "        vertical-align: middle;\n",
              "    }\n",
              "\n",
              "    .dataframe tbody tr th {\n",
              "        vertical-align: top;\n",
              "    }\n",
              "\n",
              "    .dataframe thead th {\n",
              "        text-align: right;\n",
              "    }\n",
              "</style>\n",
              "<table border=\"1\" class=\"dataframe\">\n",
              "  <thead>\n",
              "    <tr style=\"text-align: right;\">\n",
              "      <th></th>\n",
              "      <th>mean</th>\n",
              "      <th>min</th>\n",
              "      <th>max</th>\n",
              "    </tr>\n",
              "    <tr>\n",
              "      <th>store_and_fwd_flag</th>\n",
              "      <th></th>\n",
              "      <th></th>\n",
              "      <th></th>\n",
              "    </tr>\n",
              "  </thead>\n",
              "  <tbody>\n",
              "    <tr>\n",
              "      <th>N</th>\n",
              "      <td>958.82</td>\n",
              "      <td>1</td>\n",
              "      <td>3526282</td>\n",
              "    </tr>\n",
              "    <tr>\n",
              "      <th>Y</th>\n",
              "      <td>1080.76</td>\n",
              "      <td>2</td>\n",
              "      <td>9984</td>\n",
              "    </tr>\n",
              "  </tbody>\n",
              "</table>\n",
              "</div>\n",
              "      <button class=\"colab-df-convert\" onclick=\"convertToInteractive('df-7a42689a-15ec-4475-844a-4e00cd4032fb')\"\n",
              "              title=\"Convert this dataframe to an interactive table.\"\n",
              "              style=\"display:none;\">\n",
              "        \n",
              "  <svg xmlns=\"http://www.w3.org/2000/svg\" height=\"24px\"viewBox=\"0 0 24 24\"\n",
              "       width=\"24px\">\n",
              "    <path d=\"M0 0h24v24H0V0z\" fill=\"none\"/>\n",
              "    <path d=\"M18.56 5.44l.94 2.06.94-2.06 2.06-.94-2.06-.94-.94-2.06-.94 2.06-2.06.94zm-11 1L8.5 8.5l.94-2.06 2.06-.94-2.06-.94L8.5 2.5l-.94 2.06-2.06.94zm10 10l.94 2.06.94-2.06 2.06-.94-2.06-.94-.94-2.06-.94 2.06-2.06.94z\"/><path d=\"M17.41 7.96l-1.37-1.37c-.4-.4-.92-.59-1.43-.59-.52 0-1.04.2-1.43.59L10.3 9.45l-7.72 7.72c-.78.78-.78 2.05 0 2.83L4 21.41c.39.39.9.59 1.41.59.51 0 1.02-.2 1.41-.59l7.78-7.78 2.81-2.81c.8-.78.8-2.07 0-2.86zM5.41 20L4 18.59l7.72-7.72 1.47 1.35L5.41 20z\"/>\n",
              "  </svg>\n",
              "      </button>\n",
              "      \n",
              "  <style>\n",
              "    .colab-df-container {\n",
              "      display:flex;\n",
              "      flex-wrap:wrap;\n",
              "      gap: 12px;\n",
              "    }\n",
              "\n",
              "    .colab-df-convert {\n",
              "      background-color: #E8F0FE;\n",
              "      border: none;\n",
              "      border-radius: 50%;\n",
              "      cursor: pointer;\n",
              "      display: none;\n",
              "      fill: #1967D2;\n",
              "      height: 32px;\n",
              "      padding: 0 0 0 0;\n",
              "      width: 32px;\n",
              "    }\n",
              "\n",
              "    .colab-df-convert:hover {\n",
              "      background-color: #E2EBFA;\n",
              "      box-shadow: 0px 1px 2px rgba(60, 64, 67, 0.3), 0px 1px 3px 1px rgba(60, 64, 67, 0.15);\n",
              "      fill: #174EA6;\n",
              "    }\n",
              "\n",
              "    [theme=dark] .colab-df-convert {\n",
              "      background-color: #3B4455;\n",
              "      fill: #D2E3FC;\n",
              "    }\n",
              "\n",
              "    [theme=dark] .colab-df-convert:hover {\n",
              "      background-color: #434B5C;\n",
              "      box-shadow: 0px 1px 3px 1px rgba(0, 0, 0, 0.15);\n",
              "      filter: drop-shadow(0px 1px 2px rgba(0, 0, 0, 0.3));\n",
              "      fill: #FFFFFF;\n",
              "    }\n",
              "  </style>\n",
              "\n",
              "      <script>\n",
              "        const buttonEl =\n",
              "          document.querySelector('#df-7a42689a-15ec-4475-844a-4e00cd4032fb button.colab-df-convert');\n",
              "        buttonEl.style.display =\n",
              "          google.colab.kernel.accessAllowed ? 'block' : 'none';\n",
              "\n",
              "        async function convertToInteractive(key) {\n",
              "          const element = document.querySelector('#df-7a42689a-15ec-4475-844a-4e00cd4032fb');\n",
              "          const dataTable =\n",
              "            await google.colab.kernel.invokeFunction('convertToInteractive',\n",
              "                                                     [key], {});\n",
              "          if (!dataTable) return;\n",
              "\n",
              "          const docLinkHtml = 'Like what you see? Visit the ' +\n",
              "            '<a target=\"_blank\" href=https://colab.research.google.com/notebooks/data_table.ipynb>data table notebook</a>'\n",
              "            + ' to learn more about interactive tables.';\n",
              "          element.innerHTML = '';\n",
              "          dataTable['output_type'] = 'display_data';\n",
              "          await google.colab.output.renderOutput(dataTable, element);\n",
              "          const docLink = document.createElement('div');\n",
              "          docLink.innerHTML = docLinkHtml;\n",
              "          element.appendChild(docLink);\n",
              "        }\n",
              "      </script>\n",
              "    </div>\n",
              "  </div>\n",
              "  "
            ]
          },
          "metadata": {},
          "execution_count": 20
        }
      ]
    },
    {
      "cell_type": "markdown",
      "source": [
        "* **Observation**:\n",
        "\n",
        "$→$ The `store_and_fwd_flag` column has only 2 values, N và Y. We decide to remove this column because:\n",
        "\n",
        "1. The proportions of \"N\" and \"Y\" are 99.4% and 0.6%, respectively $→$ \"N\" dominant this column's value.\n",
        "2. This column meaning is the flag indicates whether the trip record was held in vehicle memory before sending to the vendor because the vehicle did not have a connection to the server $→$ **does not affect** the `trip_duration`.\n",
        "3. The average trip duration of these two groups has not much different."
      ],
      "metadata": {
        "id": "_CqOn3LLekZZ"
      }
    },
    {
      "cell_type": "markdown",
      "source": [
        "### Extract new features"
      ],
      "metadata": {
        "id": "XNMHixJBbEYY"
      }
    },
    {
      "cell_type": "markdown",
      "source": [
        "#### From `pickup_datetime`"
      ],
      "metadata": {
        "id": "Tj_wwYTLEXcD"
      }
    },
    {
      "cell_type": "code",
      "source": [
        "train.loc[:, 'pick_month'] = train['pickup_datetime'].dt.month\n",
        "train.loc[:, 'hour'] = train['pickup_datetime'].dt.hour\n",
        "train.loc[:, 'day_of_month'] = train['pickup_datetime'].dt.day\n",
        "train.loc[:, 'day_of_week'] = train['pickup_datetime'].dt.dayofweek\n",
        "\n",
        "test.loc[:, 'pick_month'] = test['pickup_datetime'].dt.month\n",
        "test.loc[:, 'hour'] = test['pickup_datetime'].dt.hour\n",
        "test.loc[:, 'day_of_month'] = test['pickup_datetime'].dt.day\n",
        "test.loc[:, 'day_of_week'] = test['pickup_datetime'].dt.dayofweek"
      ],
      "metadata": {
        "id": "6YqPBkjRYtrw"
      },
      "execution_count": null,
      "outputs": []
    },
    {
      "cell_type": "code",
      "source": [
        "train.head(2)"
      ],
      "metadata": {
        "id": "QyrJ0CO3aEM5",
        "outputId": "5f9d6c0d-b7c2-4cf0-cb04-e22746402876",
        "colab": {
          "base_uri": "https://localhost:8080/",
          "height": 211
        }
      },
      "execution_count": null,
      "outputs": [
        {
          "output_type": "execute_result",
          "data": {
            "text/plain": [
              "          id vendor_id     pickup_datetime    dropoff_datetime  \\\n",
              "0  id2875421         2 2016-03-14 17:24:55 2016-03-14 17:32:30   \n",
              "1  id2377394         1 2016-06-12 00:43:35 2016-06-12 00:54:38   \n",
              "\n",
              "   passenger_count  pickup_longitude  pickup_latitude  dropoff_longitude  \\\n",
              "0                1            -73.98            40.77             -73.96   \n",
              "1                1            -73.98            40.74             -74.00   \n",
              "\n",
              "   dropoff_latitude store_and_fwd_flag  trip_duration  pick_month  hour  \\\n",
              "0             40.77                  N            455           3    17   \n",
              "1             40.73                  N            663           6     0   \n",
              "\n",
              "   day_of_month  day_of_week  \n",
              "0            14            0  \n",
              "1            12            6  "
            ],
            "text/html": [
              "\n",
              "  <div id=\"df-bee652a9-38ad-40fc-b57f-4aa8523c51fd\">\n",
              "    <div class=\"colab-df-container\">\n",
              "      <div>\n",
              "<style scoped>\n",
              "    .dataframe tbody tr th:only-of-type {\n",
              "        vertical-align: middle;\n",
              "    }\n",
              "\n",
              "    .dataframe tbody tr th {\n",
              "        vertical-align: top;\n",
              "    }\n",
              "\n",
              "    .dataframe thead th {\n",
              "        text-align: right;\n",
              "    }\n",
              "</style>\n",
              "<table border=\"1\" class=\"dataframe\">\n",
              "  <thead>\n",
              "    <tr style=\"text-align: right;\">\n",
              "      <th></th>\n",
              "      <th>id</th>\n",
              "      <th>vendor_id</th>\n",
              "      <th>pickup_datetime</th>\n",
              "      <th>dropoff_datetime</th>\n",
              "      <th>passenger_count</th>\n",
              "      <th>pickup_longitude</th>\n",
              "      <th>pickup_latitude</th>\n",
              "      <th>dropoff_longitude</th>\n",
              "      <th>dropoff_latitude</th>\n",
              "      <th>store_and_fwd_flag</th>\n",
              "      <th>trip_duration</th>\n",
              "      <th>pick_month</th>\n",
              "      <th>hour</th>\n",
              "      <th>day_of_month</th>\n",
              "      <th>day_of_week</th>\n",
              "    </tr>\n",
              "  </thead>\n",
              "  <tbody>\n",
              "    <tr>\n",
              "      <th>0</th>\n",
              "      <td>id2875421</td>\n",
              "      <td>2</td>\n",
              "      <td>2016-03-14 17:24:55</td>\n",
              "      <td>2016-03-14 17:32:30</td>\n",
              "      <td>1</td>\n",
              "      <td>-73.98</td>\n",
              "      <td>40.77</td>\n",
              "      <td>-73.96</td>\n",
              "      <td>40.77</td>\n",
              "      <td>N</td>\n",
              "      <td>455</td>\n",
              "      <td>3</td>\n",
              "      <td>17</td>\n",
              "      <td>14</td>\n",
              "      <td>0</td>\n",
              "    </tr>\n",
              "    <tr>\n",
              "      <th>1</th>\n",
              "      <td>id2377394</td>\n",
              "      <td>1</td>\n",
              "      <td>2016-06-12 00:43:35</td>\n",
              "      <td>2016-06-12 00:54:38</td>\n",
              "      <td>1</td>\n",
              "      <td>-73.98</td>\n",
              "      <td>40.74</td>\n",
              "      <td>-74.00</td>\n",
              "      <td>40.73</td>\n",
              "      <td>N</td>\n",
              "      <td>663</td>\n",
              "      <td>6</td>\n",
              "      <td>0</td>\n",
              "      <td>12</td>\n",
              "      <td>6</td>\n",
              "    </tr>\n",
              "  </tbody>\n",
              "</table>\n",
              "</div>\n",
              "      <button class=\"colab-df-convert\" onclick=\"convertToInteractive('df-bee652a9-38ad-40fc-b57f-4aa8523c51fd')\"\n",
              "              title=\"Convert this dataframe to an interactive table.\"\n",
              "              style=\"display:none;\">\n",
              "        \n",
              "  <svg xmlns=\"http://www.w3.org/2000/svg\" height=\"24px\"viewBox=\"0 0 24 24\"\n",
              "       width=\"24px\">\n",
              "    <path d=\"M0 0h24v24H0V0z\" fill=\"none\"/>\n",
              "    <path d=\"M18.56 5.44l.94 2.06.94-2.06 2.06-.94-2.06-.94-.94-2.06-.94 2.06-2.06.94zm-11 1L8.5 8.5l.94-2.06 2.06-.94-2.06-.94L8.5 2.5l-.94 2.06-2.06.94zm10 10l.94 2.06.94-2.06 2.06-.94-2.06-.94-.94-2.06-.94 2.06-2.06.94z\"/><path d=\"M17.41 7.96l-1.37-1.37c-.4-.4-.92-.59-1.43-.59-.52 0-1.04.2-1.43.59L10.3 9.45l-7.72 7.72c-.78.78-.78 2.05 0 2.83L4 21.41c.39.39.9.59 1.41.59.51 0 1.02-.2 1.41-.59l7.78-7.78 2.81-2.81c.8-.78.8-2.07 0-2.86zM5.41 20L4 18.59l7.72-7.72 1.47 1.35L5.41 20z\"/>\n",
              "  </svg>\n",
              "      </button>\n",
              "      \n",
              "  <style>\n",
              "    .colab-df-container {\n",
              "      display:flex;\n",
              "      flex-wrap:wrap;\n",
              "      gap: 12px;\n",
              "    }\n",
              "\n",
              "    .colab-df-convert {\n",
              "      background-color: #E8F0FE;\n",
              "      border: none;\n",
              "      border-radius: 50%;\n",
              "      cursor: pointer;\n",
              "      display: none;\n",
              "      fill: #1967D2;\n",
              "      height: 32px;\n",
              "      padding: 0 0 0 0;\n",
              "      width: 32px;\n",
              "    }\n",
              "\n",
              "    .colab-df-convert:hover {\n",
              "      background-color: #E2EBFA;\n",
              "      box-shadow: 0px 1px 2px rgba(60, 64, 67, 0.3), 0px 1px 3px 1px rgba(60, 64, 67, 0.15);\n",
              "      fill: #174EA6;\n",
              "    }\n",
              "\n",
              "    [theme=dark] .colab-df-convert {\n",
              "      background-color: #3B4455;\n",
              "      fill: #D2E3FC;\n",
              "    }\n",
              "\n",
              "    [theme=dark] .colab-df-convert:hover {\n",
              "      background-color: #434B5C;\n",
              "      box-shadow: 0px 1px 3px 1px rgba(0, 0, 0, 0.15);\n",
              "      filter: drop-shadow(0px 1px 2px rgba(0, 0, 0, 0.3));\n",
              "      fill: #FFFFFF;\n",
              "    }\n",
              "  </style>\n",
              "\n",
              "      <script>\n",
              "        const buttonEl =\n",
              "          document.querySelector('#df-bee652a9-38ad-40fc-b57f-4aa8523c51fd button.colab-df-convert');\n",
              "        buttonEl.style.display =\n",
              "          google.colab.kernel.accessAllowed ? 'block' : 'none';\n",
              "\n",
              "        async function convertToInteractive(key) {\n",
              "          const element = document.querySelector('#df-bee652a9-38ad-40fc-b57f-4aa8523c51fd');\n",
              "          const dataTable =\n",
              "            await google.colab.kernel.invokeFunction('convertToInteractive',\n",
              "                                                     [key], {});\n",
              "          if (!dataTable) return;\n",
              "\n",
              "          const docLinkHtml = 'Like what you see? Visit the ' +\n",
              "            '<a target=\"_blank\" href=https://colab.research.google.com/notebooks/data_table.ipynb>data table notebook</a>'\n",
              "            + ' to learn more about interactive tables.';\n",
              "          element.innerHTML = '';\n",
              "          dataTable['output_type'] = 'display_data';\n",
              "          await google.colab.output.renderOutput(dataTable, element);\n",
              "          const docLink = document.createElement('div');\n",
              "          docLink.innerHTML = docLinkHtml;\n",
              "          element.appendChild(docLink);\n",
              "        }\n",
              "      </script>\n",
              "    </div>\n",
              "  </div>\n",
              "  "
            ]
          },
          "metadata": {},
          "execution_count": 22
        }
      ]
    },
    {
      "cell_type": "markdown",
      "source": [
        "* **Comment**:\n",
        "\n",
        "$→$ Because this problem predicts the trip_duration so that the `dropoff_datetime` column is not necessary $→$ we **remove** this column."
      ],
      "metadata": {
        "id": "tHaIdDqfZTQg"
      }
    },
    {
      "cell_type": "code",
      "source": [
        "train.drop(['pickup_datetime', 'dropoff_datetime'], axis =1, inplace= True)\n",
        "test.drop(['pickup_datetime'], axis =1, inplace= True)"
      ],
      "metadata": {
        "id": "I5H787xZZibN"
      },
      "execution_count": null,
      "outputs": []
    },
    {
      "cell_type": "markdown",
      "source": [
        "#### Remove `store_and_fwd_flag`"
      ],
      "metadata": {
        "id": "iajqYK5VEkt6"
      }
    },
    {
      "cell_type": "code",
      "source": [
        "train.drop('store_and_fwd_flag', axis = 1, inplace=True)\n",
        "test.drop('store_and_fwd_flag', axis = 1, inplace=True)"
      ],
      "metadata": {
        "id": "XdNaQq9Zjtl4"
      },
      "execution_count": null,
      "outputs": []
    },
    {
      "cell_type": "code",
      "source": [
        "train.head(1)"
      ],
      "metadata": {
        "id": "oJWbRSlVj8P8",
        "outputId": "27e9bbf9-e2c6-4e57-a592-4e09fe0af5a6",
        "colab": {
          "base_uri": "https://localhost:8080/",
          "height": 125
        }
      },
      "execution_count": null,
      "outputs": [
        {
          "output_type": "execute_result",
          "data": {
            "text/plain": [
              "          id vendor_id  passenger_count  pickup_longitude  pickup_latitude  \\\n",
              "0  id2875421         2                1            -73.98            40.77   \n",
              "\n",
              "   dropoff_longitude  dropoff_latitude  trip_duration  pick_month  hour  \\\n",
              "0             -73.96             40.77            455           3    17   \n",
              "\n",
              "   day_of_month  day_of_week  \n",
              "0            14            0  "
            ],
            "text/html": [
              "\n",
              "  <div id=\"df-3c171634-13c1-4e70-886b-575fc55a265c\">\n",
              "    <div class=\"colab-df-container\">\n",
              "      <div>\n",
              "<style scoped>\n",
              "    .dataframe tbody tr th:only-of-type {\n",
              "        vertical-align: middle;\n",
              "    }\n",
              "\n",
              "    .dataframe tbody tr th {\n",
              "        vertical-align: top;\n",
              "    }\n",
              "\n",
              "    .dataframe thead th {\n",
              "        text-align: right;\n",
              "    }\n",
              "</style>\n",
              "<table border=\"1\" class=\"dataframe\">\n",
              "  <thead>\n",
              "    <tr style=\"text-align: right;\">\n",
              "      <th></th>\n",
              "      <th>id</th>\n",
              "      <th>vendor_id</th>\n",
              "      <th>passenger_count</th>\n",
              "      <th>pickup_longitude</th>\n",
              "      <th>pickup_latitude</th>\n",
              "      <th>dropoff_longitude</th>\n",
              "      <th>dropoff_latitude</th>\n",
              "      <th>trip_duration</th>\n",
              "      <th>pick_month</th>\n",
              "      <th>hour</th>\n",
              "      <th>day_of_month</th>\n",
              "      <th>day_of_week</th>\n",
              "    </tr>\n",
              "  </thead>\n",
              "  <tbody>\n",
              "    <tr>\n",
              "      <th>0</th>\n",
              "      <td>id2875421</td>\n",
              "      <td>2</td>\n",
              "      <td>1</td>\n",
              "      <td>-73.98</td>\n",
              "      <td>40.77</td>\n",
              "      <td>-73.96</td>\n",
              "      <td>40.77</td>\n",
              "      <td>455</td>\n",
              "      <td>3</td>\n",
              "      <td>17</td>\n",
              "      <td>14</td>\n",
              "      <td>0</td>\n",
              "    </tr>\n",
              "  </tbody>\n",
              "</table>\n",
              "</div>\n",
              "      <button class=\"colab-df-convert\" onclick=\"convertToInteractive('df-3c171634-13c1-4e70-886b-575fc55a265c')\"\n",
              "              title=\"Convert this dataframe to an interactive table.\"\n",
              "              style=\"display:none;\">\n",
              "        \n",
              "  <svg xmlns=\"http://www.w3.org/2000/svg\" height=\"24px\"viewBox=\"0 0 24 24\"\n",
              "       width=\"24px\">\n",
              "    <path d=\"M0 0h24v24H0V0z\" fill=\"none\"/>\n",
              "    <path d=\"M18.56 5.44l.94 2.06.94-2.06 2.06-.94-2.06-.94-.94-2.06-.94 2.06-2.06.94zm-11 1L8.5 8.5l.94-2.06 2.06-.94-2.06-.94L8.5 2.5l-.94 2.06-2.06.94zm10 10l.94 2.06.94-2.06 2.06-.94-2.06-.94-.94-2.06-.94 2.06-2.06.94z\"/><path d=\"M17.41 7.96l-1.37-1.37c-.4-.4-.92-.59-1.43-.59-.52 0-1.04.2-1.43.59L10.3 9.45l-7.72 7.72c-.78.78-.78 2.05 0 2.83L4 21.41c.39.39.9.59 1.41.59.51 0 1.02-.2 1.41-.59l7.78-7.78 2.81-2.81c.8-.78.8-2.07 0-2.86zM5.41 20L4 18.59l7.72-7.72 1.47 1.35L5.41 20z\"/>\n",
              "  </svg>\n",
              "      </button>\n",
              "      \n",
              "  <style>\n",
              "    .colab-df-container {\n",
              "      display:flex;\n",
              "      flex-wrap:wrap;\n",
              "      gap: 12px;\n",
              "    }\n",
              "\n",
              "    .colab-df-convert {\n",
              "      background-color: #E8F0FE;\n",
              "      border: none;\n",
              "      border-radius: 50%;\n",
              "      cursor: pointer;\n",
              "      display: none;\n",
              "      fill: #1967D2;\n",
              "      height: 32px;\n",
              "      padding: 0 0 0 0;\n",
              "      width: 32px;\n",
              "    }\n",
              "\n",
              "    .colab-df-convert:hover {\n",
              "      background-color: #E2EBFA;\n",
              "      box-shadow: 0px 1px 2px rgba(60, 64, 67, 0.3), 0px 1px 3px 1px rgba(60, 64, 67, 0.15);\n",
              "      fill: #174EA6;\n",
              "    }\n",
              "\n",
              "    [theme=dark] .colab-df-convert {\n",
              "      background-color: #3B4455;\n",
              "      fill: #D2E3FC;\n",
              "    }\n",
              "\n",
              "    [theme=dark] .colab-df-convert:hover {\n",
              "      background-color: #434B5C;\n",
              "      box-shadow: 0px 1px 3px 1px rgba(0, 0, 0, 0.15);\n",
              "      filter: drop-shadow(0px 1px 2px rgba(0, 0, 0, 0.3));\n",
              "      fill: #FFFFFF;\n",
              "    }\n",
              "  </style>\n",
              "\n",
              "      <script>\n",
              "        const buttonEl =\n",
              "          document.querySelector('#df-3c171634-13c1-4e70-886b-575fc55a265c button.colab-df-convert');\n",
              "        buttonEl.style.display =\n",
              "          google.colab.kernel.accessAllowed ? 'block' : 'none';\n",
              "\n",
              "        async function convertToInteractive(key) {\n",
              "          const element = document.querySelector('#df-3c171634-13c1-4e70-886b-575fc55a265c');\n",
              "          const dataTable =\n",
              "            await google.colab.kernel.invokeFunction('convertToInteractive',\n",
              "                                                     [key], {});\n",
              "          if (!dataTable) return;\n",
              "\n",
              "          const docLinkHtml = 'Like what you see? Visit the ' +\n",
              "            '<a target=\"_blank\" href=https://colab.research.google.com/notebooks/data_table.ipynb>data table notebook</a>'\n",
              "            + ' to learn more about interactive tables.';\n",
              "          element.innerHTML = '';\n",
              "          dataTable['output_type'] = 'display_data';\n",
              "          await google.colab.output.renderOutput(dataTable, element);\n",
              "          const docLink = document.createElement('div');\n",
              "          docLink.innerHTML = docLinkHtml;\n",
              "          element.appendChild(docLink);\n",
              "        }\n",
              "      </script>\n",
              "    </div>\n",
              "  </div>\n",
              "  "
            ]
          },
          "metadata": {},
          "execution_count": 25
        }
      ]
    },
    {
      "cell_type": "markdown",
      "source": [
        "#### Distance "
      ],
      "metadata": {
        "id": "pjA66obY2zlX"
      }
    },
    {
      "cell_type": "markdown",
      "source": [
        "* The solution of Beluga about haversine distance and manhattan distance (in km).\n"
      ],
      "metadata": {
        "id": "GEL4fUA953HH"
      }
    },
    {
      "cell_type": "code",
      "source": [
        "def haversine_array(lat1, lng1, lat2, lng2):\n",
        "    lat1, lng1, lat2, lng2 = map(np.radians, (lat1, lng1, lat2, lng2))\n",
        "    AVG_EARTH_RADIUS = 6371  # in km\n",
        "    lat = lat2 - lat1\n",
        "    lng = lng2 - lng1\n",
        "    d = np.sin(lat * 0.5) ** 2 + np.cos(lat1) * np.cos(lat2) * np.sin(lng * 0.5) ** 2\n",
        "    h = 2 * AVG_EARTH_RADIUS * np.arcsin(np.sqrt(d))\n",
        "    return h"
      ],
      "metadata": {
        "id": "zZg26fSv6CNU"
      },
      "execution_count": null,
      "outputs": []
    },
    {
      "cell_type": "code",
      "source": [
        "def dummy_manhattan_distance(lat1, lng1, lat2, lng2):\n",
        "    a = haversine_array(lat1, lng1, lat1, lng2)\n",
        "    b = haversine_array(lat1, lng1, lat2, lng1)\n",
        "    return a + b"
      ],
      "metadata": {
        "id": "WsxKhhgyWXFl"
      },
      "execution_count": null,
      "outputs": []
    },
    {
      "cell_type": "markdown",
      "source": [
        "* `distance_haversine`, `distance_manhattan`: knowing the distance between two positions can help to estimate the duration => used to predict trip duration.\n"
      ],
      "metadata": {
        "id": "DtgXuZx2bz0Z"
      }
    },
    {
      "cell_type": "code",
      "source": [
        "train.loc[:, 'distance_haversine'] = haversine_array(train['pickup_latitude'].values,\n",
        "                                                     train['pickup_longitude'].values,\n",
        "                                                     train['dropoff_latitude'].values,\n",
        "                                                     train['dropoff_longitude'].values)\n",
        "\n",
        "test.loc[:, 'distance_haversine'] = haversine_array(test['pickup_latitude'].values,\n",
        "                                                     test['pickup_longitude'].values,\n",
        "                                                     test['dropoff_latitude'].values,\n",
        "                                                     test['dropoff_longitude'].values)"
      ],
      "metadata": {
        "id": "cDpndxBk6Gym"
      },
      "execution_count": null,
      "outputs": []
    },
    {
      "cell_type": "code",
      "source": [
        "train.loc[:, 'distance_manhattan'] = dummy_manhattan_distance(train['pickup_latitude'].values,\n",
        "                                                              train['pickup_longitude'].values,\n",
        "                                                              train['dropoff_latitude'].values,\n",
        "                                                              train['dropoff_longitude'].values)\n",
        "\n",
        "test.loc[:, 'distance_manhattan'] = dummy_manhattan_distance(test['pickup_latitude'].values,\n",
        "                                                              test['pickup_longitude'].values,\n",
        "                                                              test['dropoff_latitude'].values,\n",
        "                                                              test['dropoff_longitude'].values)"
      ],
      "metadata": {
        "id": "NWDgsJiuWgTu"
      },
      "execution_count": null,
      "outputs": []
    },
    {
      "cell_type": "code",
      "source": [
        "train[[\"id\",\"distance_haversine\",\"distance_manhattan\"]].head(2)"
      ],
      "metadata": {
        "id": "McP5DE3G6TXm",
        "outputId": "07a4796c-f8bd-46db-86a4-dd77e132d821",
        "colab": {
          "base_uri": "https://localhost:8080/",
          "height": 112
        }
      },
      "execution_count": null,
      "outputs": [
        {
          "output_type": "execute_result",
          "data": {
            "text/plain": [
              "          id  distance_haversine  distance_manhattan\n",
              "0  id2875421                1.50                1.74\n",
              "1  id2377394                1.81                2.43"
            ],
            "text/html": [
              "\n",
              "  <div id=\"df-5b8f26db-f3ae-41e2-9a09-f7525e7f15a9\">\n",
              "    <div class=\"colab-df-container\">\n",
              "      <div>\n",
              "<style scoped>\n",
              "    .dataframe tbody tr th:only-of-type {\n",
              "        vertical-align: middle;\n",
              "    }\n",
              "\n",
              "    .dataframe tbody tr th {\n",
              "        vertical-align: top;\n",
              "    }\n",
              "\n",
              "    .dataframe thead th {\n",
              "        text-align: right;\n",
              "    }\n",
              "</style>\n",
              "<table border=\"1\" class=\"dataframe\">\n",
              "  <thead>\n",
              "    <tr style=\"text-align: right;\">\n",
              "      <th></th>\n",
              "      <th>id</th>\n",
              "      <th>distance_haversine</th>\n",
              "      <th>distance_manhattan</th>\n",
              "    </tr>\n",
              "  </thead>\n",
              "  <tbody>\n",
              "    <tr>\n",
              "      <th>0</th>\n",
              "      <td>id2875421</td>\n",
              "      <td>1.50</td>\n",
              "      <td>1.74</td>\n",
              "    </tr>\n",
              "    <tr>\n",
              "      <th>1</th>\n",
              "      <td>id2377394</td>\n",
              "      <td>1.81</td>\n",
              "      <td>2.43</td>\n",
              "    </tr>\n",
              "  </tbody>\n",
              "</table>\n",
              "</div>\n",
              "      <button class=\"colab-df-convert\" onclick=\"convertToInteractive('df-5b8f26db-f3ae-41e2-9a09-f7525e7f15a9')\"\n",
              "              title=\"Convert this dataframe to an interactive table.\"\n",
              "              style=\"display:none;\">\n",
              "        \n",
              "  <svg xmlns=\"http://www.w3.org/2000/svg\" height=\"24px\"viewBox=\"0 0 24 24\"\n",
              "       width=\"24px\">\n",
              "    <path d=\"M0 0h24v24H0V0z\" fill=\"none\"/>\n",
              "    <path d=\"M18.56 5.44l.94 2.06.94-2.06 2.06-.94-2.06-.94-.94-2.06-.94 2.06-2.06.94zm-11 1L8.5 8.5l.94-2.06 2.06-.94-2.06-.94L8.5 2.5l-.94 2.06-2.06.94zm10 10l.94 2.06.94-2.06 2.06-.94-2.06-.94-.94-2.06-.94 2.06-2.06.94z\"/><path d=\"M17.41 7.96l-1.37-1.37c-.4-.4-.92-.59-1.43-.59-.52 0-1.04.2-1.43.59L10.3 9.45l-7.72 7.72c-.78.78-.78 2.05 0 2.83L4 21.41c.39.39.9.59 1.41.59.51 0 1.02-.2 1.41-.59l7.78-7.78 2.81-2.81c.8-.78.8-2.07 0-2.86zM5.41 20L4 18.59l7.72-7.72 1.47 1.35L5.41 20z\"/>\n",
              "  </svg>\n",
              "      </button>\n",
              "      \n",
              "  <style>\n",
              "    .colab-df-container {\n",
              "      display:flex;\n",
              "      flex-wrap:wrap;\n",
              "      gap: 12px;\n",
              "    }\n",
              "\n",
              "    .colab-df-convert {\n",
              "      background-color: #E8F0FE;\n",
              "      border: none;\n",
              "      border-radius: 50%;\n",
              "      cursor: pointer;\n",
              "      display: none;\n",
              "      fill: #1967D2;\n",
              "      height: 32px;\n",
              "      padding: 0 0 0 0;\n",
              "      width: 32px;\n",
              "    }\n",
              "\n",
              "    .colab-df-convert:hover {\n",
              "      background-color: #E2EBFA;\n",
              "      box-shadow: 0px 1px 2px rgba(60, 64, 67, 0.3), 0px 1px 3px 1px rgba(60, 64, 67, 0.15);\n",
              "      fill: #174EA6;\n",
              "    }\n",
              "\n",
              "    [theme=dark] .colab-df-convert {\n",
              "      background-color: #3B4455;\n",
              "      fill: #D2E3FC;\n",
              "    }\n",
              "\n",
              "    [theme=dark] .colab-df-convert:hover {\n",
              "      background-color: #434B5C;\n",
              "      box-shadow: 0px 1px 3px 1px rgba(0, 0, 0, 0.15);\n",
              "      filter: drop-shadow(0px 1px 2px rgba(0, 0, 0, 0.3));\n",
              "      fill: #FFFFFF;\n",
              "    }\n",
              "  </style>\n",
              "\n",
              "      <script>\n",
              "        const buttonEl =\n",
              "          document.querySelector('#df-5b8f26db-f3ae-41e2-9a09-f7525e7f15a9 button.colab-df-convert');\n",
              "        buttonEl.style.display =\n",
              "          google.colab.kernel.accessAllowed ? 'block' : 'none';\n",
              "\n",
              "        async function convertToInteractive(key) {\n",
              "          const element = document.querySelector('#df-5b8f26db-f3ae-41e2-9a09-f7525e7f15a9');\n",
              "          const dataTable =\n",
              "            await google.colab.kernel.invokeFunction('convertToInteractive',\n",
              "                                                     [key], {});\n",
              "          if (!dataTable) return;\n",
              "\n",
              "          const docLinkHtml = 'Like what you see? Visit the ' +\n",
              "            '<a target=\"_blank\" href=https://colab.research.google.com/notebooks/data_table.ipynb>data table notebook</a>'\n",
              "            + ' to learn more about interactive tables.';\n",
              "          element.innerHTML = '';\n",
              "          dataTable['output_type'] = 'display_data';\n",
              "          await google.colab.output.renderOutput(dataTable, element);\n",
              "          const docLink = document.createElement('div');\n",
              "          docLink.innerHTML = docLinkHtml;\n",
              "          element.appendChild(docLink);\n",
              "        }\n",
              "      </script>\n",
              "    </div>\n",
              "  </div>\n",
              "  "
            ]
          },
          "metadata": {},
          "execution_count": 30
        }
      ]
    },
    {
      "cell_type": "markdown",
      "source": [
        "* Determine the direction of pickup and dropoff positions and divide it into 8 bins (N, NE, E, SE, S, SW, W, NW):\n",
        "    * Bearing_array function from solution of Beluga.\n",
        "    * Assign direction for each degree.\n",
        "\n",
        "    \n",
        "* `direction`:  the direction of the trip has 8 directions => for each location, which direction do the riders need to move mainly => the traffic situation when moving in the directions at the pick-up point and the pick-up time => affect the prediction of travel time.\n",
        "    \n",
        "\n"
      ],
      "metadata": {
        "id": "g4yploM29eWk"
      }
    },
    {
      "cell_type": "code",
      "source": [
        "def bearing_array(lat1, lng1, lat2, lng2):\n",
        "    AVG_EARTH_RADIUS = 6371  # in km\n",
        "    lng_delta_rad = np.radians(lng2 - lng1)\n",
        "    lat1, lng1, lat2, lng2 = map(np.radians, (lat1, lng1, lat2, lng2))\n",
        "    y = np.sin(lng_delta_rad) * np.cos(lat2)\n",
        "    x = np.cos(lat1) * np.sin(lat2) - np.sin(lat1) * np.cos(lat2) * np.cos(lng_delta_rad)\n",
        "    return np.degrees(np.arctan2(y, x))"
      ],
      "metadata": {
        "id": "RnhDCxfM7hoj"
      },
      "execution_count": null,
      "outputs": []
    },
    {
      "cell_type": "code",
      "source": [
        "train.loc[:, 'direction'] = bearing_array(train['pickup_latitude'].values, \n",
        "                                          train['pickup_longitude'].values, \n",
        "                                          train['dropoff_latitude'].values, \n",
        "                                          train['dropoff_longitude'].values)\n",
        "\n",
        "test.loc[:, 'direction'] = bearing_array(test['pickup_latitude'].values, \n",
        "                                          test['pickup_longitude'].values, \n",
        "                                          test['dropoff_latitude'].values, \n",
        "                                          test['dropoff_longitude'].values)"
      ],
      "metadata": {
        "id": "-KQrKU1j28lp"
      },
      "execution_count": null,
      "outputs": []
    },
    {
      "cell_type": "code",
      "source": [
        "train[[\"id\",\"direction\"]].describe()"
      ],
      "metadata": {
        "id": "oZYoRZRm8hZD",
        "outputId": "39535328-0f91-4106-8856-a51ad018c0d8",
        "colab": {
          "base_uri": "https://localhost:8080/",
          "height": 300
        }
      },
      "execution_count": null,
      "outputs": [
        {
          "output_type": "execute_result",
          "data": {
            "text/plain": [
              "       direction\n",
              "count 1458644.00\n",
              "mean      -15.67\n",
              "std       104.49\n",
              "min      -179.99\n",
              "25%      -125.27\n",
              "50%         8.20\n",
              "75%        53.40\n",
              "max       180.00"
            ],
            "text/html": [
              "\n",
              "  <div id=\"df-a7b98699-4eed-4c77-aec1-cd57164e4663\">\n",
              "    <div class=\"colab-df-container\">\n",
              "      <div>\n",
              "<style scoped>\n",
              "    .dataframe tbody tr th:only-of-type {\n",
              "        vertical-align: middle;\n",
              "    }\n",
              "\n",
              "    .dataframe tbody tr th {\n",
              "        vertical-align: top;\n",
              "    }\n",
              "\n",
              "    .dataframe thead th {\n",
              "        text-align: right;\n",
              "    }\n",
              "</style>\n",
              "<table border=\"1\" class=\"dataframe\">\n",
              "  <thead>\n",
              "    <tr style=\"text-align: right;\">\n",
              "      <th></th>\n",
              "      <th>direction</th>\n",
              "    </tr>\n",
              "  </thead>\n",
              "  <tbody>\n",
              "    <tr>\n",
              "      <th>count</th>\n",
              "      <td>1458644.00</td>\n",
              "    </tr>\n",
              "    <tr>\n",
              "      <th>mean</th>\n",
              "      <td>-15.67</td>\n",
              "    </tr>\n",
              "    <tr>\n",
              "      <th>std</th>\n",
              "      <td>104.49</td>\n",
              "    </tr>\n",
              "    <tr>\n",
              "      <th>min</th>\n",
              "      <td>-179.99</td>\n",
              "    </tr>\n",
              "    <tr>\n",
              "      <th>25%</th>\n",
              "      <td>-125.27</td>\n",
              "    </tr>\n",
              "    <tr>\n",
              "      <th>50%</th>\n",
              "      <td>8.20</td>\n",
              "    </tr>\n",
              "    <tr>\n",
              "      <th>75%</th>\n",
              "      <td>53.40</td>\n",
              "    </tr>\n",
              "    <tr>\n",
              "      <th>max</th>\n",
              "      <td>180.00</td>\n",
              "    </tr>\n",
              "  </tbody>\n",
              "</table>\n",
              "</div>\n",
              "      <button class=\"colab-df-convert\" onclick=\"convertToInteractive('df-a7b98699-4eed-4c77-aec1-cd57164e4663')\"\n",
              "              title=\"Convert this dataframe to an interactive table.\"\n",
              "              style=\"display:none;\">\n",
              "        \n",
              "  <svg xmlns=\"http://www.w3.org/2000/svg\" height=\"24px\"viewBox=\"0 0 24 24\"\n",
              "       width=\"24px\">\n",
              "    <path d=\"M0 0h24v24H0V0z\" fill=\"none\"/>\n",
              "    <path d=\"M18.56 5.44l.94 2.06.94-2.06 2.06-.94-2.06-.94-.94-2.06-.94 2.06-2.06.94zm-11 1L8.5 8.5l.94-2.06 2.06-.94-2.06-.94L8.5 2.5l-.94 2.06-2.06.94zm10 10l.94 2.06.94-2.06 2.06-.94-2.06-.94-.94-2.06-.94 2.06-2.06.94z\"/><path d=\"M17.41 7.96l-1.37-1.37c-.4-.4-.92-.59-1.43-.59-.52 0-1.04.2-1.43.59L10.3 9.45l-7.72 7.72c-.78.78-.78 2.05 0 2.83L4 21.41c.39.39.9.59 1.41.59.51 0 1.02-.2 1.41-.59l7.78-7.78 2.81-2.81c.8-.78.8-2.07 0-2.86zM5.41 20L4 18.59l7.72-7.72 1.47 1.35L5.41 20z\"/>\n",
              "  </svg>\n",
              "      </button>\n",
              "      \n",
              "  <style>\n",
              "    .colab-df-container {\n",
              "      display:flex;\n",
              "      flex-wrap:wrap;\n",
              "      gap: 12px;\n",
              "    }\n",
              "\n",
              "    .colab-df-convert {\n",
              "      background-color: #E8F0FE;\n",
              "      border: none;\n",
              "      border-radius: 50%;\n",
              "      cursor: pointer;\n",
              "      display: none;\n",
              "      fill: #1967D2;\n",
              "      height: 32px;\n",
              "      padding: 0 0 0 0;\n",
              "      width: 32px;\n",
              "    }\n",
              "\n",
              "    .colab-df-convert:hover {\n",
              "      background-color: #E2EBFA;\n",
              "      box-shadow: 0px 1px 2px rgba(60, 64, 67, 0.3), 0px 1px 3px 1px rgba(60, 64, 67, 0.15);\n",
              "      fill: #174EA6;\n",
              "    }\n",
              "\n",
              "    [theme=dark] .colab-df-convert {\n",
              "      background-color: #3B4455;\n",
              "      fill: #D2E3FC;\n",
              "    }\n",
              "\n",
              "    [theme=dark] .colab-df-convert:hover {\n",
              "      background-color: #434B5C;\n",
              "      box-shadow: 0px 1px 3px 1px rgba(0, 0, 0, 0.15);\n",
              "      filter: drop-shadow(0px 1px 2px rgba(0, 0, 0, 0.3));\n",
              "      fill: #FFFFFF;\n",
              "    }\n",
              "  </style>\n",
              "\n",
              "      <script>\n",
              "        const buttonEl =\n",
              "          document.querySelector('#df-a7b98699-4eed-4c77-aec1-cd57164e4663 button.colab-df-convert');\n",
              "        buttonEl.style.display =\n",
              "          google.colab.kernel.accessAllowed ? 'block' : 'none';\n",
              "\n",
              "        async function convertToInteractive(key) {\n",
              "          const element = document.querySelector('#df-a7b98699-4eed-4c77-aec1-cd57164e4663');\n",
              "          const dataTable =\n",
              "            await google.colab.kernel.invokeFunction('convertToInteractive',\n",
              "                                                     [key], {});\n",
              "          if (!dataTable) return;\n",
              "\n",
              "          const docLinkHtml = 'Like what you see? Visit the ' +\n",
              "            '<a target=\"_blank\" href=https://colab.research.google.com/notebooks/data_table.ipynb>data table notebook</a>'\n",
              "            + ' to learn more about interactive tables.';\n",
              "          element.innerHTML = '';\n",
              "          dataTable['output_type'] = 'display_data';\n",
              "          await google.colab.output.renderOutput(dataTable, element);\n",
              "          const docLink = document.createElement('div');\n",
              "          docLink.innerHTML = docLinkHtml;\n",
              "          element.appendChild(docLink);\n",
              "        }\n",
              "      </script>\n",
              "    </div>\n",
              "  </div>\n",
              "  "
            ]
          },
          "metadata": {},
          "execution_count": 33
        }
      ]
    },
    {
      "cell_type": "code",
      "source": [
        "new_df = train.copy()\n",
        "train.loc[(67.5 <= new_df[\"direction\"]) & (new_df[\"direction\"] < 112.5) ,\"direction\"]=\"N\"\n",
        "train.loc[(22.5 <= new_df[\"direction\"]) & (new_df[\"direction\"] < 67.5) ,\"direction\"]=\"NE\"\n",
        "train.loc[(-22.5 <= new_df[\"direction\"]) & (new_df[\"direction\"] < 22.5) ,\"direction\"]=\"E\"\n",
        "train.loc[(-67.5 <= new_df[\"direction\"]) & (new_df[\"direction\"] < -22.5) ,\"direction\"]=\"SE\"\n",
        "train.loc[(-112.5 <= new_df[\"direction\"]) & (new_df[\"direction\"] < -67.5) ,\"direction\"]=\"S\"\n",
        "train.loc[(-157.5 <= new_df[\"direction\"]) & (new_df[\"direction\"] < -112.5) ,\"direction\"]=\"SW\"\n",
        "train.loc[(157.5 <= new_df[\"direction\"]) | (new_df[\"direction\"] < -157.5) ,\"direction\"]=\"W\"\n",
        "train.loc[(112.5 <= new_df[\"direction\"]) & (new_df[\"direction\"] < 157.5) ,\"direction\"]=\"NW\"\n",
        "\n",
        "\n",
        "new_df = test.copy()\n",
        "test.loc[(67.5 <= new_df[\"direction\"]) & (new_df[\"direction\"] < 112.5) ,\"direction\"]=\"N\"\n",
        "test.loc[(22.5 <= new_df[\"direction\"]) & (new_df[\"direction\"] < 67.5) ,\"direction\"]=\"NE\"\n",
        "test.loc[(-22.5 <= new_df[\"direction\"]) & (new_df[\"direction\"] < 22.5) ,\"direction\"]=\"E\"\n",
        "test.loc[(-67.5 <= new_df[\"direction\"]) & (new_df[\"direction\"] < -22.5) ,\"direction\"]=\"SE\"\n",
        "test.loc[(-112.5 <= new_df[\"direction\"]) & (new_df[\"direction\"] < -67.5) ,\"direction\"]=\"S\"\n",
        "test.loc[(-157.5 <= new_df[\"direction\"]) & (new_df[\"direction\"] < -112.5) ,\"direction\"]=\"SW\"\n",
        "test.loc[(157.5 <= new_df[\"direction\"]) | (new_df[\"direction\"] < -157.5) ,\"direction\"]=\"W\"\n",
        "test.loc[(112.5 <= new_df[\"direction\"]) & (new_df[\"direction\"] < 157.5) ,\"direction\"]=\"NW\""
      ],
      "metadata": {
        "id": "mhdh34X089f_"
      },
      "execution_count": null,
      "outputs": []
    },
    {
      "cell_type": "code",
      "source": [
        "train[\"direction\"].unique()"
      ],
      "metadata": {
        "id": "ub02I6zrBm8R",
        "outputId": "1eb0f39c-58da-4af0-cdb4-05111cde7ca8",
        "colab": {
          "base_uri": "https://localhost:8080/"
        }
      },
      "execution_count": null,
      "outputs": [
        {
          "output_type": "execute_result",
          "data": {
            "text/plain": [
              "array(['N', 'SW', 'W', 'SE', 'NE', 'NW', 'E', 'S'], dtype=object)"
            ]
          },
          "metadata": {},
          "execution_count": 35
        }
      ]
    },
    {
      "cell_type": "markdown",
      "source": [
        "#### Clustering area (from Beluga's notebook)"
      ],
      "metadata": {
        "id": "qd4LGCnqV3Ig"
      }
    },
    {
      "cell_type": "code",
      "source": [
        "train.loc[:, \"avg_speed_h\"] = 1000 * train[\"distance_haversine\"] / train[\"trip_duration\"]\n",
        "train.loc[:, \"avg_speed_m\"] = 1000 * train[\"distance_manhattan\"] / train[\"trip_duration\"]"
      ],
      "metadata": {
        "id": "yl4ErSJyWADi"
      },
      "execution_count": null,
      "outputs": []
    },
    {
      "cell_type": "markdown",
      "source": [
        "* Based on the tuple of longitude and latitude, we using KMeans in order to cluster pickup and dropoff positions to 100 groups respectively. Learning Kmeans with 500000 examples from the train set.\n",
        "* From the area clustered, the average speed features can be extracted based on pickup, dropoff groups, and pickup hour. These features can be used in test set."
      ],
      "metadata": {
        "id": "ZoZ8HuNXswAz"
      }
    },
    {
      "cell_type": "code",
      "source": [
        "coords = np.vstack((train[['pickup_latitude', 'pickup_longitude']].values,\n",
        "                    train[['dropoff_latitude', 'dropoff_longitude']].values))\n",
        "\n",
        "sample_ind = np.random.permutation(len(coords))[:500000]\n",
        "kmeans = MiniBatchKMeans(n_clusters=100, batch_size=10000).fit(coords[sample_ind])"
      ],
      "metadata": {
        "id": "VSlJavq7WAVL"
      },
      "execution_count": null,
      "outputs": []
    },
    {
      "cell_type": "markdown",
      "source": [
        "* `pickup_cluster`, `dropoff_cluster`: group of nearest/similar pick-up and drop-off latitudes and longitudes ==> We assume that location in that group has the same traffic and has the same impact on trip duration."
      ],
      "metadata": {
        "id": "h9fPVqMxbpR9"
      }
    },
    {
      "cell_type": "code",
      "source": [
        "train.loc[:, 'pickup_cluster'] = kmeans.predict(train[['pickup_latitude', 'pickup_longitude']])\n",
        "train.loc[:, 'dropoff_cluster'] = kmeans.predict(train[['dropoff_latitude', 'dropoff_longitude']])\n",
        "\n",
        "test.loc[:, 'pickup_cluster'] = kmeans.predict(test[['pickup_latitude', 'pickup_longitude']])\n",
        "test.loc[:, 'dropoff_cluster'] = kmeans.predict(test[['dropoff_latitude', 'dropoff_longitude']])"
      ],
      "metadata": {
        "id": "n3aXLPo3WAYn"
      },
      "execution_count": null,
      "outputs": []
    },
    {
      "cell_type": "markdown",
      "source": [
        "#### Calculate area's speed and number of trips (from Beluga's notebook)"
      ],
      "metadata": {
        "id": "ybP_N2DpofqB"
      }
    },
    {
      "cell_type": "markdown",
      "source": [
        "* New features of speed (use average speed of haversine distance) groups by: `hour` - `pickup_cluster`, `hour` - `dropoff_cluster`, `pickup_cluster` - `dropoff_cluster`.\n",
        "* To avoid learning model being overfitted, we only keep the shared values of each group with a count over 100.\n",
        "* Average speed of haversine distance is calculated on the train set so that the test set does not leak.\n",
        "\n",
        "* `avg_speed_h_hour_pickup_cluster`, `avg_speed_h_hour_dropoff_cluster`, `avg_speed_h_pickup_cluster_dropoff_cluster`: because **t = s/v**. Estimate the average speed based on pickup hour, pickup and dropoff clusters. These values are calculated using `avg_speed_h`. Although the `avg_speed_h` is invalid due to using the target column, these values are the average of group by and not directly inferred from them => we can assume these as an estimation for speed => used to predict the trip duration. \n",
        "\n",
        "* `cnt_hour_pickup_cluster`, `cnt_hour_dropoff_cluster`, `cnt_pickup_cluster_dropoff_cluster`: the number of trips in each attribute pair => affects the travel time because it shows how crowded the traffic is at the hour of pick-up, pick-up and drop-off area => used to predict the trip duration."
      ],
      "metadata": {
        "id": "tImcclYevC1H"
      }
    },
    {
      "cell_type": "code",
      "source": [
        "for gby_cols in [['hour', 'pickup_cluster'],  ['hour', 'dropoff_cluster'], ['pickup_cluster', 'dropoff_cluster']]:\n",
        "    # harvasine\n",
        "    coord_speed_h = train.groupby(gby_cols).mean()[['avg_speed_h']].reset_index()\n",
        "    coord_count = train.groupby(gby_cols).count()[['id']].reset_index()\n",
        "    coord_stats = pd.merge(coord_speed_h, coord_count, on=gby_cols)\n",
        "    coord_stats = coord_stats[coord_stats['id'] > 100]\n",
        "    coord_stats.columns = gby_cols + ['avg_speed_h_%s' % '_'.join(gby_cols), 'cnt_%s' %  '_'.join(gby_cols)]\n",
        "    train = pd.merge(train, coord_stats, how='left', on=gby_cols)\n",
        "    test = pd.merge(test, coord_stats, how='left', on=gby_cols)"
      ],
      "metadata": {
        "id": "k9RETOOe124j"
      },
      "execution_count": null,
      "outputs": []
    },
    {
      "cell_type": "code",
      "source": [
        "for gby_cols in [['hour', 'pickup_cluster'],  ['hour', 'dropoff_cluster'], ['pickup_cluster', 'dropoff_cluster']]:\n",
        "    # manhattan\n",
        "    coord_speed_m = train.groupby(gby_cols).mean()[['avg_speed_m']].reset_index()\n",
        "    coord_count = train.groupby(gby_cols).count()[['id']].reset_index()\n",
        "    coord_stats = pd.merge(coord_speed_m, coord_count, on=gby_cols)\n",
        "    coord_stats = coord_stats[coord_stats['id'] > 100]\n",
        "    coord_stats.columns = gby_cols + ['avg_speed_m_%s' % '_'.join(gby_cols), 'cnt_%s' %  '_'.join(gby_cols)]\n",
        "    train = pd.merge(train, coord_stats, how='left', on=gby_cols)\n",
        "    test = pd.merge(test, coord_stats, how='left', on=gby_cols)"
      ],
      "metadata": {
        "id": "ESz5dVC5rG6y"
      },
      "execution_count": null,
      "outputs": []
    },
    {
      "cell_type": "code",
      "source": [
        "num_cols = list(train.select_dtypes(exclude='object').columns)\n",
        "cate_cols = list(train.select_dtypes(include='object').columns)"
      ],
      "metadata": {
        "id": "uJqdc6WgkRZR"
      },
      "execution_count": null,
      "outputs": []
    },
    {
      "cell_type": "markdown",
      "source": [
        "### Visualize data"
      ],
      "metadata": {
        "id": "BsIawMQJTjaI"
      }
    },
    {
      "cell_type": "markdown",
      "source": [
        "#### Histogram all numberic columns"
      ],
      "metadata": {
        "id": "p751lkE3Sg4_"
      }
    },
    {
      "cell_type": "code",
      "source": [
        "train[num_cols].hist(figsize=(20, 15), bins = 50)\n",
        "plt.show()"
      ],
      "metadata": {
        "id": "FShd81bnQ9I4",
        "outputId": "a401a381-08ae-4f53-ec8f-33e932e450ff",
        "colab": {
          "base_uri": "https://localhost:8080/",
          "height": 879
        }
      },
      "execution_count": null,
      "outputs": [
        {
          "output_type": "display_data",
          "data": {
            "text/plain": [
              "<Figure size 1440x1080 with 30 Axes>"
            ],
            "image/png": "[encoded data removed]"
          },
          "metadata": {
            "needs_background": "light"
          }
        }
      ]
    },
    {
      "cell_type": "markdown",
      "source": [
        "\n",
        "* Scatter of each numeric column for the number of each value."
      ],
      "metadata": {
        "id": "AWNmLFBZSoBN"
      }
    },
    {
      "cell_type": "code",
      "source": [
        "def draw_chart(df, fig_size = (15,15)):\n",
        "    temp = list(df.columns)\n",
        "    figure, axis = plt.subplots(len(temp)//2 if len(temp) % 2 == 0 else len(temp)//2 + 1, 2, figsize = fig_size)\n",
        "    color = ['#582f0e','#936639','#f3722c','#c2c5aa','#414833','#457b9d','#ffb703','#e63946', '#c77dff','#55a630','#f72585','#ffa69e','#4d908e','#7f5539','#b5e48c','#b6ad90','#38b000','#a84c32','#a84c32','#471f13','#8c842d','#408061']\n",
        "    for i, col in enumerate(temp):\n",
        "        t = df[col].value_counts()\n",
        "        axis[i//2, i%2].scatter(list(t.index), t.values, color = color[i])\n",
        "        axis[i//2, i%2].set_title(col)\n",
        "    if len(temp) %2 !=0:\n",
        "        figure.delaxes(axis[len(temp)//2,1])\n",
        "    plt.subplots_adjust(top = 0.99, bottom=0.01, hspace=0.5, wspace=0.4)\n",
        "    plt.show()"
      ],
      "metadata": {
        "id": "T-tAkhqMRfy2"
      },
      "execution_count": null,
      "outputs": []
    },
    {
      "cell_type": "code",
      "source": [
        "# draw_chart(train[num_cols], (16,25));"
      ],
      "metadata": {
        "id": "rOVtC9jZRqvO"
      },
      "execution_count": null,
      "outputs": []
    },
    {
      "cell_type": "markdown",
      "source": [
        " **Comment**:\n",
        "\n",
        "- pickup_longtitude, pickup_latitude, dropoff_longtitude, dropoff_latitude have some values which dominate because in this problem we focus on New York city.\n",
        "- People in New York tends to go alone (passenger = 1)\n",
        "- pick_month: in March, the number of people using Taxi is the highest.\n",
        "- hour: less people uses Taxi at 5am and more at 16-20pm.\n",
        "- day_of_week: on Monday and Sunday, less people uses Taxi\n",
        "- day_of_month: at the end of a month, the number of human using Taxi decreases.\n",
        "- 2 types of distance and average speed have no much different.\n",
        "- Trip duration is calcuated by second so the range is quite big (1e6) and there are some values that occur most of the time."
      ],
      "metadata": {
        "id": "y-s7n0CIRbB8"
      }
    },
    {
      "cell_type": "markdown",
      "source": [
        "#### Trip duration column"
      ],
      "metadata": {
        "id": "bbggKn2OOuCe"
      }
    },
    {
      "cell_type": "code",
      "source": [
        "train_log_trip_duration = np.log(train['trip_duration'].values + 1)\n",
        "plt.hist(train_log_trip_duration, bins=100)\n",
        "plt.xlabel('log(trip_duration)')\n",
        "plt.ylabel('number of train records')\n",
        "plt.show()"
      ],
      "metadata": {
        "id": "UP1YPqf-LPu5",
        "outputId": "b4fa22de-4444-463f-ca7b-1a73f8f6b31f",
        "colab": {
          "base_uri": "https://localhost:8080/",
          "height": 878
        }
      },
      "execution_count": null,
      "outputs": [
        {
          "output_type": "display_data",
          "data": {
            "text/plain": [
              "<Figure size 1440x1080 with 1 Axes>"
            ],
            "image/png": "[encoded data removed]"
          },
          "metadata": {
            "needs_background": "light"
          }
        }
      ]
    },
    {
      "cell_type": "markdown",
      "source": [
        "### Choose columns affect trip duration\n"
      ],
      "metadata": {
        "id": "w0FHCnrUNj76"
      }
    },
    {
      "cell_type": "code",
      "source": [
        "print(len(train.columns)) \n",
        "train.columns"
      ],
      "metadata": {
        "outputId": "07212544-acb6-46d7-a807-8b4d3496eff3",
        "id": "ceYWp6PrN6kA",
        "colab": {
          "base_uri": "https://localhost:8080/"
        }
      },
      "execution_count": null,
      "outputs": [
        {
          "output_type": "stream",
          "name": "stdout",
          "text": [
            "31\n"
          ]
        },
        {
          "output_type": "execute_result",
          "data": {
            "text/plain": [
              "Index(['id', 'vendor_id', 'passenger_count', 'pickup_longitude',\n",
              "       'pickup_latitude', 'dropoff_longitude', 'dropoff_latitude',\n",
              "       'trip_duration', 'pick_month', 'hour', 'day_of_month', 'day_of_week',\n",
              "       'distance_haversine', 'distance_manhattan', 'direction', 'avg_speed_h',\n",
              "       'avg_speed_m', 'pickup_cluster', 'dropoff_cluster',\n",
              "       'avg_speed_h_hour_pickup_cluster', 'cnt_hour_pickup_cluster_x',\n",
              "       'avg_speed_h_hour_dropoff_cluster', 'cnt_hour_dropoff_cluster_x',\n",
              "       'avg_speed_h_pickup_cluster_dropoff_cluster',\n",
              "       'cnt_pickup_cluster_dropoff_cluster_x',\n",
              "       'avg_speed_m_hour_pickup_cluster', 'cnt_hour_pickup_cluster_y',\n",
              "       'avg_speed_m_hour_dropoff_cluster', 'cnt_hour_dropoff_cluster_y',\n",
              "       'avg_speed_m_pickup_cluster_dropoff_cluster',\n",
              "       'cnt_pickup_cluster_dropoff_cluster_y'],\n",
              "      dtype='object')"
            ]
          },
          "metadata": {},
          "execution_count": 46
        }
      ]
    },
    {
      "cell_type": "markdown",
      "source": [
        "* **The effect of each column on predicting trip_duration**:\n",
        "    * `id`: id of trip => does not related to trip duration => do not use to predict trip duration.\n",
        "       \n",
        "    * Features from pickup_datetime: `pick_month`, `hour`, `day_of_month`, `day_of_week`: this is the basic information of time => Based on those, ***we can know on which time, the number of vehicles will increase***. We do not add minute column because this column is too detail or that can be known by other previous added columns => Feed to model.\n",
        "    \n",
        "    * `avg_speed_h`, `avg_speed_m`: do not use these columns to predict the trip duration because they are calculated based on the target column.\n",
        "\n",
        "=> Features will be rejected: `id`, `trip_duration`, `avg_speed_h`,`avg_speed_m`.\n"
      ],
      "metadata": {
        "id": "tIsXE08pN6kB"
      }
    },
    {
      "cell_type": "code",
      "source": [
        "train = train.drop(columns = ['avg_speed_h',\"avg_speed_m\"], axis =0 )"
      ],
      "metadata": {
        "id": "Xqr_nOE0clOy"
      },
      "execution_count": null,
      "outputs": []
    },
    {
      "cell_type": "code",
      "source": [
        "# Duplicate count trips column from mahattan distance\n",
        "train = train.drop(columns = ['cnt_hour_pickup_cluster_y',\"cnt_hour_dropoff_cluster_y\", \"cnt_pickup_cluster_dropoff_cluster_y\"])\n",
        "test = test.drop(columns = ['cnt_hour_pickup_cluster_y',\"cnt_hour_dropoff_cluster_y\", \"cnt_pickup_cluster_dropoff_cluster_y\"])"
      ],
      "metadata": {
        "id": "MiLycnBZ6QKM"
      },
      "execution_count": null,
      "outputs": []
    },
    {
      "cell_type": "code",
      "source": [
        "%cd /content/drive/MyDrive/CSC14115 - KHDLUD/WEEK/Split_code"
      ],
      "metadata": {
        "colab": {
          "base_uri": "https://localhost:8080/"
        },
        "id": "fqQp-PpHr0mH",
        "outputId": "2f1a0ed6-fc38-448f-deef-c367caf776b8"
      },
      "execution_count": null,
      "outputs": [
        {
          "output_type": "stream",
          "name": "stdout",
          "text": [
            "/content/drive/.shortcut-targets-by-id/1X9WZOvukNSK-VHf1Vue6YDbHXMF8g2rc/CSC14115 - KHDLUD/WEEK/Split_code\n"
          ]
        }
      ]
    },
    {
      "cell_type": "code",
      "source": [
        "# Write features_train.csv\n",
        "# Write features_test.csv\n",
        "\n",
        "train.to_csv('features_train.csv', index=False)\n",
        "test.to_csv('features_test.csv', index=False)"
      ],
      "metadata": {
        "id": "FlL6SKIbPfm-"
      },
      "execution_count": null,
      "outputs": []
    },
    {
      "cell_type": "code",
      "source": [
        ""
      ],
      "metadata": {
        "id": "eULQPF7BhvUW"
      },
      "execution_count": null,
      "outputs": []
    }
  ]
}